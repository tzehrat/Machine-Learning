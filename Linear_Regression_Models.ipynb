{
 "cells": [
  {
   "cell_type": "markdown",
   "id": "bb118372-92a6-47dc-be13-d2177738e7d9",
   "metadata": {
    "panel-layout": {
     "height": 428.1363830566406,
     "visible": true,
     "width": 100
    }
   },
   "source": [
    "# Basit Doğrusal Regresyon modelleri"
   ]
  },
  {
   "cell_type": "code",
   "execution_count": null,
   "id": "57cf60e6-66bc-473e-8f0d-c0e46194901c",
   "metadata": {
    "panel-layout": {
     "height": 180.9091033935547,
     "visible": true,
     "width": 100
    }
   },
   "outputs": [],
   "source": [
    "import pandas as pd\n",
    "df=pd.read_csv(\"c:/Users/beyra/Desktop/python_101/Advertising.csv\")\n",
    "df=df.iloc[:,1:len(df)]\n",
    "df.head()"
   ]
  },
  {
   "cell_type": "code",
   "execution_count": null,
   "id": "a89bbe4a-ff62-4816-a64a-71d3e98d89d9",
   "metadata": {
    "panel-layout": {
     "height": 0,
     "visible": true,
     "width": 100
    }
   },
   "outputs": [],
   "source": [
    "df.info()"
   ]
  },
  {
   "cell_type": "code",
   "execution_count": null,
   "id": "c7941426-b795-49bc-ad06-563f0a36bb63",
   "metadata": {},
   "outputs": [],
   "source": [
    "import seaborn as sns"
   ]
  },
  {
   "cell_type": "code",
   "execution_count": null,
   "id": "96487848-e224-408e-a35c-a6f65f058dd9",
   "metadata": {},
   "outputs": [],
   "source": [
    "sns.jointplot(x=\"TV\",y=\"Sales\",data=df,kind=\"reg\");"
   ]
  },
  {
   "cell_type": "code",
   "execution_count": null,
   "id": "bd84da92-440f-4db9-afa2-e3b7a5965859",
   "metadata": {},
   "outputs": [],
   "source": [
    "from sklearn.linear_model import LinearRegression"
   ]
  },
  {
   "cell_type": "code",
   "execution_count": null,
   "id": "ea27d8a4-e34d-4e7e-ba60-d96ab3cba4f9",
   "metadata": {},
   "outputs": [],
   "source": [
    "X=df[[\"TV\"]]"
   ]
  },
  {
   "cell_type": "code",
   "execution_count": null,
   "id": "641835dc-c6a6-4bbc-b105-afe6d94e5492",
   "metadata": {
    "panel-layout": {
     "height": 1054.9091796875,
     "visible": true,
     "width": 100
    }
   },
   "outputs": [],
   "source": [
    "X.head()"
   ]
  },
  {
   "cell_type": "code",
   "execution_count": null,
   "id": "8174c42e-0315-40eb-854b-b318e4a3757e",
   "metadata": {},
   "outputs": [],
   "source": [
    "y=df[[\"Sales\"]]"
   ]
  },
  {
   "cell_type": "code",
   "execution_count": null,
   "id": "0da2d290-c591-467c-a285-1f021067ee8d",
   "metadata": {},
   "outputs": [],
   "source": [
    "reg= LinearRegression() #model nesnesi olüştğurma"
   ]
  },
  {
   "cell_type": "code",
   "execution_count": null,
   "id": "336dd52c-8869-4f30-8767-71b715a715e0",
   "metadata": {},
   "outputs": [],
   "source": [
    "model=reg.fit(X,y) # model kurma işlemi "
   ]
  },
  {
   "cell_type": "code",
   "execution_count": null,
   "id": "a8468eaa-3c0a-4d9d-9e55-aec3779686f4",
   "metadata": {
    "panel-layout": {
     "height": 974.9318237304688,
     "visible": true,
     "width": 100
    }
   },
   "outputs": [],
   "source": [
    "model"
   ]
  },
  {
   "cell_type": "code",
   "execution_count": null,
   "id": "12db09fc-2c5f-4454-be3c-4596d17b58ad",
   "metadata": {
    "panel-layout": {
     "height": 1216.45458984375,
     "visible": true,
     "width": 100
    }
   },
   "outputs": [],
   "source": [
    "str(model)"
   ]
  },
  {
   "cell_type": "code",
   "execution_count": null,
   "id": "4ee41be8-1609-4916-8565-0db5dae4e845",
   "metadata": {
    "panel-layout": {
     "height": 2157.022705078125,
     "visible": true,
     "width": 100
    }
   },
   "outputs": [],
   "source": [
    "dir(model)"
   ]
  },
  {
   "cell_type": "code",
   "execution_count": null,
   "id": "8c41fe7a-c773-4c5d-bcaf-01c5de6aca23",
   "metadata": {
    "panel-layout": {
     "height": 942.7727661132812,
     "visible": true,
     "width": 100
    }
   },
   "outputs": [],
   "source": [
    "model.intercept_  #beta0 değeri"
   ]
  },
  {
   "cell_type": "code",
   "execution_count": null,
   "id": "69c5e285-ab26-4649-be6f-2facc04f0e49",
   "metadata": {
    "panel-layout": {
     "height": 901.1364135742188,
     "visible": true,
     "width": 100
    }
   },
   "outputs": [],
   "source": [
    "model.coef_ # beta1 değeri"
   ]
  },
  {
   "cell_type": "code",
   "execution_count": null,
   "id": "56f7308b-99a8-4b4d-ae8b-d6be6486f348",
   "metadata": {
    "panel-layout": {
     "height": 901.1364135742188,
     "visible": true,
     "width": 100
    }
   },
   "outputs": [],
   "source": [
    "# r kare bağımlı değişkendeki değişikliğin bagımsız değişkenlerle açıklama yüzdesidir.satışlardaki değişikliğin %60i bağımsız değişkenerle açıkalnıyor\n",
    "model.score(X,y)"
   ]
  },
  {
   "cell_type": "markdown",
   "id": "e3ba639f-4b6c-435e-9dd2-361f78643b09",
   "metadata": {
    "panel-layout": {
     "height": 197.7386474609375,
     "visible": true,
     "width": 100
    }
   },
   "source": [
    "# Basit doğrusal Regresyon Tahmin"
   ]
  },
  {
   "cell_type": "code",
   "execution_count": null,
   "id": "5b926912-1acf-410a-a7ae-dc61756cac73",
   "metadata": {},
   "outputs": [],
   "source": [
    "import seaborn as sns\n",
    "import matplotlib.pyplot as plt"
   ]
  },
  {
   "cell_type": "code",
   "execution_count": null,
   "id": "c1c943d9-198a-4cfd-a107-9c5cd918cc9f",
   "metadata": {},
   "outputs": [],
   "source": [
    "g=sns.regplot(x=\"TV\", y=\"Sales\", data=df, ci=None, scatter_kws={'color':'r', 's':9})\n",
    "g.set_title(\"Model Denklemi:Sales=7.03+TV*0.05\")\n",
    "g.set_ylabel(\"Satış Sayısı\")\n",
    "g.set_xlabel(\"TV Harcamaları\")\n",
    "plt.xlim(-10,310)\n",
    "plt.ylim(bottom=0);\n",
    "# mavi çizgi model denklemi"
   ]
  },
  {
   "cell_type": "code",
   "execution_count": null,
   "id": "b73a7b8f-197d-4453-a265-ac4bac071536",
   "metadata": {},
   "outputs": [],
   "source": [
    "model.predict([[165]]) #tahmin et"
   ]
  },
  {
   "cell_type": "code",
   "execution_count": null,
   "id": "2da1b960-1407-43de-aed7-5750ba18a12a",
   "metadata": {},
   "outputs": [],
   "source": [
    "# yada şunu yapabilirsin b0+b1*Xi\n",
    "model.intercept_ + model.coef_*165"
   ]
  },
  {
   "cell_type": "code",
   "execution_count": null,
   "id": "dcc48967-d10f-4afc-af5b-3d4948608456",
   "metadata": {},
   "outputs": [],
   "source": [
    "yeni_veri=[[5],[615],[500]]"
   ]
  },
  {
   "cell_type": "code",
   "execution_count": null,
   "id": "d54a661b-43c5-45a1-969b-0c8541e8ee77",
   "metadata": {},
   "outputs": [],
   "source": [
    "model.predict(yeni_veri)"
   ]
  },
  {
   "cell_type": "code",
   "execution_count": null,
   "id": "9f1fb366-ba9e-4016-b046-764879d07c72",
   "metadata": {},
   "outputs": [],
   "source": [
    "model.intercept_ + model.coef_*yeni_veri"
   ]
  },
  {
   "cell_type": "markdown",
   "id": "3419c219-8245-4727-9412-b607f0ae5088",
   "metadata": {},
   "source": [
    "## ARTIKLAR VE MAKİNE ÖĞRENMESİNDEKİ ÖNEMİ\n",
    "### MSE : Hata Kareler Ortalaması\n",
    "### RMSE : Hata Kareler Ortalamasının Karekökü"
   ]
  },
  {
   "cell_type": "code",
   "execution_count": null,
   "id": "32470f34-bb5a-4a5f-9878-84ade43afca0",
   "metadata": {},
   "outputs": [],
   "source": [
    "y.head()"
   ]
  },
  {
   "cell_type": "code",
   "execution_count": null,
   "id": "e3886913-e45d-496f-ac60-c0e4700a7e70",
   "metadata": {},
   "outputs": [],
   "source": [
    "model.predict(X)[0:6]"
   ]
  },
  {
   "cell_type": "code",
   "execution_count": null,
   "id": "bb36ad97-921e-4607-960a-4b062624088d",
   "metadata": {},
   "outputs": [],
   "source": [
    "gercek_y=y[0:10]"
   ]
  },
  {
   "cell_type": "code",
   "execution_count": null,
   "id": "64c9ead4-02b8-4f0a-8b0d-4539f58d4e82",
   "metadata": {},
   "outputs": [],
   "source": [
    "tahmin_edilen_y=pd.DataFrame(model.predict(X)[0:10])"
   ]
  },
  {
   "cell_type": "code",
   "execution_count": null,
   "id": "17fa04a2-6c7d-482e-b816-085120a0c9a9",
   "metadata": {},
   "outputs": [],
   "source": [
    "hatalar=pd.concat([gercek_y,tahmin_edilen_y],axis=1)"
   ]
  },
  {
   "cell_type": "code",
   "execution_count": null,
   "id": "acc590ad-de7c-4ad5-868f-fcb247afbf3e",
   "metadata": {},
   "outputs": [],
   "source": [
    "hatalar.columns=[\"gercek_y\",\"Tahminedilen_y\"]"
   ]
  },
  {
   "cell_type": "code",
   "execution_count": null,
   "id": "4f4e546e-6ff2-432d-9ed4-b99c8bc6c51d",
   "metadata": {},
   "outputs": [],
   "source": [
    "hatalar"
   ]
  },
  {
   "cell_type": "code",
   "execution_count": null,
   "id": "9dfa7cfd-16fb-40ea-8055-3f96aafa12f2",
   "metadata": {},
   "outputs": [],
   "source": [
    "hatalar[\"artık\"]=hatalar[\"gercek_y\"]- hatalar[\"Tahminedilen_y\"]"
   ]
  },
  {
   "cell_type": "code",
   "execution_count": null,
   "id": "d20751b9-57e6-44c5-9458-a653963d8a1a",
   "metadata": {},
   "outputs": [],
   "source": [
    "hatalar"
   ]
  },
  {
   "cell_type": "code",
   "execution_count": null,
   "id": "269191c4-0c18-488d-a898-b2b8a5fda5f7",
   "metadata": {},
   "outputs": [],
   "source": [
    "hatalar[\"hata_kareler\"]=hatalar[\"artık\"]**2"
   ]
  },
  {
   "cell_type": "code",
   "execution_count": null,
   "id": "90aa564e-c5ee-49be-8827-dba684006bf5",
   "metadata": {},
   "outputs": [],
   "source": [
    "hatalar"
   ]
  },
  {
   "cell_type": "code",
   "execution_count": null,
   "id": "0d90d8b2-e325-4009-a4cf-da70c3d3c780",
   "metadata": {},
   "outputs": [],
   "source": [
    "import numpy as np\n",
    "np.mean(hatalar[\"hata_kareler\"])  # ortalama hata "
   ]
  },
  {
   "cell_type": "markdown",
   "id": "c040df08-2596-40cc-b9a5-7e07b90ad9ef",
   "metadata": {
    "jp-MarkdownHeadingCollapsed": true
   },
   "source": [
    "## Statsmodel ile model kurmak"
   ]
  },
  {
   "cell_type": "code",
   "execution_count": null,
   "id": "1704f97a-a8cc-4eb5-bed8-44eb8fdca630",
   "metadata": {},
   "outputs": [],
   "source": [
    "import statsmodels.api as sm"
   ]
  },
  {
   "cell_type": "code",
   "execution_count": null,
   "id": "988c2132-ff24-4676-858b-07159f7fc67a",
   "metadata": {},
   "outputs": [],
   "source": [
    "X=df[[\"TV\",\"Radio\",\"Newspaper\"]]\n",
    "lm=sm.OLS(y,X) # model nesnesi oluşturdu"
   ]
  },
  {
   "cell_type": "code",
   "execution_count": null,
   "id": "bd2882f0-c21f-436a-abdc-78c202a9ef01",
   "metadata": {},
   "outputs": [],
   "source": [
    "model=lm.fit()"
   ]
  },
  {
   "cell_type": "code",
   "execution_count": null,
   "id": "9fcba334-289f-4967-8e56-28e925a9d874",
   "metadata": {},
   "outputs": [],
   "source": [
    "model.summary()"
   ]
  },
  {
   "cell_type": "markdown",
   "id": "b60751ee-ba86-4ff5-ae99-787987e47825",
   "metadata": {},
   "source": [
    "## scikit learn ile model kurma"
   ]
  },
  {
   "cell_type": "code",
   "execution_count": null,
   "id": "8973acd6-195b-4b1a-8be2-8e51c3e362d0",
   "metadata": {},
   "outputs": [],
   "source": [
    "lm=LinearRegression()"
   ]
  },
  {
   "cell_type": "code",
   "execution_count": null,
   "id": "370c0547-fbbf-4e9a-8a00-e697c462105b",
   "metadata": {},
   "outputs": [],
   "source": [
    "model=lm.fit(X,y)"
   ]
  },
  {
   "cell_type": "code",
   "execution_count": null,
   "id": "1509e577-2cef-4f23-8aaf-0c4d2b1a8e8f",
   "metadata": {},
   "outputs": [],
   "source": [
    "model.intercept_"
   ]
  },
  {
   "cell_type": "code",
   "execution_count": null,
   "id": "7846470c-c5b3-4269-a311-daec88f53883",
   "metadata": {},
   "outputs": [],
   "source": [
    "model.coef_"
   ]
  },
  {
   "cell_type": "markdown",
   "id": "0f09388f-6a9e-4224-b30d-c33d681d7c6a",
   "metadata": {},
   "source": [
    "## Tahmin\n",
    "\n",
    "#### sales= 2.94 + 0.045 * TV + 0.18 * Radio - 0.001 * Newspapaer "
   ]
  },
  {
   "cell_type": "markdown",
   "id": "2373798e-b1c6-4e98-9d75-e493616970cf",
   "metadata": {},
   "source": [
    "30 birim TV, 10 birim Radio, 40 birim Gazete alırsak ne olur satışlar."
   ]
  },
  {
   "cell_type": "code",
   "execution_count": null,
   "id": "8e63d4c7-e46b-4cca-ba68-788ff4426536",
   "metadata": {},
   "outputs": [],
   "source": [
    "2.94 + 0.045 * 30 + 0.18 * 10 - 0.001 * 40 "
   ]
  },
  {
   "cell_type": "code",
   "execution_count": null,
   "id": "12c2f313-afb1-4253-81f0-a6f0f4ee0b8e",
   "metadata": {},
   "outputs": [],
   "source": [
    "yeni_veri=[[30],[10],[40]]"
   ]
  },
  {
   "cell_type": "code",
   "execution_count": null,
   "id": "9f629dd3-cef5-4c55-8b28-c57c8628b7da",
   "metadata": {},
   "outputs": [],
   "source": [
    "import pandas as pd\n",
    "yeni_veri=pd.DataFrame(yeni_veri).T"
   ]
  },
  {
   "cell_type": "code",
   "execution_count": null,
   "id": "ab0dde4a-3f3c-412b-a14c-ba980baa2ca6",
   "metadata": {},
   "outputs": [],
   "source": [
    "yeni_veri"
   ]
  },
  {
   "cell_type": "code",
   "execution_count": null,
   "id": "bb76b52f-bdb1-47a9-bddd-042633943906",
   "metadata": {},
   "outputs": [],
   "source": [
    "model.predict(yeni_veri)"
   ]
  },
  {
   "cell_type": "markdown",
   "id": "f83084ba-e34e-4e31-b12a-cb7776784239",
   "metadata": {},
   "source": [
    "model başarısını değerlendirme"
   ]
  },
  {
   "cell_type": "code",
   "execution_count": null,
   "id": "7aaa6ae1-e7bf-4f34-ba04-a1498a30cd21",
   "metadata": {},
   "outputs": [],
   "source": [
    "from sklearn.metrics import mean_squared_error"
   ]
  },
  {
   "cell_type": "code",
   "execution_count": null,
   "id": "5350dbf4-278d-4023-a70f-2b338002ceb2",
   "metadata": {},
   "outputs": [],
   "source": [
    "y.head()"
   ]
  },
  {
   "cell_type": "code",
   "execution_count": null,
   "id": "ea7fad3b-2bb6-4ffc-a20b-f415c95b3b84",
   "metadata": {},
   "outputs": [],
   "source": [
    "model.predict(X)[0:10]"
   ]
  },
  {
   "cell_type": "code",
   "execution_count": null,
   "id": "2b11390b-9fd7-4b27-acac-a12f92486923",
   "metadata": {},
   "outputs": [],
   "source": [
    "MSE=mean_squared_error(y,model.predict(X))\n",
    "MSE"
   ]
  },
  {
   "cell_type": "code",
   "execution_count": null,
   "id": "1bc82b6b-d8b4-410c-ba87-79eb329e629f",
   "metadata": {},
   "outputs": [],
   "source": [
    "RMSE=np.sqrt(MSE)\n",
    "RMSE\n"
   ]
  },
  {
   "cell_type": "markdown",
   "id": "c1c867fa-a1de-4438-ab6c-7e4ce5928508",
   "metadata": {},
   "source": [
    "Model Doğrulama (Model Tunning)"
   ]
  },
  {
   "cell_type": "code",
   "execution_count": null,
   "id": "8047656f-a4de-41dd-aadb-b800b9551ee3",
   "metadata": {},
   "outputs": [],
   "source": [
    "X.head()"
   ]
  },
  {
   "cell_type": "code",
   "execution_count": null,
   "id": "fdc5d9bc-8a80-49a5-9cd1-da5382f25655",
   "metadata": {},
   "outputs": [],
   "source": [
    "y.head()"
   ]
  },
  {
   "cell_type": "code",
   "execution_count": null,
   "id": "7fdde3a1-3f25-4ac3-bdab-1be53228d83c",
   "metadata": {},
   "outputs": [],
   "source": [
    "# sınama seti\n",
    "from sklearn.model_selection import train_test_split \n"
   ]
  },
  {
   "cell_type": "code",
   "execution_count": null,
   "id": "7bbee7d5-9377-4c62-b959-744665ddddce",
   "metadata": {},
   "outputs": [],
   "source": [
    "X_train, X_test, y_train, y_test= train_test_split(X,y,test_size=0.20,random_state= 1)"
   ]
  },
  {
   "cell_type": "code",
   "execution_count": null,
   "id": "dfbfe9b0-1e5d-4d14-bc63-4c3cbca8e7f6",
   "metadata": {},
   "outputs": [],
   "source": [
    "X_train.head()\n"
   ]
  },
  {
   "cell_type": "code",
   "execution_count": null,
   "id": "216435b9-2686-41b9-9e39-788734eee62b",
   "metadata": {},
   "outputs": [],
   "source": [
    "y_train.head()"
   ]
  },
  {
   "cell_type": "code",
   "execution_count": null,
   "id": "8a54a305-5fa6-43ae-8de0-5484c366a82a",
   "metadata": {},
   "outputs": [],
   "source": [
    "X_test.head()"
   ]
  },
  {
   "cell_type": "code",
   "execution_count": null,
   "id": "40fe2788-c90e-4329-824a-b951c45e9a0c",
   "metadata": {},
   "outputs": [],
   "source": [
    "y_test.head()"
   ]
  },
  {
   "cell_type": "code",
   "execution_count": null,
   "id": "b40b8cd3-c54a-4330-a9aa-99854ec601fa",
   "metadata": {},
   "outputs": [],
   "source": [
    "lm=LinearRegression()"
   ]
  },
  {
   "cell_type": "code",
   "execution_count": null,
   "id": "20e95ee9-93e4-4e13-b6cf-a31f5a912da4",
   "metadata": {},
   "outputs": [],
   "source": [
    "model=lm.fit(X_train,y_train)"
   ]
  },
  {
   "cell_type": "code",
   "execution_count": null,
   "id": "bb270920-9af4-4261-a81b-b5a10be91e8d",
   "metadata": {},
   "outputs": [],
   "source": [
    "#eğitim hatası\n",
    "\n",
    "np.sqrt(mean_squared_error(y_train,model.predict(X_train)))"
   ]
  },
  {
   "cell_type": "code",
   "execution_count": null,
   "id": "605c194f-3d41-4fe1-8d8a-97f749c7b677",
   "metadata": {},
   "outputs": [],
   "source": [
    "# test hatası\n",
    "np.sqrt(mean_squared_error(y_test,model.predict(X_test)))"
   ]
  },
  {
   "cell_type": "code",
   "execution_count": null,
   "id": "669755d4-69dc-4cd6-b218-e06bf0d65e2b",
   "metadata": {},
   "outputs": [],
   "source": [
    "# k-katlı cv\n",
    "from sklearn.model_selection import cross_val_score "
   ]
  },
  {
   "cell_type": "code",
   "execution_count": null,
   "id": "839983b1-5125-497f-bc71-b19ffbb4124c",
   "metadata": {},
   "outputs": [],
   "source": [
    "cross_val_score(model, X_train,y_train, cv=10, scoring=\"neg_mean_squared_error\")"
   ]
  },
  {
   "cell_type": "code",
   "execution_count": null,
   "id": "9821d2ea-7388-46a2-8c69-56e1b30dfd8f",
   "metadata": {},
   "outputs": [],
   "source": [
    "\n",
    "#cv ile elde edilmiş mse\n",
    "np.mean(-cross_val_score(model, X_train,y_train, cv=10, scoring=\"neg_mean_squared_error\"))"
   ]
  },
  {
   "cell_type": "code",
   "execution_count": null,
   "id": "24b1a0f4-8ce3-4261-b1c1-4d818bd3d1fc",
   "metadata": {},
   "outputs": [],
   "source": [
    "\n",
    "#cv ile elde edilmiş Rmse\n",
    "np.sqrt(np.mean(-cross_val_score(model, X_train,y_train, cv=10, scoring=\"neg_mean_squared_error\")))"
   ]
  },
  {
   "cell_type": "markdown",
   "id": "d134ae2c-6d8d-4237-9289-2f3d215875e0",
   "metadata": {},
   "source": [
    "# Ridge Regresyon\n",
    "\n",
    "\n",
    "### Gerekli Kütüphaneler"
   ]
  },
  {
   "cell_type": "code",
   "execution_count": null,
   "id": "2ab14002-a2c3-4cb2-83cb-9e5f048f5e3b",
   "metadata": {},
   "outputs": [],
   "source": [
    "import numpy as np\n",
    "import pandas as pd\n",
    "from sklearn.linear_model import Ridge\n",
    "from sklearn.model_selection import train_test_split\n",
    "from sklearn.metrics import mean_squared_error,r2_score\n",
    "from sklearn import model_selection\n",
    "import matplotlib.pyplot as plt\n",
    "from sklearn.linear_model import RidgeCV"
   ]
  },
  {
   "cell_type": "code",
   "execution_count": null,
   "id": "52f5e329-d954-4297-a6b3-b217bb8161c9",
   "metadata": {},
   "outputs": [],
   "source": [
    "df= pd.read_csv(\"C:/Users/beyra/Desktop/python_101/Hitters.csv\")\n",
    "df=df.dropna()\n",
    "dms= pd.get_dummies(df[[\"League\",\"Division\",\"NewLeague\"]])\n",
    "y=df[\"Salary\"]\n",
    "X_=df.drop([\"Salary\",\"League\",\"Division\",\"NewLeague\"],axis=1).astype(\"float64\")\n",
    "X=pd.concat([X_,dms[[\"League_N\",\"Division_W\",\"NewLeague_N\"]]],axis=1)\n",
    "X_train, X_test, y_train, y_test=train_test_split(X,y,test_size=0.25,random_state=42)\n"
   ]
  },
  {
   "cell_type": "code",
   "execution_count": null,
   "id": "433a9740-d57b-414c-8275-542d0ba809d0",
   "metadata": {},
   "outputs": [],
   "source": [
    "df.head()"
   ]
  },
  {
   "cell_type": "code",
   "execution_count": null,
   "id": "8b51622d-7fbb-40b7-b707-7818885aa2f6",
   "metadata": {},
   "outputs": [],
   "source": [
    "df.shape"
   ]
  },
  {
   "cell_type": "code",
   "execution_count": null,
   "id": "40cefc36-c5c1-4add-9738-90cbfa6e3bc8",
   "metadata": {},
   "outputs": [],
   "source": [
    "ridge_model=Ridge(alpha=0.1).fit(X_train, y_train)"
   ]
  },
  {
   "cell_type": "code",
   "execution_count": null,
   "id": "d51250fc-8df8-4545-ad30-5decb85510b9",
   "metadata": {},
   "outputs": [],
   "source": [
    "ridge_model"
   ]
  },
  {
   "cell_type": "code",
   "execution_count": null,
   "id": "6172a363-4f60-4c4c-8d10-697c448ad8db",
   "metadata": {},
   "outputs": [],
   "source": [
    "ridge_model.coef_"
   ]
  },
  {
   "cell_type": "code",
   "execution_count": null,
   "id": "a4140228-c24b-4dc8-8d33-c32ce570d1bb",
   "metadata": {},
   "outputs": [],
   "source": [
    "ridge_model.intercept_"
   ]
  },
  {
   "cell_type": "code",
   "execution_count": 87,
   "id": "89aa4343-e705-489b-907f-46ea477b3250",
   "metadata": {
    "collapsed": true,
    "jupyter": {
     "outputs_hidden": true
    }
   },
   "outputs": [
    {
     "data": {
      "text/plain": [
       "array([10.        ,  9.87878788,  9.75757576,  9.63636364,  9.51515152,\n",
       "        9.39393939,  9.27272727,  9.15151515,  9.03030303,  8.90909091,\n",
       "        8.78787879,  8.66666667,  8.54545455,  8.42424242,  8.3030303 ,\n",
       "        8.18181818,  8.06060606,  7.93939394,  7.81818182,  7.6969697 ,\n",
       "        7.57575758,  7.45454545,  7.33333333,  7.21212121,  7.09090909,\n",
       "        6.96969697,  6.84848485,  6.72727273,  6.60606061,  6.48484848,\n",
       "        6.36363636,  6.24242424,  6.12121212,  6.        ,  5.87878788,\n",
       "        5.75757576,  5.63636364,  5.51515152,  5.39393939,  5.27272727,\n",
       "        5.15151515,  5.03030303,  4.90909091,  4.78787879,  4.66666667,\n",
       "        4.54545455,  4.42424242,  4.3030303 ,  4.18181818,  4.06060606,\n",
       "        3.93939394,  3.81818182,  3.6969697 ,  3.57575758,  3.45454545,\n",
       "        3.33333333,  3.21212121,  3.09090909,  2.96969697,  2.84848485,\n",
       "        2.72727273,  2.60606061,  2.48484848,  2.36363636,  2.24242424,\n",
       "        2.12121212,  2.        ,  1.87878788,  1.75757576,  1.63636364,\n",
       "        1.51515152,  1.39393939,  1.27272727,  1.15151515,  1.03030303,\n",
       "        0.90909091,  0.78787879,  0.66666667,  0.54545455,  0.42424242,\n",
       "        0.3030303 ,  0.18181818,  0.06060606, -0.06060606, -0.18181818,\n",
       "       -0.3030303 , -0.42424242, -0.54545455, -0.66666667, -0.78787879,\n",
       "       -0.90909091, -1.03030303, -1.15151515, -1.27272727, -1.39393939,\n",
       "       -1.51515152, -1.63636364, -1.75757576, -1.87878788, -2.        ])"
      ]
     },
     "execution_count": 87,
     "metadata": {},
     "output_type": "execute_result"
    }
   ],
   "source": [
    "np.linspace(10,-2,100)"
   ]
  },
  {
   "cell_type": "code",
   "execution_count": 89,
   "id": "65990c2a-525d-41c3-8749-b1cf174f87bb",
   "metadata": {},
   "outputs": [],
   "source": [
    "lambdalar=10**np.linspace(10,-2,100)*0.5"
   ]
  },
  {
   "cell_type": "code",
   "execution_count": 91,
   "id": "5629860c-504f-4111-998e-c79e1f518282",
   "metadata": {
    "collapsed": true,
    "jupyter": {
     "outputs_hidden": true
    }
   },
   "outputs": [
    {
     "data": {
      "text/plain": [
       "array([5.00000000e+09, 3.78231664e+09, 2.86118383e+09, 2.16438064e+09,\n",
       "       1.63727458e+09, 1.23853818e+09, 9.36908711e+08, 7.08737081e+08,\n",
       "       5.36133611e+08, 4.05565415e+08, 3.06795364e+08, 2.32079442e+08,\n",
       "       1.75559587e+08, 1.32804389e+08, 1.00461650e+08, 7.59955541e+07,\n",
       "       5.74878498e+07, 4.34874501e+07, 3.28966612e+07, 2.48851178e+07,\n",
       "       1.88246790e+07, 1.42401793e+07, 1.07721735e+07, 8.14875417e+06,\n",
       "       6.16423370e+06, 4.66301673e+06, 3.52740116e+06, 2.66834962e+06,\n",
       "       2.01850863e+06, 1.52692775e+06, 1.15506485e+06, 8.73764200e+05,\n",
       "       6.60970574e+05, 5.00000000e+05, 3.78231664e+05, 2.86118383e+05,\n",
       "       2.16438064e+05, 1.63727458e+05, 1.23853818e+05, 9.36908711e+04,\n",
       "       7.08737081e+04, 5.36133611e+04, 4.05565415e+04, 3.06795364e+04,\n",
       "       2.32079442e+04, 1.75559587e+04, 1.32804389e+04, 1.00461650e+04,\n",
       "       7.59955541e+03, 5.74878498e+03, 4.34874501e+03, 3.28966612e+03,\n",
       "       2.48851178e+03, 1.88246790e+03, 1.42401793e+03, 1.07721735e+03,\n",
       "       8.14875417e+02, 6.16423370e+02, 4.66301673e+02, 3.52740116e+02,\n",
       "       2.66834962e+02, 2.01850863e+02, 1.52692775e+02, 1.15506485e+02,\n",
       "       8.73764200e+01, 6.60970574e+01, 5.00000000e+01, 3.78231664e+01,\n",
       "       2.86118383e+01, 2.16438064e+01, 1.63727458e+01, 1.23853818e+01,\n",
       "       9.36908711e+00, 7.08737081e+00, 5.36133611e+00, 4.05565415e+00,\n",
       "       3.06795364e+00, 2.32079442e+00, 1.75559587e+00, 1.32804389e+00,\n",
       "       1.00461650e+00, 7.59955541e-01, 5.74878498e-01, 4.34874501e-01,\n",
       "       3.28966612e-01, 2.48851178e-01, 1.88246790e-01, 1.42401793e-01,\n",
       "       1.07721735e-01, 8.14875417e-02, 6.16423370e-02, 4.66301673e-02,\n",
       "       3.52740116e-02, 2.66834962e-02, 2.01850863e-02, 1.52692775e-02,\n",
       "       1.15506485e-02, 8.73764200e-03, 6.60970574e-03, 5.00000000e-03])"
      ]
     },
     "execution_count": 91,
     "metadata": {},
     "output_type": "execute_result"
    }
   ],
   "source": [
    "lambdalar"
   ]
  },
  {
   "cell_type": "code",
   "execution_count": null,
   "id": "ce5d75d2-2da5-42b8-97bc-99b8414f3f3d",
   "metadata": {},
   "outputs": [],
   "source": [
    "ridge_model=Ridge()"
   ]
  },
  {
   "cell_type": "code",
   "execution_count": 93,
   "id": "dcea1522-eef5-4891-80a3-7469633f6272",
   "metadata": {},
   "outputs": [],
   "source": [
    "katsayilar=[]\n",
    "\n",
    "for i in lambdalar:\n",
    "    ridge_model.set_params(alpha=i)\n",
    "    ridge_model.fit(X_train,y_train)\n",
    "    katsayilar.append(ridge_model.coef_)"
   ]
  },
  {
   "cell_type": "code",
   "execution_count": 94,
   "id": "0a50a8ea-df36-4efb-9d95-2c8edb7ccf16",
   "metadata": {
    "collapsed": true,
    "jupyter": {
     "outputs_hidden": true
    }
   },
   "outputs": [
    {
     "data": {
      "text/plain": [
       "[array([ 1.08705828e-03,  3.59972026e-04,  5.52181027e-05,  1.92813177e-04,\n",
       "         1.96696069e-04,  1.59478501e-04,  2.78199599e-05,  1.78978518e-02,\n",
       "         5.28448603e-03,  6.33684784e-04,  2.78574434e-03,  2.70578331e-03,\n",
       "         1.95710128e-03,  1.87423190e-03,  1.54040667e-04,  2.97933111e-06,\n",
       "         2.39984989e-07, -1.51804510e-06,  3.31089982e-07]),\n",
       " array([ 1.41677983e-03,  4.69820454e-04,  7.18242293e-05,  2.52218183e-04,\n",
       "         2.55763476e-04,  2.07728851e-04,  3.41731833e-05,  2.22675231e-02,\n",
       "         6.58971645e-03,  7.96723486e-04,  3.48283639e-03,  3.38849662e-03,\n",
       "         2.44474193e-03,  2.46055074e-03,  2.00411447e-04,  4.05879985e-06,\n",
       "         3.06791363e-07, -2.00697735e-06,  4.22750663e-07]),\n",
       " array([ 1.84180994e-03,  6.11797854e-04,  9.31516430e-05,  3.29313865e-04,\n",
       "         3.31574150e-04,  2.69862282e-04,  4.11993224e-05,  2.73092348e-02,\n",
       "         8.10613246e-03,  9.90615632e-04,  4.29892819e-03,  4.19154557e-03,\n",
       "         3.01420413e-03,  3.22598807e-03,  2.59998767e-04,  5.54696646e-06,\n",
       "         3.89590845e-07, -2.65335139e-06,  5.35999686e-07]),\n",
       " array([ 2.38835573e-03,  7.94911180e-04,  1.20464748e-04,  4.29197870e-04,\n",
       "         4.28587877e-04,  3.49672945e-04,  4.85735865e-05,  3.29487297e-02,\n",
       "         9.81901671e-03,  1.21671761e-03,  5.23061273e-03,  5.11427511e-03,\n",
       "         3.66208312e-03,  4.22364586e-03,  3.36365620e-04,  7.59686227e-06,\n",
       "         4.91353840e-07, -3.50777634e-06,  6.74604224e-07]),\n",
       " array([ 3.09009626e-03,  1.03077807e-03,  1.55382775e-04,  5.58473604e-04,\n",
       "         5.52508877e-04,  4.52038103e-04,  5.57795062e-05,  3.90401495e-02,\n",
       "         1.16953022e-02,  1.47539158e-03,  6.26651564e-03,  6.14928402e-03,\n",
       "         4.37897884e-03,  5.52205602e-03,  4.34090225e-04,  1.04109479e-05,\n",
       "         6.15653427e-07, -4.63702970e-06,  8.42961127e-07]),\n",
       " array([ 3.99078636e-03,  1.33452564e-03,  2.00008537e-04,  7.25754223e-04,\n",
       "         7.10738029e-04,  5.83304802e-04,  6.21041602e-05,  4.53725039e-02,\n",
       "         1.36860237e-02,  1.76653067e-03,  7.38894131e-03,  7.28417751e-03,\n",
       "         5.15056825e-03,  7.20959605e-03,  5.59142468e-04,  1.42511133e-05,\n",
       "         7.67085867e-07, -6.12914603e-06,  1.04655631e-06]),\n",
       " array([ 5.14774210e-03,  1.72599105e-03,  2.57103265e-04,  9.42329790e-04,\n",
       "         9.12986699e-04,  7.51813035e-04,  6.66592521e-05,  5.16922252e-02,\n",
       "         1.57335162e-02,  2.09064895e-03,  8.57804087e-03,  8.50573034e-03,\n",
       "         5.96044306e-03,  9.39987293e-03,  7.19400260e-04,  1.94483594e-05,\n",
       "         9.51936629e-07, -8.10006447e-06,  1.29268236e-06]),\n",
       " array([ 6.63625037e-03,  2.23124851e-03,  3.30309746e-04,  1.22301529e-03,\n",
       "         1.17205779e-03,  9.68565766e-04,  6.84187693e-05,  5.77371815e-02,\n",
       "         1.77820817e-02,  2.45041949e-03,  9.81789688e-03,  9.80588055e-03,\n",
       "         6.79427058e-03,  1.22378921e-02,  9.25318808e-04,  2.64114755e-05,\n",
       "         1.17910270e-06, -1.07022908e-05,  1.59137023e-06]),\n",
       " array([ 8.55483745e-03,  2.88445935e-03,  4.24420527e-04,  1.58718502e-03,\n",
       "         1.50477879e-03,  1.24804330e-03,  6.62540589e-05,  6.32720806e-02,\n",
       "         1.97893052e-02,  2.85238338e-03,  1.11031502e-02,  1.11882336e-02,\n",
       "         7.64428385e-03,  1.59064960e-02,  1.19075375e-03,  3.56332379e-05,\n",
       "         1.46126190e-06, -1.41361477e-05,  1.95642271e-06]),\n",
       " array([ 1.10312454e-02,  3.73002061e-03,  5.45684591e-04,  2.05998878e-03,\n",
       "         1.93305764e-03,  1.60915216e-03,  5.89463545e-05,  6.81144258e-02,\n",
       "         2.17349754e-02,  3.30852528e-03,  1.24446956e-02,  1.26736367e-02,\n",
       "         8.51303131e-03,  2.06320735e-02,  1.53393253e-03,  4.76905218e-05,\n",
       "         1.81630840e-06, -1.86643235e-05,  2.40641302e-06]),\n",
       " array([ 1.42288809e-02,  4.82496917e-03,  7.02143825e-04,  2.67373455e-03,\n",
       "         2.48502252e-03,  2.07629541e-03,  4.51663040e-05,  7.21446369e-02,\n",
       "         2.36258289e-02,  3.83753128e-03,  1.38736179e-02,  1.43039512e-02,\n",
       "         9.41577138e-03,  2.66878486e-02,  1.97856321e-03,  6.32307599e-05,\n",
       "         2.26916665e-06, -2.46305879e-05,  2.96553891e-06]),\n",
       " array([ 1.83533492e-02,  6.24156186e-03,  9.03986475e-04,  3.46940075e-03,\n",
       "         3.19618820e-03,  2.68054308e-03,  2.34244013e-05,  7.53005841e-02,\n",
       "         2.54962052e-02,  4.46571897e-03,  1.54434962e-02,  1.61439894e-02,\n",
       "         1.03815693e-02,  3.43920784e-02,  2.55505046e-03,  8.29312258e-05,\n",
       "         2.85425312e-06, -3.24837353e-05,  3.66428247e-06]),\n",
       " array([ 2.36583931e-02,  8.06987606e-03,  1.16389452e-03,  4.49819833e-03,\n",
       "         4.11055071e-03,  3.46085782e-03, -7.99178240e-06,  7.75617205e-02,\n",
       "         2.74060905e-02,  5.22774181e-03,  1.72319022e-02,  1.82821668e-02,\n",
       "         1.14536429e-02,  4.40972790e-02,  3.30173084e-03,  1.07409746e-04,\n",
       "         3.61908966e-06, -4.28080520e-05,  4.53991031e-06]),\n",
       " array([ 3.04501016e-02,  1.04201578e-02,  1.49734514e-03,  5.82303756e-03,\n",
       "         5.28144612e-03,  4.46529082e-03, -5.10715931e-05,  7.89293976e-02,\n",
       "         2.94384183e-02,  6.16716441e-03,  1.93421004e-02,  2.08305107e-02,\n",
       "         1.26896156e-02,  5.61654836e-02,  4.26591900e-03,  1.37056133e-04,\n",
       "         4.62994572e-06, -5.63619514e-05,  5.63701574e-06]),\n",
       " array([ 3.90877335e-02,  1.34245129e-02,  1.92280724e-03,  7.51967840e-03,\n",
       "         6.77193714e-03,  5.75201908e-03, -1.08103747e-04,  7.94085363e-02,\n",
       "         3.16971295e-02,  7.33690583e-03,  2.19057141e-02,  2.39243876e-02,\n",
       "         1.41621442e-02,  7.09243460e-02,  5.50434864e-03,  1.71744357e-04,\n",
       "         5.98103051e-06, -7.41269482e-05,  7.00870479e-06]),\n",
       " array([ 4.99790908e-02,  1.72374527e-02,  2.46176162e-03,  9.67728453e-03,\n",
       "         8.65444650e-03,  7.39007141e-03, -1.81647005e-04,  7.89933590e-02,\n",
       "         3.43069156e-02,  8.79941161e-03,  2.50867048e-02,  2.77219584e-02,\n",
       "         1.59600508e-02,  8.86010366e-02,  7.08228283e-03,  2.10379504e-04,\n",
       "         7.80986903e-06, -9.73700195e-05,  8.71990580e-06]),\n",
       " array([ 6.35683184e-02,  2.20348389e-02,  3.13847615e-03,  1.23980931e-02,\n",
       "         1.10093810e-02,  9.45961578e-03, -2.74433813e-04,  7.76577086e-02,\n",
       "         3.74152151e-02,  1.06262815e-02,  2.90865964e-02,  3.24031662e-02,\n",
       "         1.81897361e-02,  1.09236939e-01,  9.07018129e-03,  2.50236073e-04,\n",
       "         1.03233178e-05, -1.27723784e-04,  1.08559283e-05]),\n",
       " array([ 8.03144193e-02,  2.80109646e-02,  3.97948810e-03,  1.57959666e-02,\n",
       "         1.39225986e-02,  1.20517651e-02, -3.89198631e-04,  7.53491228e-02,\n",
       "         4.11970425e-02,  1.28969399e-02,  3.41504870e-02,  3.81680540e-02,\n",
       "         2.09762607e-02,  1.32596777e-01,  1.15364715e-02,  2.86060551e-04,\n",
       "         1.38414001e-05, -1.67290929e-04,  1.35420021e-05]),\n",
       " array([ 1.00659415e-01,  3.53737763e-02,  5.01276201e-03,  1.99936664e-02,\n",
       "         1.74817046e-02,  1.52679591e-02, -5.28428627e-04,  7.19852765e-02,\n",
       "         4.58634610e-02,  1.56957180e-02,  4.05729409e-02,  4.52341750e-02,\n",
       "         2.44629669e-02,  1.58098532e-01,  1.45349889e-02,  3.08943729e-04,\n",
       "         1.88697449e-05, -2.18781763e-04,  1.69829249e-05]),\n",
       " array([ 1.24985300e-01,  4.43383743e-02,  6.26646135e-03,  2.51186578e-02,\n",
       "         2.17711724e-02,  1.92189991e-02, -6.94031851e-04,  6.74515998e-02,\n",
       "         5.16745666e-02,  1.91063111e-02,  4.87021870e-02,  5.38323815e-02,\n",
       "         2.88077603e-02,  1.84798490e-01,  1.80865855e-02,  3.05013003e-04,\n",
       "         2.62154267e-05, -2.85696212e-04,  2.15353352e-05]),\n",
       " array([ 1.53558197e-01,  5.51187291e-02,  7.76715884e-03,  3.12970555e-02,\n",
       "         2.68660409e-02,  2.40236617e-02, -8.86898780e-04,  6.15998145e-02,\n",
       "         5.89572171e-02,  2.32019817e-02,  5.89401216e-02,  6.41990135e-02,\n",
       "         3.41732141e-02,  2.11459552e-01,  2.21569148e-02,  2.54044649e-04,\n",
       "         3.71643214e-05, -3.72563522e-04,  2.78270230e-05]),\n",
       " array([ 1.86457341e-01,  6.79172663e-02,  9.53716658e-03,  3.86451070e-02,\n",
       "         3.28235831e-02,  2.98066321e-02, -1.10629915e-03,  5.42486226e-02,\n",
       "         6.81259518e-02,  2.80294254e-02,  7.17346292e-02,  7.65608732e-02,\n",
       "         4.07069956e-02,  2.36706263e-01,  2.66367239e-02,  1.28145040e-04,\n",
       "         5.37390333e-05, -4.85254784e-04,  3.69363946e-05]),\n",
       " array([ 2.23488679e-01,  8.29124771e-02,  1.15906901e-02,  4.72579656e-02,\n",
       "         3.96724511e-02,  3.66957155e-02, -1.34902777e-03,  4.51891944e-02,\n",
       "         7.97025208e-02,  3.35848087e-02,  8.75603655e-02,  9.11090818e-02,\n",
       "         4.85098565e-02,  2.59234910e-01,  3.13359801e-02, -1.09311057e-04,\n",
       "         7.90531634e-05, -6.31387074e-04,  5.06394947e-05]),\n",
       " array([ 2.64091406e-01,  1.00247072e-01,  1.39289695e-02,  5.71971039e-02,\n",
       "         4.74001434e-02,  4.48194982e-02, -1.60821935e-03,  3.41983905e-02,\n",
       "         9.43255889e-02,  3.97832322e-02,  1.06885319e-01,  1.07961438e-01,\n",
       "         5.75920571e-02,  2.78020879e-01,  3.60055069e-02, -5.04310897e-04,\n",
       "         1.17769153e-04, -8.20846578e-04,  7.17218276e-05]),\n",
       " array([ 3.07259930e-01,  1.20023291e-01,  1.65355470e-02,  6.84805408e-02,\n",
       "         5.59422985e-02,  5.43089014e-02, -1.87179996e-03,  2.10611519e-02,\n",
       "         1.12738462e-01,  4.64280598e-02,  1.30123747e-01,  1.27121136e-01,\n",
       "         6.78260905e-02,  2.92464684e-01,  4.03947313e-02, -1.11239332e-03,\n",
       "         1.76654795e-04, -1.06647321e-03,  1.04339598e-04]),\n",
       " array([ 3.51515911e-01,  1.42315715e-01,  1.93739007e-02,  8.10827983e-02,\n",
       "         6.51800228e-02,  6.53084038e-02, -2.12059533e-03,  5.60078488e-03,\n",
       "         1.35740789e-01,  5.31920946e-02,  1.57580614e-01,  1.48449082e-01,\n",
       "         7.89114962e-02,  3.02442388e-01,  4.43389399e-02, -1.99879194e-03,\n",
       "         2.65224510e-04, -1.38496929e-03,  1.54405607e-04]),\n",
       " array([ 3.94963670e-01,  1.67212044e-01,  2.23900744e-02,  9.49519148e-02,\n",
       "         7.49518524e-02,  7.80032771e-02, -2.32611607e-03, -1.22861853e-02,\n",
       "         1.64092518e-01,  5.96238619e-02,  1.89396119e-01,  1.71669244e-01,\n",
       "         9.03706006e-02,  3.08260068e-01,  4.78484595e-02, -3.23949414e-03,\n",
       "         3.96457704e-04, -1.79811559e-03,  2.29979158e-04]),\n",
       " array([ 4.35440787e-01,  1.94886967e-01,  2.55218451e-02,  1.10047299e-01,\n",
       "         8.50833041e-02,  9.26665587e-02, -2.44796656e-03, -3.25937122e-02,\n",
       "         1.98367303e-01,  6.51849964e-02,  2.25498900e-01,  1.96414281e-01,\n",
       "         1.01586618e-01,  3.10538783e-01,  5.11581599e-02, -4.92458797e-03,\n",
       "         5.87619775e-04, -2.33439666e-03,  3.41667593e-04]),\n",
       " array([ 0.4707398 ,  0.22570501,  0.02871347,  0.12639534,  0.09542999,\n",
       "         0.10972413, -0.00243074, -0.05516994,  0.23876852,  0.06931006,\n",
       "         0.26557372,  0.2222951 ,  0.11187863,  0.31006874,  0.05470242,\n",
       "        -0.00716513,  0.00086127, -0.00303116,  0.0005031 ]),\n",
       " array([ 0.49884358,  0.26033979,  0.03193236,  0.14415252,  0.10592353,\n",
       "         0.12983066, -0.00220023, -0.07968271,  0.28494095,  0.07146667,\n",
       "         0.30904807,  0.24895963,  0.12059091,  0.30767017,  0.05901068,\n",
       "        -0.01010398,  0.00124662, -0.00393745,  0.0007316 ]),\n",
       " array([ 0.51810441,  0.29989425,  0.03518278,  0.16366201,  0.11660696,\n",
       "         0.15394607, -0.00165906, -0.10559393,  0.33582833,  0.07119222,\n",
       "         0.35510609,  0.27611091,  0.12716769,  0.30408785,  0.06455753,\n",
       "        -0.01392994,  0.00178144, -0.00511776,  0.00104922]),\n",
       " array([ 0.52731238,  0.34600997,  0.0385126 ,  0.18549005,  0.1276497 ,\n",
       "         0.18340272, -0.00068181, -0.13215709,  0.38963232,  0.06809583,\n",
       "         0.40274434,  0.30348383,  0.13119077,  0.29993061,  0.07162596,\n",
       "        -0.01889366,  0.00251475, -0.0066569 ,  0.00148436]),\n",
       " array([ 0.52563557,  0.40096129,  0.04201125,  0.21043195,  0.13933819,\n",
       "         0.21995563,  0.00088985, -0.15845442,  0.44391197,  0.06183284,\n",
       "         0.45088281,  0.33080995,  0.13237205,  0.2956528 ,  0.08023781,\n",
       "        -0.02532345,  0.00351064, -0.00866639,  0.00207418]),\n",
       " array([ 0.51245689,  0.46773416,  0.04579935,  0.23947869,  0.15204364,\n",
       "         0.26581035,  0.00325215, -0.18347884,  0.49582229,  0.05207147,\n",
       "         0.49852755,  0.35780758,  0.13050722,  0.29156508,  0.09017435,\n",
       "        -0.03363913,  0.00485343, -0.01129272,  0.00286803]),\n",
       " array([ 0.48716485,  0.55008855,  0.05001106,  0.27373331,  0.16616941,\n",
       "         0.32362115,  0.00664439, -0.20624638,  0.54243844,  0.03847238,\n",
       "         0.54495307,  0.38421156,  0.1254093 ,  0.28786002,  0.10106927,\n",
       "        -0.04436196,  0.00665481, -0.01472784,  0.00393228]),\n",
       " array([ 0.4489693 ,  0.65259294,  0.0547705 ,  0.31425899,  0.18207896,\n",
       "         0.39644748,  0.01135508, -0.22590778,  0.58107838,  0.02069636,\n",
       "         0.58985146,  0.40982593,  0.11684682,  0.28464147,  0.11252912,\n",
       "        -0.05811777,  0.00906349, -0.01922258,  0.00535701]),\n",
       " array([ 0.3968063 ,  0.78060342,  0.06016408,  0.36183375,  0.20000384,\n",
       "         0.48764781,  0.01772912, -0.24182798,  0.60954426, -0.00155238,\n",
       "         0.63339787,  0.4345655 ,  0.10451029,  0.28195087,  0.12423297,\n",
       "        -0.07562832,  0.01227822, -0.02510361,  0.00726512]),\n",
       " array([ 0.32937467,  0.9401416 ,  0.06621354,  0.41658487,  0.21993467,\n",
       "         0.60068406,  0.02617569, -0.25361874,  0.62624781, -0.02844544,\n",
       "         0.67621095,  0.45845871,  0.0880216 ,  0.27978824,  0.13598169,\n",
       "        -0.09768359,  0.01656543, -0.03279487,  0.00982478]),\n",
       " array([ 0.24531948,  1.13761151,  0.07286178,  0.4774922 ,  0.2415094 ,\n",
       "         0.73881463,  0.03717582, -0.2611302 ,  0.63023671, -0.05991964,\n",
       "         0.71922379,  0.48160498,  0.06698821,  0.27812741,  0.1476926 ,\n",
       "        -0.12508529,  0.02228264, -0.04284536,  0.01326611]),\n",
       " array([ 0.1435482 ,  1.37929734,  0.07999484,  0.54179368,  0.26393219,\n",
       "         0.90467818,  0.05128863, -0.26442052,  0.62116703, -0.0955613 ,\n",
       "         0.76350787,  0.50410208,  0.04109169,  0.27692596,  0.15935413,\n",
       "        -0.15855204,  0.02990935, -0.05596537,  0.0179032 ]),\n",
       " array([ 0.02363255,  1.67061387,  0.08753565,  0.60440494,  0.28597299,\n",
       "         1.09981641,  0.06915608, -0.26372195,  0.59926001, -0.13453482,\n",
       "         0.81009977,  0.52597367,  0.01019011,  0.27613096,  0.17096354,\n",
       "        -0.19858115,  0.04008731, -0.07307487,  0.0241626 ]),\n",
       " array([-0.11378671,  2.01514908,  0.09564972,  0.65756367,  0.30609314,\n",
       "         1.32423652,  0.0915081 , -0.2594123 ,  0.56525502, -0.17562381,\n",
       "         0.85987142,  0.54713291, -0.02559235,  0.27568181,  0.18246959,\n",
       "        -0.2452718 ,  0.05367214, -0.09536904,  0.0326191 ]),\n",
       " array([-0.26670385,  2.41363844,  0.10508862,  0.69098126,  0.32269376,\n",
       "         1.57613996,  0.11917122, -0.25199043,  0.52034556, -0.21743938,\n",
       "         0.91346331,  0.56741057, -0.06581575,  0.27551143,  0.19373753,\n",
       "        -0.29813006,  0.07179912, -0.12440747,  0.04403999]),\n",
       " array([-0.43167285,  2.86310628,  0.11765572,  0.6927572 ,  0.33439715,\n",
       "         1.85191019,  0.15308516, -0.24204868,  0.46608227, -0.25878513,\n",
       "         0.97127119,  0.58665136, -0.10973206,  0.2755476 ,  0.20454612,\n",
       "        -0.35589354,  0.09596621, -0.16223522,  0.05943915]),\n",
       " array([-0.6040179 ,  3.35644666,  0.13671717,  0.65112408,  0.34019682,\n",
       "         2.14635766,  0.19433224, -0.23023687,  0.40424807, -0.29906764,\n",
       "         1.03344795,  0.60484538, -0.15634765,  0.27571572,  0.21461709,\n",
       "        -0.41642724,  0.12813948, -0.21154533,  0.0801436 ]),\n",
       " array([-0.77830722,  3.88264504,  0.16761906,  0.55675758,  0.33933019,\n",
       "         2.45312403,  0.24418475, -0.21721953,  0.33673633, -0.3385693 ,\n",
       "         1.09987502,  0.62223123, -0.20451768,  0.27594368,  0.2236679 ,\n",
       "        -0.47674786,  0.17088798, -0.27589485,  0.10787726]),\n",
       " array([-0.94897769,  4.42767568,  0.21783329,  0.40503507,  0.33087526,\n",
       "         2.76512455,  0.30417652, -0.20363305,  0.26546633, -0.37843093,\n",
       "         1.17008688,  0.63931124, -0.25304248,  0.27616801,  0.23147139,\n",
       "        -0.53322691,  0.22755856, -0.35998977,  0.14486916]),\n",
       " array([-1.11095288,  4.97592285,  0.29665745,  0.19746729,  0.31327399,\n",
       "         3.07497739,  0.37620355, -0.19005043,  0.19234109, -0.42032842,\n",
       "         1.24318757,  0.65676164, -0.30074808,  0.27633977,  0.23790421,\n",
       "        -0.58199675,  0.3025042 , -0.47005898,  0.19399524]),\n",
       " array([-1.26011918,  5.51184871,  0.4143498 , -0.05827957,  0.28409378,\n",
       "         3.37545591,  0.46264872, -0.17695715,  0.11921725, -0.46597955,\n",
       "         1.31783559,  0.67527456, -0.34655253,  0.27642815,  0.24297057,\n",
       "        -0.61952664,  0.40138114, -0.61434165,  0.25896264]),\n",
       " array([-1.39359306,  6.02159062,  0.58069505, -0.34983106,  0.24025666,\n",
       "         3.66000488,  0.56650459, -0.16473766,  0.04784951, -0.51667315,\n",
       "         1.39235321,  0.69539447, -0.389528  ,  0.27642056,  0.24679657,\n",
       "        -0.64325304,  0.5315299 , -0.80371445,  0.34454253]),\n",
       " array([-1.5097815 ,  6.49419307,  0.80316402, -0.66248462,  0.17873841,\n",
       "         3.9232733 ,  0.69144007, -0.15367066, -0.02019658, -0.57295067,\n",
       "         1.46494569,  0.71739679, -0.42895941,  0.27631954,  0.24959917,\n",
       "        -0.6520776 ,  0.70245206, -1.05248262,  0.45685054]),\n",
       " array([-1.60827968,  6.92225972,  1.0850129 , -0.98166033,  0.09750881,\n",
       "         4.16152392,  0.84173537, -0.14393249, -0.08363246, -0.63446354,\n",
       "         1.5339501 ,  0.74122336, -0.46438666,  0.2761376 ,  0.2516403 ,\n",
       "        -0.64655042,  0.92638753, -1.37935217,  0.60366354]),\n",
       " array([-1.68966187e+00,  7.30195969e+00,  1.42381149e+00, -1.29468666e+00,\n",
       "        -3.62900944e-03,  4.37278186e+00,  1.02201054e+00, -1.35608227e-01,\n",
       "        -1.41494723e-01, -6.99968600e-01,  1.59802280e+00,  7.66468354e-01,\n",
       "        -4.95614137e-01,  2.75891667e-01,  2.53178738e-01, -6.28664546e-01,\n",
       "         1.21898388e+00, -1.80858680e+00,  7.94743507e-01]),\n",
       " array([-1.75521934,  7.63250922,  1.810921  , -1.59163889, -0.12260881,\n",
       "         4.55668845,  1.23670227, -0.12870825, -0.19313812, -0.76742926,\n",
       "         1.65621877,  0.79240809, -0.52268312,  0.27559826,  0.25443116,\n",
       "        -0.60134741,  1.60002415, -2.37132894,  1.04210968]),\n",
       " array([-1.80669081,  7.91538656,  2.23228563, -1.86540884, -0.25524844,\n",
       "         4.71414786,  1.4893048 , -0.12318631, -0.23819186, -0.83422019,\n",
       "         1.70797608,  0.81807576, -0.54581766,  0.27526998,  0.25554995,\n",
       "        -0.56784719,  2.09413745, -3.10702231,  1.36015201]),\n",
       " array([-1.8460197 ,  8.15355087,  2.67052913, -2.11139641, -0.39594744,\n",
       "         4.84691116,  1.7814807 , -0.11895504, -0.2765114 , -0.89743421,\n",
       "         1.75305172,  0.84237965, -0.56536284,  0.27491346,  0.25661944,\n",
       "        -0.53121227,  2.73135033, -4.06480085,  1.76540696]),\n",
       " array([-1.87515919,  8.35083325,  3.107865  , -2.32714395, -0.53872158,\n",
       "         4.95721543,  2.11225087, -0.115897  , -0.30814612, -0.95425156,\n",
       "         1.79145062,  0.8642477 , -0.58173065,  0.27452851,  0.2576669 ,\n",
       "        -0.49397252,  3.5472491 , -5.30458807,  2.27572284]),\n",
       " array([-1.89593262,  8.51152795,  3.52898445, -2.51203537, -0.67825363,\n",
       "         5.04752698,  2.47754217, -0.11387258, -0.33332037, -1.00228798,\n",
       "         1.82336571,  0.88276469, -0.59535973,  0.27410836,  0.25868123,\n",
       "        -0.45802465,  4.5824306 , -6.89746573,  2.9084461 ]),\n",
       " array([-1.90994639,  8.64011983,  3.92310473, -2.66702658, -0.81066339,\n",
       "         5.12038018,  2.87033297, -0.11272745, -0.3524116 , -1.03983364,\n",
       "         1.84912635,  0.89726768, -0.60668768,  0.2736409 ,  0.25963217,\n",
       "        -0.42465708,  5.88086742, -8.92461954,  3.67721061]),\n",
       " array([ -1.9185465 ,   8.74107098,   4.28473642,  -2.79433964,\n",
       "         -0.9338395 ,   5.17828063,   3.28144629,  -0.11230164,\n",
       "         -0.36591278,  -1.06594   ,   1.86914816,   0.90738272,\n",
       "         -0.61613119,   0.27311095,   0.26048537,  -0.39463809,\n",
       "          7.48688573, -11.47390082,   4.58699972]),\n",
       " array([ -1.92280945,   8.81862902,   4.61322124,  -2.89710054,\n",
       "         -1.0473443 ,   5.22364529,   3.70075885,  -0.11244021,\n",
       "         -0.3743809 ,  -1.08037534,   1.88388412,   0.91301087,\n",
       "         -0.62407042,   0.27250335,   0.26121161,  -0.36831577,\n",
       "          9.44075517, -14.63288659,   5.62749321]),\n",
       " array([ -1.92356056,   8.87666466,   4.91143543,  -2.97895449,\n",
       "         -1.15201594,   5.25876301,   4.1183964 ,  -0.11300313,\n",
       "         -0.37838604,  -1.08351161,   1.89378531,   0.9142872 ,\n",
       "         -0.63083652,   0.27180653,   0.26179136,  -0.34571301,\n",
       "         11.77349146, -18.47751473,   6.76539754]),\n",
       " array([ -1.92141509,   8.91856616,   5.18414497,  -3.04370749,\n",
       "         -1.24942102,   5.28576369,   4.52552842,  -0.11387199,\n",
       "         -0.37847759,  -1.07620488,   1.89928279,   0.9115363 ,\n",
       "         -0.63670275,   0.2710162 ,   0.26221639,  -0.32662596,\n",
       "         14.50228148, -23.05623072,   7.93741531]),\n",
       " array([ -1.9168372 ,   8.94720973,   5.43641484,  -3.09502361,\n",
       "         -1.34128685,   5.3065845 ,   4.91465054,  -0.11495231,\n",
       "         -0.37517654,  -1.05970019,   1.90079754,   0.90523597,\n",
       "         -0.64188083,   0.2701382 ,   0.26249027,  -0.31073979,\n",
       "         17.62856776, -28.37133375,   9.04636776]),\n",
       " array([ -1.91020764,   8.96500212,   5.67234167,  -3.13618385,\n",
       "         -1.42900845,   5.322925  ,   5.27955004,  -0.11617225,\n",
       "         -0.3689901 ,  -1.03555364,   1.8987753 ,   0.89598626,\n",
       "         -0.64652367,   0.26918984,   0.2626287 ,  -0.29776325,\n",
       "         21.14061583, -34.36165434,   9.96309192]),\n",
       " array([ -1.9018865 ,   8.97396885,   5.89427279,  -3.1699073 ,\n",
       "         -1.51330506,   5.33619318,   5.61526783,  -0.11747948,\n",
       "         -0.36043415,  -1.00554354,   1.89373069,   0.88447345,\n",
       "         -0.65073445,   0.26819911,   0.2626597 ,  -0.28756179,\n",
       "         25.02082282, -40.89283183,  10.53556402]),\n",
       " array([ -1.8922552 ,   8.97585015,   6.10259019,  -3.19824669,\n",
       "         -1.59408394,   5.34745951,   5.91823878,  -0.11883796,\n",
       "         -0.35004602,  -0.97154793,   1.8862764 ,   0.87142105,\n",
       "         -0.65458032,   0.26720152,   0.26262266,  -0.28024984,\n",
       "         29.25541136, -47.76155677,  10.6044871 ]),\n",
       " array([ -1.88172685,   8.9721717 ,   6.29603819,  -3.22257863,\n",
       "         -1.67053515,   5.35744342,   6.18654873,  -0.12022504,\n",
       "         -0.33837543,  -0.93539098,   1.87711554,   0.85752944,\n",
       "         -0.65810715,   0.26623519,   0.26256519,  -0.27620138,\n",
       "         33.84186587, -54.71675408,  10.02251324]),\n",
       " array([ -1.87072564,   8.96427673,   6.47244819,  -3.24369538,\n",
       "         -1.74141952,   5.36654802,   6.42009476,  -0.12162856,\n",
       "         -0.3259544 ,  -0.89868802,   1.86699113,   0.84341625,\n",
       "         -0.66135151,   0.2653354 ,   0.26253754,  -0.27596038,\n",
       "         38.78918874, -61.4943233 ,   8.673658  ]),\n",
       " array([ -1.85964908,   8.95332991,   6.62960686,  -3.26197325,\n",
       "         -1.80544929,   5.37493759,   6.62047039,  -0.12304314,\n",
       "         -0.3132593 ,  -0.86273123,   1.85660844,   0.82957352,\n",
       "         -0.6643471 ,   0.26452985,   0.26258525,  -0.28006946,\n",
       "         44.10843684, -67.8558909 ,   6.49041872]),\n",
       " array([ -1.8488328 ,   8.94031682,   6.76599454,  -3.27756575,\n",
       "         -1.86163425,   5.38263336,   6.79055551,  -0.12446563,\n",
       "         -0.30068277,  -0.82844672,   1.84655905,   0.81635288,\n",
       "         -0.66712531,   0.26383594,   0.26274191,  -0.28886809,\n",
       "         49.79512404, -73.62002534,   3.46727923]),\n",
       " array([ -1.83853302,   8.92605782,   6.88120801,  -3.29056742,\n",
       "         -1.90949634,   5.38959863,   6.93393754,  -0.12589019,\n",
       "         -0.28852654,  -0.79642622,   1.83727272,   0.80397943,\n",
       "         -0.66971175,   0.26326004,   0.26302387,  -0.3023224 ,\n",
       "         55.80914591, -78.67794982,  -0.33080214]),\n",
       " array([ -1.82892927,   8.91123827,   6.97602686,  -3.30111624,\n",
       "         -1.94912136,   5.3957956 ,   7.05434244,  -0.12730447,\n",
       "         -0.27701409,  -0.76700798,   1.82900728,   0.7925838 ,\n",
       "         -0.67212183,   0.26279885,   0.26342829,  -0.31993817,\n",
       "         62.06019241, -82.99251808,  -4.76760501]),\n",
       " array([ -1.82013957,   8.89644106,   7.05220527,  -3.30943185,\n",
       "         -1.98107762,   5.40121196,   7.15521511,  -0.12868815,\n",
       "         -0.26631147,  -0.74036794,   1.82187009,   0.78223736,\n",
       "         -0.6743585 ,   0.26244179,   0.26393489,  -0.34078382,\n",
       "         68.40592996, -86.58497542,  -9.64589406]),\n",
       " array([ -1.81223659,   8.88216502,   7.11212329,  -3.31580617,\n",
       "         -2.00626147,   5.40586611,   7.23950667,  -0.13001458,\n",
       "         -0.25654371,  -0.71658759,   1.81585603,   0.77297757,\n",
       "         -0.67641368,   0.26217392,   0.26451098,  -0.36361883,\n",
       "         74.66612748, -89.51629481, -14.73005735]),\n",
       " array([ -1.80525773,   8.86882244,   7.15842076,  -3.32056982,\n",
       "         -2.02572792,   5.40980189,   7.30964794,  -0.13125507,\n",
       "         -0.24780017,  -0.6956852 ,   1.81088769,   0.76481873,\n",
       "         -0.67827327,   0.26197859,   0.26511835,  -0.38709127,\n",
       "         80.64955348, -91.86889443, -19.77787797]),\n",
       " array([ -1.79920825,   8.85672296,   7.19369451,  -3.32405395,\n",
       "         -2.04054656,   5.41308056,   7.36763964,  -0.13238414,\n",
       "         -0.240131  ,  -0.6776179 ,   1.80684908,   0.75775145,\n",
       "         -0.67992366,   0.26183963,   0.2657202 ,  -0.40994665,\n",
       "         86.18494577, -93.73207465, -24.57357986]),\n",
       " array([ -1.79406187,   8.84605857,   7.22029406,  -3.32655991,\n",
       "         -2.05170136,   5.41577356,   7.41517936,  -0.13338387,\n",
       "         -0.23354184,  -0.66227339,   1.80360973,   0.75173836,\n",
       "         -0.68135748,   0.26174274,   0.26628654,  -0.43119   ,\n",
       "         91.14591671, -95.19217684, -28.95307797]),\n",
       " array([ -1.78976306,   8.83690199,   7.24021679,  -3.32834172,\n",
       "         -2.06003641,   5.41795666,   7.45376709,  -0.13424612,\n",
       "         -0.22799326,  -0.64946793,   1.80104019,   0.74671281,\n",
       "         -0.6825766 ,   0.26167617,   0.26679692,  -0.45016675,\n",
       "         95.463099  , -96.32699505, -32.81562242]),\n",
       " array([ -1.78623299,   8.82922177,   7.25508225,  -3.32960072,\n",
       "         -2.06623906,   5.41970537,   7.48476496,  -0.1349722 ,\n",
       "         -0.22340746,  -0.63895756,   1.79902077,   0.74258307,\n",
       "         -0.68359234,   0.26163086,   0.26724066,  -0.46656117,\n",
       "         99.12270867, -97.2033658 , -36.12157378]),\n",
       " array([ -1.7833782 ,   8.82290913,   7.26615816,  -3.33048896,\n",
       "         -2.07084791,   5.42109133,   7.509416  ,  -0.13557094,\n",
       "         -0.21968008,  -0.63045984,   1.79744589,   0.739241  ,\n",
       "         -0.68442333,   0.26160015,   0.26761525,  -0.48033703,\n",
       "        102.15545096, -97.87681855, -38.88050737]),\n",
       " array([ -1.78109993,   8.81780859,   7.27441217,  -3.33111713,\n",
       "         -2.07427357,   5.42217975,   7.5288397 ,  -0.13605601,\n",
       "         -0.21669368,  -0.6236789 ,   1.7962255 ,   0.73657218,\n",
       "         -0.68509255,   0.26157929,   0.26792401,  -0.49165312,\n",
       "        104.62138682, -98.39238568, -41.13535508]),\n",
       " array([ -1.77930191,   8.81374517,   7.28057067,  -3.33156368,\n",
       "         -2.07682349,   5.42302793,   7.54402153,  -0.13644325,\n",
       "         -0.21432963,  -0.61832752,   1.79528467,   0.7344648 ,\n",
       "         -0.68562444,   0.26156506,   0.26817367,  -0.5007805 ,\n",
       "        106.59540858, -98.78594571, -42.94724371]),\n",
       " array([ -1.77789585,   8.81054479,   7.28517355,  -3.33188334,\n",
       "         -2.07872539,   5.42368469,   7.55580725,  -0.13674874,\n",
       "         -0.21247661,  -0.61414271,   1.79456241,   0.7328161 ,\n",
       "         -0.68604264,   0.26155527,   0.26837251,  -0.5080364 ,\n",
       "        108.15589045, -99.08571269, -44.38358387]),\n",
       " array([ -1.7768044 ,   8.80804703,   7.28862022,  -3.33211392,\n",
       "         -2.08014706,   5.42419062,   7.56490537,  -0.13698747,\n",
       "         -0.21103564,  -0.61089419,   1.79400976,   0.73153586,\n",
       "         -0.68636864,   0.26154846,   0.268529  ,  -0.51373905,\n",
       "        109.37719305, -99.31365911, -45.51008002]),\n",
       " array([ -1.77596212,   8.80611157,   7.29120578,  -3.33228154,\n",
       "         -2.08121201,   5.42457876,   7.57189709,  -0.13717263,\n",
       "         -0.20992213,  -0.60838725,   1.79358801,   0.73054761,\n",
       "         -0.68662101,   0.26154367,   0.26865103,  -0.51818117,\n",
       "        110.32555799, -99.48677333, -46.38619364]),\n",
       " array([ -1.77531513,   8.80462022,   7.29314852,  -3.33240426,\n",
       "         -2.08201127,   5.42487557,   7.57725081,  -0.13731541,\n",
       "         -0.2090659 ,  -0.60646148,   1.7932668 ,   0.72978833,\n",
       "         -0.68681534,   0.26154026,   0.2687455 ,  -0.52161761,\n",
       "        111.05748828, -99.61811926, -47.06315392]),\n",
       " array([ -1.77481992,   8.80347606,   7.29461029,  -3.33249467,\n",
       "         -2.0826121 ,   5.42510197,   7.58133874,  -0.13742502,\n",
       "         -0.20841002,  -0.60498748,   1.79302257,   0.72920707,\n",
       "         -0.68696435,   0.2615378 ,   0.26881824,  -0.52426193,\n",
       "        111.61971017, -99.71770228, -47.5836089 ]),\n",
       " array([ -1.77444193,   8.80260119,   7.29571143,  -3.33256165,\n",
       "         -2.08306438,   5.42527432,   7.58445333,  -0.13750886,\n",
       "         -0.20790911,  -0.60386238,   1.79283708,   0.72876336,\n",
       "         -0.68707825,   0.26153602,   0.26887401,  -0.52628845,\n",
       "        112.05000242, -99.79316204, -47.98219881]),\n",
       " array([ -1.77415404,   8.80193394,   7.29654169,  -3.33261149,\n",
       "         -2.0834052 ,   5.42540533,   7.5868223 ,  -0.13757282,\n",
       "         -0.20752741,  -0.60300544,   1.79269635,   0.72842537,\n",
       "         -0.6871651 ,   0.26153472,   0.26891663,  -0.52783666,\n",
       "        112.3784051 , -99.85031844, -48.28655768]),\n",
       " array([ -1.77393513,   8.80142605,   7.29716817,  -3.33264871,\n",
       "         -2.08366225,   5.4255048 ,   7.58862182,  -0.13762153,\n",
       "         -0.20723707,  -0.60235381,   1.79258964,   0.72816834,\n",
       "         -0.68723119,   0.26153376,   0.26894912,  -0.52901664,\n",
       "        112.62851072, -99.89359748, -48.5184391 ]),\n",
       " array([ -1.77376887,   8.80104004,   7.29764116,  -3.33267659,\n",
       "         -2.08385626,   5.42558026,   7.5899874 ,  -0.13765855,\n",
       "         -0.20701651,  -0.60185892,   1.79250878,   0.72797313,\n",
       "         -0.68728141,   0.26153305,   0.26897385,  -0.52991435,\n",
       "        112.81867726, -99.92636072, -48.69479898]),\n",
       " array([ -1.77364273,   8.80074698,   7.29799843,  -3.33269751,\n",
       "         -2.08400277,   5.42563746,   7.59102289,  -0.13768666,\n",
       "         -0.20684914,  -0.60148343,   1.79244754,   0.72782501,\n",
       "         -0.68731954,   0.26153252,   0.26899264,  -0.53059637,\n",
       "        112.96309068, -99.9511588 , -48.82875626]),\n",
       " array([ -1.77354709,   8.80052469,   7.29826839,  -3.33271325,\n",
       "         -2.08411345,   5.4256808 ,   7.59180764,  -0.13770798,\n",
       "         -0.20672221,  -0.60119874,   1.79240116,   0.7277127 ,\n",
       "         -0.68734845,   0.26153212,   0.26900689,  -0.53111398,\n",
       "        113.07265596, -99.96992559, -48.93040498]),\n",
       " array([ -1.77347462,   8.8003562 ,   7.29847242,  -3.3327251 ,\n",
       "         -2.08419709,   5.42571363,   7.59240209,  -0.13772415,\n",
       "         -0.20662603,  -0.60098301,   1.79236605,   0.7276276 ,\n",
       "         -0.68737037,   0.26153183,   0.26901771,  -0.5315065 ,\n",
       "        113.15572296, -99.98412652, -49.00747947]),\n",
       " array([ -1.77341973,   8.80022854,   7.29862666,  -3.33273404,\n",
       "         -2.08426031,   5.42573848,   7.59285224,  -0.1377364 ,\n",
       "         -0.20655316,  -0.6008196 ,   1.79233948,   0.72756313,\n",
       "         -0.68738697,   0.2615316 ,   0.26902591,  -0.53180399,\n",
       "        113.21866622, -99.99487162, -49.06588735]),\n",
       " array([  -1.77337816,    8.80013185,    7.29874329,   -3.33274078,\n",
       "          -2.08430811,    5.4257573 ,    7.59319304,   -0.13774567,\n",
       "          -0.20649799,   -0.60069587,    1.79231937,    0.72751432,\n",
       "          -0.68739955,    0.26153143,    0.26903212,   -0.53202934,\n",
       "         113.26634136, -100.00300137,  -49.11013034]),\n",
       " array([  -1.77334669,    8.80005865,    7.29883147,   -3.33274587,\n",
       "          -2.08434425,    5.42577154,    7.59345099,   -0.1377527 ,\n",
       "          -0.20645621,   -0.6006022 ,    1.79230415,    0.72747737,\n",
       "          -0.68740907,    0.26153131,    0.26903682,   -0.5322    ,\n",
       "         113.30244074, -100.00915209,  -49.1436327 ]),\n",
       " array([  -1.77332287,    8.80000323,    7.29889816,   -3.33274971,\n",
       "          -2.08437158,    5.42578232,    7.59364621,   -0.13775801,\n",
       "          -0.2064246 ,   -0.6005313 ,    1.79229263,    0.7274494 ,\n",
       "          -0.68741627,    0.26153121,    0.26904038,   -0.5323292 ,\n",
       "         113.32976859, -100.01380537,  -49.16899556]),\n",
       " array([  -1.77330485,    8.79996129,    7.2989486 ,   -3.33275262,\n",
       "          -2.08439225,    5.42579047,    7.59379394,   -0.13776204,\n",
       "          -0.20640067,   -0.60047764,    1.79228392,    0.72742823,\n",
       "          -0.68742173,    0.26153114,    0.26904307,   -0.532427  ,\n",
       "         113.35045256, -100.01732569,  -49.18819285])]"
      ]
     },
     "execution_count": 94,
     "metadata": {},
     "output_type": "execute_result"
    }
   ],
   "source": [
    "katsayilar"
   ]
  },
  {
   "cell_type": "code",
   "execution_count": 97,
   "id": "627a2dee-3db0-4b35-9888-ca4efa8ab2b6",
   "metadata": {},
   "outputs": [
    {
     "data": {
      "image/png": "[encoded data removed]",
      "text/plain": [
       "<Figure size 640x480 with 1 Axes>"
      ]
     },
     "metadata": {},
     "output_type": "display_data"
    }
   ],
   "source": [
    "ax=plt.gca()\n",
    "ax.plot(lambdalar, katsayilar)\n",
    "ax.set_xscale(\"log\")"
   ]
  },
  {
   "cell_type": "markdown",
   "id": "1856670b-2eb9-466a-be97-49ab9ecdef30",
   "metadata": {},
   "source": [
    "## Tahmin"
   ]
  },
  {
   "cell_type": "code",
   "execution_count": 107,
   "id": "6de4f1ee-42ae-46f8-9279-3a1831433cb2",
   "metadata": {},
   "outputs": [],
   "source": [
    "ridge_model=Ridge().fit(X_train,y_train)"
   ]
  },
  {
   "cell_type": "code",
   "execution_count": 109,
   "id": "c74ace4e-f26e-409f-b839-8061607affc3",
   "metadata": {},
   "outputs": [],
   "source": [
    "y_pred=ridge_model.predict(X_train)"
   ]
  },
  {
   "cell_type": "code",
   "execution_count": 111,
   "id": "60c595f0-d44f-4526-9209-336ca5c77910",
   "metadata": {},
   "outputs": [
    {
     "data": {
      "text/plain": [
       "array([ 376.25245449,  803.38498121,  496.17669652,  112.69554648,\n",
       "        427.60020221, 1003.6309402 ,  153.45713944,  361.33880956,\n",
       "        483.29143665,  916.91439669])"
      ]
     },
     "execution_count": 111,
     "metadata": {},
     "output_type": "execute_result"
    }
   ],
   "source": [
    "y_pred[0:10]"
   ]
  },
  {
   "cell_type": "code",
   "execution_count": 117,
   "id": "fd988970-3143-4076-80a8-3ea91ec8234d",
   "metadata": {},
   "outputs": [
    {
     "data": {
      "text/plain": [
       "183     125.0\n",
       "229    1940.0\n",
       "286     940.0\n",
       "102     375.0\n",
       "153     100.0\n",
       "320     960.0\n",
       "135      90.0\n",
       "213     100.0\n",
       "308     750.0\n",
       "161     657.0\n",
       "Name: Salary, dtype: float64"
      ]
     },
     "execution_count": 117,
     "metadata": {},
     "output_type": "execute_result"
    }
   ],
   "source": [
    "y_train[0:10]"
   ]
  },
  {
   "cell_type": "code",
   "execution_count": 119,
   "id": "96bd9385-365b-487a-8fb5-a934784345ac",
   "metadata": {},
   "outputs": [],
   "source": [
    "RMSE=np.sqrt(mean_squared_error(y_train,y_pred))"
   ]
  },
  {
   "cell_type": "code",
   "execution_count": 121,
   "id": "6fd7c799-ddc1-444e-8bf7-2b79a1da9c2b",
   "metadata": {},
   "outputs": [
    {
     "data": {
      "text/plain": [
       "289.34470696006565"
      ]
     },
     "execution_count": 121,
     "metadata": {},
     "output_type": "execute_result"
    }
   ],
   "source": [
    "RMSE"
   ]
  },
  {
   "cell_type": "code",
   "execution_count": 142,
   "id": "3357094c-43e4-49eb-9d48-7883b820ff18",
   "metadata": {},
   "outputs": [
    {
     "data": {
      "text/plain": [
       "351.3931585606319"
      ]
     },
     "execution_count": 142,
     "metadata": {},
     "output_type": "execute_result"
    }
   ],
   "source": [
    "#cv ile elde edilmiş Rmse\n",
    "from sklearn.model_selection import cross_val_score \n",
    "np.sqrt(np.mean(-cross_val_score(ridge_model, X_train,y_train, cv=10, scoring=\"neg_mean_squared_error\")))"
   ]
  },
  {
   "cell_type": "code",
   "execution_count": 144,
   "id": "18a697dc-d490-4c68-9af4-f75ea9605f71",
   "metadata": {},
   "outputs": [],
   "source": [
    "#test hatası\n",
    "y_pred=ridge_model.predict(X_test)"
   ]
  },
  {
   "cell_type": "code",
   "execution_count": 150,
   "id": "cadd90a9-b857-48ec-99d9-546a0b4aad4b",
   "metadata": {},
   "outputs": [
    {
     "data": {
      "text/plain": [
       "356.8082905730238"
      ]
     },
     "execution_count": 150,
     "metadata": {},
     "output_type": "execute_result"
    }
   ],
   "source": [
    "RMSE=np.sqrt(mean_squared_error(y_test,y_pred))\n",
    "RMSE"
   ]
  },
  {
   "cell_type": "markdown",
   "id": "17a86259-df39-43ef-bb55-7853df50feab",
   "metadata": {},
   "source": [
    "# Model Tunning (Model Optimizasyonu)"
   ]
  },
  {
   "cell_type": "code",
   "execution_count": 375,
   "id": "464466f3-c2a3-4501-9b4f-dcdcc179492f",
   "metadata": {},
   "outputs": [],
   "source": [
    "# Verilerinizi normalleştirin,normalize yeni sürümde kalmkmış\n",
    "from sklearn.preprocessing import StandardScaler\n",
    "\n",
    "scaler = StandardScaler()\n",
    "X_train_scaled = scaler.fit_transform(X_train)\n",
    "X_test_scaled = scaler.transform(X_test) "
   ]
  },
  {
   "cell_type": "code",
   "execution_count": 377,
   "id": "283c602c-56af-4bcd-b736-b80bae88a1c6",
   "metadata": {},
   "outputs": [
    {
     "data": {
      "text/plain": [
       "358.9753135890261"
      ]
     },
     "execution_count": 377,
     "metadata": {},
     "output_type": "execute_result"
    }
   ],
   "source": [
    "ridge_model=Ridge(alpha=1).fit(X_train_scaled,y_train)\n",
    "y_pred=ridge_model.predict(X_test_scaled)\n",
    "np.sqrt(mean_squared_error(y_test,y_pred))"
   ]
  },
  {
   "cell_type": "code",
   "execution_count": 379,
   "id": "38c09567-5fe0-44b6-9616-ef173cc9498f",
   "metadata": {},
   "outputs": [],
   "source": [
    "lambdalar= np.random.randint(0,1000,100)"
   ]
  },
  {
   "cell_type": "code",
   "execution_count": 381,
   "id": "6d3e9926-b2b0-4f19-be02-1649fffc0597",
   "metadata": {},
   "outputs": [
    {
     "data": {
      "text/plain": [
       "array([651, 276, 960, 944, 698, 744, 610, 990,   7, 808, 849, 294, 375,\n",
       "       721, 851, 180, 406, 726, 467, 157, 583, 420, 841, 410, 948, 380,\n",
       "       519, 323, 462,  73, 351, 161,   7, 692, 713, 925, 865, 888, 566,\n",
       "       453, 628, 727, 279, 130, 195, 246, 482, 299, 427, 965,  44, 756,\n",
       "       202, 598, 179, 772, 972, 350, 435, 913, 584, 499, 799, 543, 708,\n",
       "       933,  48, 797, 760, 437, 121, 598, 649, 430, 698, 977, 762, 698,\n",
       "        87, 261, 535, 672, 691, 142, 728, 503, 750, 451,  60, 132, 190,\n",
       "       424, 626, 123, 955,  54, 119, 996, 140, 340])"
      ]
     },
     "execution_count": 381,
     "metadata": {},
     "output_type": "execute_result"
    }
   ],
   "source": [
    "lambdalar"
   ]
  },
  {
   "cell_type": "code",
   "execution_count": 383,
   "id": "6193cf0f-a12c-428a-bfca-17fdb20654b3",
   "metadata": {},
   "outputs": [],
   "source": [
    "lambdalar2= 10**np.linspace(10,-2,100)*0.5"
   ]
  },
  {
   "cell_type": "code",
   "execution_count": 385,
   "id": "d0e55cf3-082d-4252-8dd9-27ca05aa42f4",
   "metadata": {},
   "outputs": [
    {
     "data": {
      "text/html": [
       "<style>#sk-container-id-17 {\n",
       "  /* Definition of color scheme common for light and dark mode */\n",
       "  --sklearn-color-text: black;\n",
       "  --sklearn-color-line: gray;\n",
       "  /* Definition of color scheme for unfitted estimators */\n",
       "  --sklearn-color-unfitted-level-0: #fff5e6;\n",
       "  --sklearn-color-unfitted-level-1: #f6e4d2;\n",
       "  --sklearn-color-unfitted-level-2: #ffe0b3;\n",
       "  --sklearn-color-unfitted-level-3: chocolate;\n",
       "  /* Definition of color scheme for fitted estimators */\n",
       "  --sklearn-color-fitted-level-0: #f0f8ff;\n",
       "  --sklearn-color-fitted-level-1: #d4ebff;\n",
       "  --sklearn-color-fitted-level-2: #b3dbfd;\n",
       "  --sklearn-color-fitted-level-3: cornflowerblue;\n",
       "\n",
       "  /* Specific color for light theme */\n",
       "  --sklearn-color-text-on-default-background: var(--sg-text-color, var(--theme-code-foreground, var(--jp-content-font-color1, black)));\n",
       "  --sklearn-color-background: var(--sg-background-color, var(--theme-background, var(--jp-layout-color0, white)));\n",
       "  --sklearn-color-border-box: var(--sg-text-color, var(--theme-code-foreground, var(--jp-content-font-color1, black)));\n",
       "  --sklearn-color-icon: #696969;\n",
       "\n",
       "  @media (prefers-color-scheme: dark) {\n",
       "    /* Redefinition of color scheme for dark theme */\n",
       "    --sklearn-color-text-on-default-background: var(--sg-text-color, var(--theme-code-foreground, var(--jp-content-font-color1, white)));\n",
       "    --sklearn-color-background: var(--sg-background-color, var(--theme-background, var(--jp-layout-color0, #111)));\n",
       "    --sklearn-color-border-box: var(--sg-text-color, var(--theme-code-foreground, var(--jp-content-font-color1, white)));\n",
       "    --sklearn-color-icon: #878787;\n",
       "  }\n",
       "}\n",
       "\n",
       "#sk-container-id-17 {\n",
       "  color: var(--sklearn-color-text);\n",
       "}\n",
       "\n",
       "#sk-container-id-17 pre {\n",
       "  padding: 0;\n",
       "}\n",
       "\n",
       "#sk-container-id-17 input.sk-hidden--visually {\n",
       "  border: 0;\n",
       "  clip: rect(1px 1px 1px 1px);\n",
       "  clip: rect(1px, 1px, 1px, 1px);\n",
       "  height: 1px;\n",
       "  margin: -1px;\n",
       "  overflow: hidden;\n",
       "  padding: 0;\n",
       "  position: absolute;\n",
       "  width: 1px;\n",
       "}\n",
       "\n",
       "#sk-container-id-17 div.sk-dashed-wrapped {\n",
       "  border: 1px dashed var(--sklearn-color-line);\n",
       "  margin: 0 0.4em 0.5em 0.4em;\n",
       "  box-sizing: border-box;\n",
       "  padding-bottom: 0.4em;\n",
       "  background-color: var(--sklearn-color-background);\n",
       "}\n",
       "\n",
       "#sk-container-id-17 div.sk-container {\n",
       "  /* jupyter's `normalize.less` sets `[hidden] { display: none; }`\n",
       "     but bootstrap.min.css set `[hidden] { display: none !important; }`\n",
       "     so we also need the `!important` here to be able to override the\n",
       "     default hidden behavior on the sphinx rendered scikit-learn.org.\n",
       "     See: https://github.com/scikit-learn/scikit-learn/issues/21755 */\n",
       "  display: inline-block !important;\n",
       "  position: relative;\n",
       "}\n",
       "\n",
       "#sk-container-id-17 div.sk-text-repr-fallback {\n",
       "  display: none;\n",
       "}\n",
       "\n",
       "div.sk-parallel-item,\n",
       "div.sk-serial,\n",
       "div.sk-item {\n",
       "  /* draw centered vertical line to link estimators */\n",
       "  background-image: linear-gradient(var(--sklearn-color-text-on-default-background), var(--sklearn-color-text-on-default-background));\n",
       "  background-size: 2px 100%;\n",
       "  background-repeat: no-repeat;\n",
       "  background-position: center center;\n",
       "}\n",
       "\n",
       "/* Parallel-specific style estimator block */\n",
       "\n",
       "#sk-container-id-17 div.sk-parallel-item::after {\n",
       "  content: \"\";\n",
       "  width: 100%;\n",
       "  border-bottom: 2px solid var(--sklearn-color-text-on-default-background);\n",
       "  flex-grow: 1;\n",
       "}\n",
       "\n",
       "#sk-container-id-17 div.sk-parallel {\n",
       "  display: flex;\n",
       "  align-items: stretch;\n",
       "  justify-content: center;\n",
       "  background-color: var(--sklearn-color-background);\n",
       "  position: relative;\n",
       "}\n",
       "\n",
       "#sk-container-id-17 div.sk-parallel-item {\n",
       "  display: flex;\n",
       "  flex-direction: column;\n",
       "}\n",
       "\n",
       "#sk-container-id-17 div.sk-parallel-item:first-child::after {\n",
       "  align-self: flex-end;\n",
       "  width: 50%;\n",
       "}\n",
       "\n",
       "#sk-container-id-17 div.sk-parallel-item:last-child::after {\n",
       "  align-self: flex-start;\n",
       "  width: 50%;\n",
       "}\n",
       "\n",
       "#sk-container-id-17 div.sk-parallel-item:only-child::after {\n",
       "  width: 0;\n",
       "}\n",
       "\n",
       "/* Serial-specific style estimator block */\n",
       "\n",
       "#sk-container-id-17 div.sk-serial {\n",
       "  display: flex;\n",
       "  flex-direction: column;\n",
       "  align-items: center;\n",
       "  background-color: var(--sklearn-color-background);\n",
       "  padding-right: 1em;\n",
       "  padding-left: 1em;\n",
       "}\n",
       "\n",
       "\n",
       "/* Toggleable style: style used for estimator/Pipeline/ColumnTransformer box that is\n",
       "clickable and can be expanded/collapsed.\n",
       "- Pipeline and ColumnTransformer use this feature and define the default style\n",
       "- Estimators will overwrite some part of the style using the `sk-estimator` class\n",
       "*/\n",
       "\n",
       "/* Pipeline and ColumnTransformer style (default) */\n",
       "\n",
       "#sk-container-id-17 div.sk-toggleable {\n",
       "  /* Default theme specific background. It is overwritten whether we have a\n",
       "  specific estimator or a Pipeline/ColumnTransformer */\n",
       "  background-color: var(--sklearn-color-background);\n",
       "}\n",
       "\n",
       "/* Toggleable label */\n",
       "#sk-container-id-17 label.sk-toggleable__label {\n",
       "  cursor: pointer;\n",
       "  display: block;\n",
       "  width: 100%;\n",
       "  margin-bottom: 0;\n",
       "  padding: 0.5em;\n",
       "  box-sizing: border-box;\n",
       "  text-align: center;\n",
       "}\n",
       "\n",
       "#sk-container-id-17 label.sk-toggleable__label-arrow:before {\n",
       "  /* Arrow on the left of the label */\n",
       "  content: \"▸\";\n",
       "  float: left;\n",
       "  margin-right: 0.25em;\n",
       "  color: var(--sklearn-color-icon);\n",
       "}\n",
       "\n",
       "#sk-container-id-17 label.sk-toggleable__label-arrow:hover:before {\n",
       "  color: var(--sklearn-color-text);\n",
       "}\n",
       "\n",
       "/* Toggleable content - dropdown */\n",
       "\n",
       "#sk-container-id-17 div.sk-toggleable__content {\n",
       "  max-height: 0;\n",
       "  max-width: 0;\n",
       "  overflow: hidden;\n",
       "  text-align: left;\n",
       "  /* unfitted */\n",
       "  background-color: var(--sklearn-color-unfitted-level-0);\n",
       "}\n",
       "\n",
       "#sk-container-id-17 div.sk-toggleable__content.fitted {\n",
       "  /* fitted */\n",
       "  background-color: var(--sklearn-color-fitted-level-0);\n",
       "}\n",
       "\n",
       "#sk-container-id-17 div.sk-toggleable__content pre {\n",
       "  margin: 0.2em;\n",
       "  border-radius: 0.25em;\n",
       "  color: var(--sklearn-color-text);\n",
       "  /* unfitted */\n",
       "  background-color: var(--sklearn-color-unfitted-level-0);\n",
       "}\n",
       "\n",
       "#sk-container-id-17 div.sk-toggleable__content.fitted pre {\n",
       "  /* unfitted */\n",
       "  background-color: var(--sklearn-color-fitted-level-0);\n",
       "}\n",
       "\n",
       "#sk-container-id-17 input.sk-toggleable__control:checked~div.sk-toggleable__content {\n",
       "  /* Expand drop-down */\n",
       "  max-height: 200px;\n",
       "  max-width: 100%;\n",
       "  overflow: auto;\n",
       "}\n",
       "\n",
       "#sk-container-id-17 input.sk-toggleable__control:checked~label.sk-toggleable__label-arrow:before {\n",
       "  content: \"▾\";\n",
       "}\n",
       "\n",
       "/* Pipeline/ColumnTransformer-specific style */\n",
       "\n",
       "#sk-container-id-17 div.sk-label input.sk-toggleable__control:checked~label.sk-toggleable__label {\n",
       "  color: var(--sklearn-color-text);\n",
       "  background-color: var(--sklearn-color-unfitted-level-2);\n",
       "}\n",
       "\n",
       "#sk-container-id-17 div.sk-label.fitted input.sk-toggleable__control:checked~label.sk-toggleable__label {\n",
       "  background-color: var(--sklearn-color-fitted-level-2);\n",
       "}\n",
       "\n",
       "/* Estimator-specific style */\n",
       "\n",
       "/* Colorize estimator box */\n",
       "#sk-container-id-17 div.sk-estimator input.sk-toggleable__control:checked~label.sk-toggleable__label {\n",
       "  /* unfitted */\n",
       "  background-color: var(--sklearn-color-unfitted-level-2);\n",
       "}\n",
       "\n",
       "#sk-container-id-17 div.sk-estimator.fitted input.sk-toggleable__control:checked~label.sk-toggleable__label {\n",
       "  /* fitted */\n",
       "  background-color: var(--sklearn-color-fitted-level-2);\n",
       "}\n",
       "\n",
       "#sk-container-id-17 div.sk-label label.sk-toggleable__label,\n",
       "#sk-container-id-17 div.sk-label label {\n",
       "  /* The background is the default theme color */\n",
       "  color: var(--sklearn-color-text-on-default-background);\n",
       "}\n",
       "\n",
       "/* On hover, darken the color of the background */\n",
       "#sk-container-id-17 div.sk-label:hover label.sk-toggleable__label {\n",
       "  color: var(--sklearn-color-text);\n",
       "  background-color: var(--sklearn-color-unfitted-level-2);\n",
       "}\n",
       "\n",
       "/* Label box, darken color on hover, fitted */\n",
       "#sk-container-id-17 div.sk-label.fitted:hover label.sk-toggleable__label.fitted {\n",
       "  color: var(--sklearn-color-text);\n",
       "  background-color: var(--sklearn-color-fitted-level-2);\n",
       "}\n",
       "\n",
       "/* Estimator label */\n",
       "\n",
       "#sk-container-id-17 div.sk-label label {\n",
       "  font-family: monospace;\n",
       "  font-weight: bold;\n",
       "  display: inline-block;\n",
       "  line-height: 1.2em;\n",
       "}\n",
       "\n",
       "#sk-container-id-17 div.sk-label-container {\n",
       "  text-align: center;\n",
       "}\n",
       "\n",
       "/* Estimator-specific */\n",
       "#sk-container-id-17 div.sk-estimator {\n",
       "  font-family: monospace;\n",
       "  border: 1px dotted var(--sklearn-color-border-box);\n",
       "  border-radius: 0.25em;\n",
       "  box-sizing: border-box;\n",
       "  margin-bottom: 0.5em;\n",
       "  /* unfitted */\n",
       "  background-color: var(--sklearn-color-unfitted-level-0);\n",
       "}\n",
       "\n",
       "#sk-container-id-17 div.sk-estimator.fitted {\n",
       "  /* fitted */\n",
       "  background-color: var(--sklearn-color-fitted-level-0);\n",
       "}\n",
       "\n",
       "/* on hover */\n",
       "#sk-container-id-17 div.sk-estimator:hover {\n",
       "  /* unfitted */\n",
       "  background-color: var(--sklearn-color-unfitted-level-2);\n",
       "}\n",
       "\n",
       "#sk-container-id-17 div.sk-estimator.fitted:hover {\n",
       "  /* fitted */\n",
       "  background-color: var(--sklearn-color-fitted-level-2);\n",
       "}\n",
       "\n",
       "/* Specification for estimator info (e.g. \"i\" and \"?\") */\n",
       "\n",
       "/* Common style for \"i\" and \"?\" */\n",
       "\n",
       ".sk-estimator-doc-link,\n",
       "a:link.sk-estimator-doc-link,\n",
       "a:visited.sk-estimator-doc-link {\n",
       "  float: right;\n",
       "  font-size: smaller;\n",
       "  line-height: 1em;\n",
       "  font-family: monospace;\n",
       "  background-color: var(--sklearn-color-background);\n",
       "  border-radius: 1em;\n",
       "  height: 1em;\n",
       "  width: 1em;\n",
       "  text-decoration: none !important;\n",
       "  margin-left: 1ex;\n",
       "  /* unfitted */\n",
       "  border: var(--sklearn-color-unfitted-level-1) 1pt solid;\n",
       "  color: var(--sklearn-color-unfitted-level-1);\n",
       "}\n",
       "\n",
       ".sk-estimator-doc-link.fitted,\n",
       "a:link.sk-estimator-doc-link.fitted,\n",
       "a:visited.sk-estimator-doc-link.fitted {\n",
       "  /* fitted */\n",
       "  border: var(--sklearn-color-fitted-level-1) 1pt solid;\n",
       "  color: var(--sklearn-color-fitted-level-1);\n",
       "}\n",
       "\n",
       "/* On hover */\n",
       "div.sk-estimator:hover .sk-estimator-doc-link:hover,\n",
       ".sk-estimator-doc-link:hover,\n",
       "div.sk-label-container:hover .sk-estimator-doc-link:hover,\n",
       ".sk-estimator-doc-link:hover {\n",
       "  /* unfitted */\n",
       "  background-color: var(--sklearn-color-unfitted-level-3);\n",
       "  color: var(--sklearn-color-background);\n",
       "  text-decoration: none;\n",
       "}\n",
       "\n",
       "div.sk-estimator.fitted:hover .sk-estimator-doc-link.fitted:hover,\n",
       ".sk-estimator-doc-link.fitted:hover,\n",
       "div.sk-label-container:hover .sk-estimator-doc-link.fitted:hover,\n",
       ".sk-estimator-doc-link.fitted:hover {\n",
       "  /* fitted */\n",
       "  background-color: var(--sklearn-color-fitted-level-3);\n",
       "  color: var(--sklearn-color-background);\n",
       "  text-decoration: none;\n",
       "}\n",
       "\n",
       "/* Span, style for the box shown on hovering the info icon */\n",
       ".sk-estimator-doc-link span {\n",
       "  display: none;\n",
       "  z-index: 9999;\n",
       "  position: relative;\n",
       "  font-weight: normal;\n",
       "  right: .2ex;\n",
       "  padding: .5ex;\n",
       "  margin: .5ex;\n",
       "  width: min-content;\n",
       "  min-width: 20ex;\n",
       "  max-width: 50ex;\n",
       "  color: var(--sklearn-color-text);\n",
       "  box-shadow: 2pt 2pt 4pt #999;\n",
       "  /* unfitted */\n",
       "  background: var(--sklearn-color-unfitted-level-0);\n",
       "  border: .5pt solid var(--sklearn-color-unfitted-level-3);\n",
       "}\n",
       "\n",
       ".sk-estimator-doc-link.fitted span {\n",
       "  /* fitted */\n",
       "  background: var(--sklearn-color-fitted-level-0);\n",
       "  border: var(--sklearn-color-fitted-level-3);\n",
       "}\n",
       "\n",
       ".sk-estimator-doc-link:hover span {\n",
       "  display: block;\n",
       "}\n",
       "\n",
       "/* \"?\"-specific style due to the `<a>` HTML tag */\n",
       "\n",
       "#sk-container-id-17 a.estimator_doc_link {\n",
       "  float: right;\n",
       "  font-size: 1rem;\n",
       "  line-height: 1em;\n",
       "  font-family: monospace;\n",
       "  background-color: var(--sklearn-color-background);\n",
       "  border-radius: 1rem;\n",
       "  height: 1rem;\n",
       "  width: 1rem;\n",
       "  text-decoration: none;\n",
       "  /* unfitted */\n",
       "  color: var(--sklearn-color-unfitted-level-1);\n",
       "  border: var(--sklearn-color-unfitted-level-1) 1pt solid;\n",
       "}\n",
       "\n",
       "#sk-container-id-17 a.estimator_doc_link.fitted {\n",
       "  /* fitted */\n",
       "  border: var(--sklearn-color-fitted-level-1) 1pt solid;\n",
       "  color: var(--sklearn-color-fitted-level-1);\n",
       "}\n",
       "\n",
       "/* On hover */\n",
       "#sk-container-id-17 a.estimator_doc_link:hover {\n",
       "  /* unfitted */\n",
       "  background-color: var(--sklearn-color-unfitted-level-3);\n",
       "  color: var(--sklearn-color-background);\n",
       "  text-decoration: none;\n",
       "}\n",
       "\n",
       "#sk-container-id-17 a.estimator_doc_link.fitted:hover {\n",
       "  /* fitted */\n",
       "  background-color: var(--sklearn-color-fitted-level-3);\n",
       "}\n",
       "</style><div id=\"sk-container-id-17\" class=\"sk-top-container\"><div class=\"sk-text-repr-fallback\"><pre>RidgeCV(alphas=array([5.00000000e+09, 3.78231664e+09, 2.86118383e+09, 2.16438064e+09,\n",
       "       1.63727458e+09, 1.23853818e+09, 9.36908711e+08, 7.08737081e+08,\n",
       "       5.36133611e+08, 4.05565415e+08, 3.06795364e+08, 2.32079442e+08,\n",
       "       1.75559587e+08, 1.32804389e+08, 1.00461650e+08, 7.59955541e+07,\n",
       "       5.74878498e+07, 4.34874501e+07, 3.28966612e+07, 2.48851178e+07,\n",
       "       1.88246790e+07, 1.42401793e+0...\n",
       "       3.06795364e+00, 2.32079442e+00, 1.75559587e+00, 1.32804389e+00,\n",
       "       1.00461650e+00, 7.59955541e-01, 5.74878498e-01, 4.34874501e-01,\n",
       "       3.28966612e-01, 2.48851178e-01, 1.88246790e-01, 1.42401793e-01,\n",
       "       1.07721735e-01, 8.14875417e-02, 6.16423370e-02, 4.66301673e-02,\n",
       "       3.52740116e-02, 2.66834962e-02, 2.01850863e-02, 1.52692775e-02,\n",
       "       1.15506485e-02, 8.73764200e-03, 6.60970574e-03, 5.00000000e-03]),\n",
       "        cv=10, scoring=&#x27;neg_mean_squared_error&#x27;)</pre><b>In a Jupyter environment, please rerun this cell to show the HTML representation or trust the notebook. <br />On GitHub, the HTML representation is unable to render, please try loading this page with nbviewer.org.</b></div><div class=\"sk-container\" hidden><div class=\"sk-item\"><div class=\"sk-estimator fitted sk-toggleable\"><input class=\"sk-toggleable__control sk-hidden--visually\" id=\"sk-estimator-id-17\" type=\"checkbox\" checked><label for=\"sk-estimator-id-17\" class=\"sk-toggleable__label fitted sk-toggleable__label-arrow fitted\">&nbsp;&nbsp;RidgeCV<a class=\"sk-estimator-doc-link fitted\" rel=\"noreferrer\" target=\"_blank\" href=\"https://scikit-learn.org/1.5/modules/generated/sklearn.linear_model.RidgeCV.html\">?<span>Documentation for RidgeCV</span></a><span class=\"sk-estimator-doc-link fitted\">i<span>Fitted</span></span></label><div class=\"sk-toggleable__content fitted\"><pre>RidgeCV(alphas=array([5.00000000e+09, 3.78231664e+09, 2.86118383e+09, 2.16438064e+09,\n",
       "       1.63727458e+09, 1.23853818e+09, 9.36908711e+08, 7.08737081e+08,\n",
       "       5.36133611e+08, 4.05565415e+08, 3.06795364e+08, 2.32079442e+08,\n",
       "       1.75559587e+08, 1.32804389e+08, 1.00461650e+08, 7.59955541e+07,\n",
       "       5.74878498e+07, 4.34874501e+07, 3.28966612e+07, 2.48851178e+07,\n",
       "       1.88246790e+07, 1.42401793e+0...\n",
       "       3.06795364e+00, 2.32079442e+00, 1.75559587e+00, 1.32804389e+00,\n",
       "       1.00461650e+00, 7.59955541e-01, 5.74878498e-01, 4.34874501e-01,\n",
       "       3.28966612e-01, 2.48851178e-01, 1.88246790e-01, 1.42401793e-01,\n",
       "       1.07721735e-01, 8.14875417e-02, 6.16423370e-02, 4.66301673e-02,\n",
       "       3.52740116e-02, 2.66834962e-02, 2.01850863e-02, 1.52692775e-02,\n",
       "       1.15506485e-02, 8.73764200e-03, 6.60970574e-03, 5.00000000e-03]),\n",
       "        cv=10, scoring=&#x27;neg_mean_squared_error&#x27;)</pre></div> </div></div></div></div>"
      ],
      "text/plain": [
       "RidgeCV(alphas=array([5.00000000e+09, 3.78231664e+09, 2.86118383e+09, 2.16438064e+09,\n",
       "       1.63727458e+09, 1.23853818e+09, 9.36908711e+08, 7.08737081e+08,\n",
       "       5.36133611e+08, 4.05565415e+08, 3.06795364e+08, 2.32079442e+08,\n",
       "       1.75559587e+08, 1.32804389e+08, 1.00461650e+08, 7.59955541e+07,\n",
       "       5.74878498e+07, 4.34874501e+07, 3.28966612e+07, 2.48851178e+07,\n",
       "       1.88246790e+07, 1.42401793e+0...\n",
       "       3.06795364e+00, 2.32079442e+00, 1.75559587e+00, 1.32804389e+00,\n",
       "       1.00461650e+00, 7.59955541e-01, 5.74878498e-01, 4.34874501e-01,\n",
       "       3.28966612e-01, 2.48851178e-01, 1.88246790e-01, 1.42401793e-01,\n",
       "       1.07721735e-01, 8.14875417e-02, 6.16423370e-02, 4.66301673e-02,\n",
       "       3.52740116e-02, 2.66834962e-02, 2.01850863e-02, 1.52692775e-02,\n",
       "       1.15506485e-02, 8.73764200e-03, 6.60970574e-03, 5.00000000e-03]),\n",
       "        cv=10, scoring='neg_mean_squared_error')"
      ]
     },
     "execution_count": 385,
     "metadata": {},
     "output_type": "execute_result"
    }
   ],
   "source": [
    "ridgecv=RidgeCV(alphas= lambdalar2,scoring=\"neg_mean_squared_error\",cv=10)\n",
    "ridgecv.fit(X_train_scaled,y_train)"
   ]
  },
  {
   "cell_type": "code",
   "execution_count": 386,
   "id": "c1a94803-dc4b-42f4-bc24-dca954d0ffa9",
   "metadata": {},
   "outputs": [
    {
     "data": {
      "text/plain": [
       "115.50648500415791"
      ]
     },
     "execution_count": 386,
     "metadata": {},
     "output_type": "execute_result"
    }
   ],
   "source": [
    "ridgecv.alpha_"
   ]
  },
  {
   "cell_type": "code",
   "execution_count": 387,
   "id": "fd0c1d23-361d-4f48-a553-5801a8001a5d",
   "metadata": {},
   "outputs": [],
   "source": [
    "#final modeli\n",
    "\n",
    "ridge_tuned=Ridge(alpha=ridgecv.alpha_).fit(X_train_scaled,y_train)"
   ]
  },
  {
   "cell_type": "code",
   "execution_count": 391,
   "id": "b5b1adab-1bb6-4fd0-b76c-5e0316503528",
   "metadata": {},
   "outputs": [
    {
     "data": {
      "text/plain": [
       "386.09207550674677"
      ]
     },
     "execution_count": 391,
     "metadata": {},
     "output_type": "execute_result"
    }
   ],
   "source": [
    "y_pred=ridge_tuned.predict(X_test_scaled)\n",
    "np.sqrt(mean_squared_error(y_test,y_pred))"
   ]
  },
  {
   "cell_type": "markdown",
   "id": "c8928e44-5699-48e2-8549-df68ece8ddcf",
   "metadata": {},
   "source": [
    "# Lasso Regression\n",
    "### Gerekli Kütüphaneler"
   ]
  },
  {
   "cell_type": "code",
   "execution_count": 20,
   "id": "c6a5c7d0-f06a-4bb2-926b-ada9a7f41d46",
   "metadata": {},
   "outputs": [],
   "source": [
    "import numpy as np\n",
    "import pandas as pd\n",
    "from sklearn.linear_model import Ridge, Lasso\n",
    "from sklearn.model_selection import train_test_split,cross_val_score\n",
    "from sklearn.metrics import mean_squared_error,r2_score\n",
    "from sklearn import model_selection\n",
    "import matplotlib.pyplot as plt\n",
    "from sklearn.linear_model import RidgeCV, LassoCV"
   ]
  },
  {
   "cell_type": "code",
   "execution_count": 22,
   "id": "210a83f3-e9ee-44d6-b2e8-8b8506e7145d",
   "metadata": {},
   "outputs": [],
   "source": [
    "df= pd.read_csv(\"C:/Users/beyra/Desktop/machine_learning/Hitters.csv\")"
   ]
  },
  {
   "cell_type": "code",
   "execution_count": 43,
   "id": "fc0f5144-6db8-45e2-8931-a351f38b6f9b",
   "metadata": {},
   "outputs": [],
   "source": [
    "df=df.dropna()"
   ]
  },
  {
   "cell_type": "code",
   "execution_count": 59,
   "id": "f758bd13-91b5-47ed-8031-c2b0dfd48085",
   "metadata": {},
   "outputs": [],
   "source": [
    "dms= pd.get_dummies(df[[\"League\",\"Division\",\"NewLeague\"]])\n",
    "y=df[\"Salary\"]\n",
    "X_=df.drop([\"Salary\",\"League\",\"Division\",\"NewLeague\"],axis=1).astype(\"float64\")\n",
    "X=pd.concat([X_,dms[[\"League_N\",\"Division_W\",\"NewLeague_N\"]]],axis=1)\n",
    "\n",
    "X_train, X_test,  y_train, y_test=train_test_split(X,y,test_size=0.25,random_state=42) # x ve y sıraları önemli"
   ]
  },
  {
   "cell_type": "code",
   "execution_count": 61,
   "id": "c7c3af5a-aac9-4e40-a29e-0bbcb58b2338",
   "metadata": {},
   "outputs": [
    {
     "data": {
      "text/html": [
       "<div>\n",
       "<style scoped>\n",
       "    .dataframe tbody tr th:only-of-type {\n",
       "        vertical-align: middle;\n",
       "    }\n",
       "\n",
       "    .dataframe tbody tr th {\n",
       "        vertical-align: top;\n",
       "    }\n",
       "\n",
       "    .dataframe thead th {\n",
       "        text-align: right;\n",
       "    }\n",
       "</style>\n",
       "<table border=\"1\" class=\"dataframe\">\n",
       "  <thead>\n",
       "    <tr style=\"text-align: right;\">\n",
       "      <th></th>\n",
       "      <th>AtBat</th>\n",
       "      <th>Hits</th>\n",
       "      <th>HmRun</th>\n",
       "      <th>Runs</th>\n",
       "      <th>RBI</th>\n",
       "      <th>Walks</th>\n",
       "      <th>Years</th>\n",
       "      <th>CAtBat</th>\n",
       "      <th>CHits</th>\n",
       "      <th>CHmRun</th>\n",
       "      <th>CRuns</th>\n",
       "      <th>CRBI</th>\n",
       "      <th>CWalks</th>\n",
       "      <th>League</th>\n",
       "      <th>Division</th>\n",
       "      <th>PutOuts</th>\n",
       "      <th>Assists</th>\n",
       "      <th>Errors</th>\n",
       "      <th>Salary</th>\n",
       "      <th>NewLeague</th>\n",
       "    </tr>\n",
       "  </thead>\n",
       "  <tbody>\n",
       "    <tr>\n",
       "      <th>1</th>\n",
       "      <td>315</td>\n",
       "      <td>81</td>\n",
       "      <td>7</td>\n",
       "      <td>24</td>\n",
       "      <td>38</td>\n",
       "      <td>39</td>\n",
       "      <td>14</td>\n",
       "      <td>3449</td>\n",
       "      <td>835</td>\n",
       "      <td>69</td>\n",
       "      <td>321</td>\n",
       "      <td>414</td>\n",
       "      <td>375</td>\n",
       "      <td>N</td>\n",
       "      <td>W</td>\n",
       "      <td>632</td>\n",
       "      <td>43</td>\n",
       "      <td>10</td>\n",
       "      <td>475.0</td>\n",
       "      <td>N</td>\n",
       "    </tr>\n",
       "    <tr>\n",
       "      <th>2</th>\n",
       "      <td>479</td>\n",
       "      <td>130</td>\n",
       "      <td>18</td>\n",
       "      <td>66</td>\n",
       "      <td>72</td>\n",
       "      <td>76</td>\n",
       "      <td>3</td>\n",
       "      <td>1624</td>\n",
       "      <td>457</td>\n",
       "      <td>63</td>\n",
       "      <td>224</td>\n",
       "      <td>266</td>\n",
       "      <td>263</td>\n",
       "      <td>A</td>\n",
       "      <td>W</td>\n",
       "      <td>880</td>\n",
       "      <td>82</td>\n",
       "      <td>14</td>\n",
       "      <td>480.0</td>\n",
       "      <td>A</td>\n",
       "    </tr>\n",
       "    <tr>\n",
       "      <th>3</th>\n",
       "      <td>496</td>\n",
       "      <td>141</td>\n",
       "      <td>20</td>\n",
       "      <td>65</td>\n",
       "      <td>78</td>\n",
       "      <td>37</td>\n",
       "      <td>11</td>\n",
       "      <td>5628</td>\n",
       "      <td>1575</td>\n",
       "      <td>225</td>\n",
       "      <td>828</td>\n",
       "      <td>838</td>\n",
       "      <td>354</td>\n",
       "      <td>N</td>\n",
       "      <td>E</td>\n",
       "      <td>200</td>\n",
       "      <td>11</td>\n",
       "      <td>3</td>\n",
       "      <td>500.0</td>\n",
       "      <td>N</td>\n",
       "    </tr>\n",
       "    <tr>\n",
       "      <th>4</th>\n",
       "      <td>321</td>\n",
       "      <td>87</td>\n",
       "      <td>10</td>\n",
       "      <td>39</td>\n",
       "      <td>42</td>\n",
       "      <td>30</td>\n",
       "      <td>2</td>\n",
       "      <td>396</td>\n",
       "      <td>101</td>\n",
       "      <td>12</td>\n",
       "      <td>48</td>\n",
       "      <td>46</td>\n",
       "      <td>33</td>\n",
       "      <td>N</td>\n",
       "      <td>E</td>\n",
       "      <td>805</td>\n",
       "      <td>40</td>\n",
       "      <td>4</td>\n",
       "      <td>91.5</td>\n",
       "      <td>N</td>\n",
       "    </tr>\n",
       "    <tr>\n",
       "      <th>5</th>\n",
       "      <td>594</td>\n",
       "      <td>169</td>\n",
       "      <td>4</td>\n",
       "      <td>74</td>\n",
       "      <td>51</td>\n",
       "      <td>35</td>\n",
       "      <td>11</td>\n",
       "      <td>4408</td>\n",
       "      <td>1133</td>\n",
       "      <td>19</td>\n",
       "      <td>501</td>\n",
       "      <td>336</td>\n",
       "      <td>194</td>\n",
       "      <td>A</td>\n",
       "      <td>W</td>\n",
       "      <td>282</td>\n",
       "      <td>421</td>\n",
       "      <td>25</td>\n",
       "      <td>750.0</td>\n",
       "      <td>A</td>\n",
       "    </tr>\n",
       "  </tbody>\n",
       "</table>\n",
       "</div>"
      ],
      "text/plain": [
       "   AtBat  Hits  HmRun  Runs  RBI  Walks  Years  CAtBat  CHits  CHmRun  CRuns  \\\n",
       "1    315    81      7    24   38     39     14    3449    835      69    321   \n",
       "2    479   130     18    66   72     76      3    1624    457      63    224   \n",
       "3    496   141     20    65   78     37     11    5628   1575     225    828   \n",
       "4    321    87     10    39   42     30      2     396    101      12     48   \n",
       "5    594   169      4    74   51     35     11    4408   1133      19    501   \n",
       "\n",
       "   CRBI  CWalks League Division  PutOuts  Assists  Errors  Salary NewLeague  \n",
       "1   414     375      N        W      632       43      10   475.0         N  \n",
       "2   266     263      A        W      880       82      14   480.0         A  \n",
       "3   838     354      N        E      200       11       3   500.0         N  \n",
       "4    46      33      N        E      805       40       4    91.5         N  \n",
       "5   336     194      A        W      282      421      25   750.0         A  "
      ]
     },
     "execution_count": 61,
     "metadata": {},
     "output_type": "execute_result"
    }
   ],
   "source": [
    "df.head()"
   ]
  },
  {
   "cell_type": "code",
   "execution_count": 63,
   "id": "bd030b52-ec32-429b-ae47-8a38bb5211c8",
   "metadata": {},
   "outputs": [
    {
     "data": {
      "text/plain": [
       "(263, 20)"
      ]
     },
     "execution_count": 63,
     "metadata": {},
     "output_type": "execute_result"
    }
   ],
   "source": [
    "df.shape"
   ]
  },
  {
   "cell_type": "code",
   "execution_count": 65,
   "id": "e3c2876e-90b2-48ac-ba77-57b97d1b1e71",
   "metadata": {},
   "outputs": [
    {
     "name": "stderr",
     "output_type": "stream",
     "text": [
      "C:\\Users\\beyra\\anaconda3\\Lib\\site-packages\\sklearn\\linear_model\\_coordinate_descent.py:697: ConvergenceWarning: Objective did not converge. You might want to increase the number of iterations, check the scale of the features or consider increasing regularisation. Duality gap: 8.257e+06, tolerance: 3.899e+03\n",
      "  model = cd_fast.enet_coordinate_descent(\n"
     ]
    }
   ],
   "source": [
    "lasso_model=Lasso().fit(X_train,y_train)"
   ]
  },
  {
   "cell_type": "code",
   "execution_count": 67,
   "id": "a58132f3-5c20-424c-8cb4-4e655ce00a5d",
   "metadata": {},
   "outputs": [
    {
     "data": {
      "text/html": [
       "<style>#sk-container-id-1 {\n",
       "  /* Definition of color scheme common for light and dark mode */\n",
       "  --sklearn-color-text: black;\n",
       "  --sklearn-color-line: gray;\n",
       "  /* Definition of color scheme for unfitted estimators */\n",
       "  --sklearn-color-unfitted-level-0: #fff5e6;\n",
       "  --sklearn-color-unfitted-level-1: #f6e4d2;\n",
       "  --sklearn-color-unfitted-level-2: #ffe0b3;\n",
       "  --sklearn-color-unfitted-level-3: chocolate;\n",
       "  /* Definition of color scheme for fitted estimators */\n",
       "  --sklearn-color-fitted-level-0: #f0f8ff;\n",
       "  --sklearn-color-fitted-level-1: #d4ebff;\n",
       "  --sklearn-color-fitted-level-2: #b3dbfd;\n",
       "  --sklearn-color-fitted-level-3: cornflowerblue;\n",
       "\n",
       "  /* Specific color for light theme */\n",
       "  --sklearn-color-text-on-default-background: var(--sg-text-color, var(--theme-code-foreground, var(--jp-content-font-color1, black)));\n",
       "  --sklearn-color-background: var(--sg-background-color, var(--theme-background, var(--jp-layout-color0, white)));\n",
       "  --sklearn-color-border-box: var(--sg-text-color, var(--theme-code-foreground, var(--jp-content-font-color1, black)));\n",
       "  --sklearn-color-icon: #696969;\n",
       "\n",
       "  @media (prefers-color-scheme: dark) {\n",
       "    /* Redefinition of color scheme for dark theme */\n",
       "    --sklearn-color-text-on-default-background: var(--sg-text-color, var(--theme-code-foreground, var(--jp-content-font-color1, white)));\n",
       "    --sklearn-color-background: var(--sg-background-color, var(--theme-background, var(--jp-layout-color0, #111)));\n",
       "    --sklearn-color-border-box: var(--sg-text-color, var(--theme-code-foreground, var(--jp-content-font-color1, white)));\n",
       "    --sklearn-color-icon: #878787;\n",
       "  }\n",
       "}\n",
       "\n",
       "#sk-container-id-1 {\n",
       "  color: var(--sklearn-color-text);\n",
       "}\n",
       "\n",
       "#sk-container-id-1 pre {\n",
       "  padding: 0;\n",
       "}\n",
       "\n",
       "#sk-container-id-1 input.sk-hidden--visually {\n",
       "  border: 0;\n",
       "  clip: rect(1px 1px 1px 1px);\n",
       "  clip: rect(1px, 1px, 1px, 1px);\n",
       "  height: 1px;\n",
       "  margin: -1px;\n",
       "  overflow: hidden;\n",
       "  padding: 0;\n",
       "  position: absolute;\n",
       "  width: 1px;\n",
       "}\n",
       "\n",
       "#sk-container-id-1 div.sk-dashed-wrapped {\n",
       "  border: 1px dashed var(--sklearn-color-line);\n",
       "  margin: 0 0.4em 0.5em 0.4em;\n",
       "  box-sizing: border-box;\n",
       "  padding-bottom: 0.4em;\n",
       "  background-color: var(--sklearn-color-background);\n",
       "}\n",
       "\n",
       "#sk-container-id-1 div.sk-container {\n",
       "  /* jupyter's `normalize.less` sets `[hidden] { display: none; }`\n",
       "     but bootstrap.min.css set `[hidden] { display: none !important; }`\n",
       "     so we also need the `!important` here to be able to override the\n",
       "     default hidden behavior on the sphinx rendered scikit-learn.org.\n",
       "     See: https://github.com/scikit-learn/scikit-learn/issues/21755 */\n",
       "  display: inline-block !important;\n",
       "  position: relative;\n",
       "}\n",
       "\n",
       "#sk-container-id-1 div.sk-text-repr-fallback {\n",
       "  display: none;\n",
       "}\n",
       "\n",
       "div.sk-parallel-item,\n",
       "div.sk-serial,\n",
       "div.sk-item {\n",
       "  /* draw centered vertical line to link estimators */\n",
       "  background-image: linear-gradient(var(--sklearn-color-text-on-default-background), var(--sklearn-color-text-on-default-background));\n",
       "  background-size: 2px 100%;\n",
       "  background-repeat: no-repeat;\n",
       "  background-position: center center;\n",
       "}\n",
       "\n",
       "/* Parallel-specific style estimator block */\n",
       "\n",
       "#sk-container-id-1 div.sk-parallel-item::after {\n",
       "  content: \"\";\n",
       "  width: 100%;\n",
       "  border-bottom: 2px solid var(--sklearn-color-text-on-default-background);\n",
       "  flex-grow: 1;\n",
       "}\n",
       "\n",
       "#sk-container-id-1 div.sk-parallel {\n",
       "  display: flex;\n",
       "  align-items: stretch;\n",
       "  justify-content: center;\n",
       "  background-color: var(--sklearn-color-background);\n",
       "  position: relative;\n",
       "}\n",
       "\n",
       "#sk-container-id-1 div.sk-parallel-item {\n",
       "  display: flex;\n",
       "  flex-direction: column;\n",
       "}\n",
       "\n",
       "#sk-container-id-1 div.sk-parallel-item:first-child::after {\n",
       "  align-self: flex-end;\n",
       "  width: 50%;\n",
       "}\n",
       "\n",
       "#sk-container-id-1 div.sk-parallel-item:last-child::after {\n",
       "  align-self: flex-start;\n",
       "  width: 50%;\n",
       "}\n",
       "\n",
       "#sk-container-id-1 div.sk-parallel-item:only-child::after {\n",
       "  width: 0;\n",
       "}\n",
       "\n",
       "/* Serial-specific style estimator block */\n",
       "\n",
       "#sk-container-id-1 div.sk-serial {\n",
       "  display: flex;\n",
       "  flex-direction: column;\n",
       "  align-items: center;\n",
       "  background-color: var(--sklearn-color-background);\n",
       "  padding-right: 1em;\n",
       "  padding-left: 1em;\n",
       "}\n",
       "\n",
       "\n",
       "/* Toggleable style: style used for estimator/Pipeline/ColumnTransformer box that is\n",
       "clickable and can be expanded/collapsed.\n",
       "- Pipeline and ColumnTransformer use this feature and define the default style\n",
       "- Estimators will overwrite some part of the style using the `sk-estimator` class\n",
       "*/\n",
       "\n",
       "/* Pipeline and ColumnTransformer style (default) */\n",
       "\n",
       "#sk-container-id-1 div.sk-toggleable {\n",
       "  /* Default theme specific background. It is overwritten whether we have a\n",
       "  specific estimator or a Pipeline/ColumnTransformer */\n",
       "  background-color: var(--sklearn-color-background);\n",
       "}\n",
       "\n",
       "/* Toggleable label */\n",
       "#sk-container-id-1 label.sk-toggleable__label {\n",
       "  cursor: pointer;\n",
       "  display: block;\n",
       "  width: 100%;\n",
       "  margin-bottom: 0;\n",
       "  padding: 0.5em;\n",
       "  box-sizing: border-box;\n",
       "  text-align: center;\n",
       "}\n",
       "\n",
       "#sk-container-id-1 label.sk-toggleable__label-arrow:before {\n",
       "  /* Arrow on the left of the label */\n",
       "  content: \"▸\";\n",
       "  float: left;\n",
       "  margin-right: 0.25em;\n",
       "  color: var(--sklearn-color-icon);\n",
       "}\n",
       "\n",
       "#sk-container-id-1 label.sk-toggleable__label-arrow:hover:before {\n",
       "  color: var(--sklearn-color-text);\n",
       "}\n",
       "\n",
       "/* Toggleable content - dropdown */\n",
       "\n",
       "#sk-container-id-1 div.sk-toggleable__content {\n",
       "  max-height: 0;\n",
       "  max-width: 0;\n",
       "  overflow: hidden;\n",
       "  text-align: left;\n",
       "  /* unfitted */\n",
       "  background-color: var(--sklearn-color-unfitted-level-0);\n",
       "}\n",
       "\n",
       "#sk-container-id-1 div.sk-toggleable__content.fitted {\n",
       "  /* fitted */\n",
       "  background-color: var(--sklearn-color-fitted-level-0);\n",
       "}\n",
       "\n",
       "#sk-container-id-1 div.sk-toggleable__content pre {\n",
       "  margin: 0.2em;\n",
       "  border-radius: 0.25em;\n",
       "  color: var(--sklearn-color-text);\n",
       "  /* unfitted */\n",
       "  background-color: var(--sklearn-color-unfitted-level-0);\n",
       "}\n",
       "\n",
       "#sk-container-id-1 div.sk-toggleable__content.fitted pre {\n",
       "  /* unfitted */\n",
       "  background-color: var(--sklearn-color-fitted-level-0);\n",
       "}\n",
       "\n",
       "#sk-container-id-1 input.sk-toggleable__control:checked~div.sk-toggleable__content {\n",
       "  /* Expand drop-down */\n",
       "  max-height: 200px;\n",
       "  max-width: 100%;\n",
       "  overflow: auto;\n",
       "}\n",
       "\n",
       "#sk-container-id-1 input.sk-toggleable__control:checked~label.sk-toggleable__label-arrow:before {\n",
       "  content: \"▾\";\n",
       "}\n",
       "\n",
       "/* Pipeline/ColumnTransformer-specific style */\n",
       "\n",
       "#sk-container-id-1 div.sk-label input.sk-toggleable__control:checked~label.sk-toggleable__label {\n",
       "  color: var(--sklearn-color-text);\n",
       "  background-color: var(--sklearn-color-unfitted-level-2);\n",
       "}\n",
       "\n",
       "#sk-container-id-1 div.sk-label.fitted input.sk-toggleable__control:checked~label.sk-toggleable__label {\n",
       "  background-color: var(--sklearn-color-fitted-level-2);\n",
       "}\n",
       "\n",
       "/* Estimator-specific style */\n",
       "\n",
       "/* Colorize estimator box */\n",
       "#sk-container-id-1 div.sk-estimator input.sk-toggleable__control:checked~label.sk-toggleable__label {\n",
       "  /* unfitted */\n",
       "  background-color: var(--sklearn-color-unfitted-level-2);\n",
       "}\n",
       "\n",
       "#sk-container-id-1 div.sk-estimator.fitted input.sk-toggleable__control:checked~label.sk-toggleable__label {\n",
       "  /* fitted */\n",
       "  background-color: var(--sklearn-color-fitted-level-2);\n",
       "}\n",
       "\n",
       "#sk-container-id-1 div.sk-label label.sk-toggleable__label,\n",
       "#sk-container-id-1 div.sk-label label {\n",
       "  /* The background is the default theme color */\n",
       "  color: var(--sklearn-color-text-on-default-background);\n",
       "}\n",
       "\n",
       "/* On hover, darken the color of the background */\n",
       "#sk-container-id-1 div.sk-label:hover label.sk-toggleable__label {\n",
       "  color: var(--sklearn-color-text);\n",
       "  background-color: var(--sklearn-color-unfitted-level-2);\n",
       "}\n",
       "\n",
       "/* Label box, darken color on hover, fitted */\n",
       "#sk-container-id-1 div.sk-label.fitted:hover label.sk-toggleable__label.fitted {\n",
       "  color: var(--sklearn-color-text);\n",
       "  background-color: var(--sklearn-color-fitted-level-2);\n",
       "}\n",
       "\n",
       "/* Estimator label */\n",
       "\n",
       "#sk-container-id-1 div.sk-label label {\n",
       "  font-family: monospace;\n",
       "  font-weight: bold;\n",
       "  display: inline-block;\n",
       "  line-height: 1.2em;\n",
       "}\n",
       "\n",
       "#sk-container-id-1 div.sk-label-container {\n",
       "  text-align: center;\n",
       "}\n",
       "\n",
       "/* Estimator-specific */\n",
       "#sk-container-id-1 div.sk-estimator {\n",
       "  font-family: monospace;\n",
       "  border: 1px dotted var(--sklearn-color-border-box);\n",
       "  border-radius: 0.25em;\n",
       "  box-sizing: border-box;\n",
       "  margin-bottom: 0.5em;\n",
       "  /* unfitted */\n",
       "  background-color: var(--sklearn-color-unfitted-level-0);\n",
       "}\n",
       "\n",
       "#sk-container-id-1 div.sk-estimator.fitted {\n",
       "  /* fitted */\n",
       "  background-color: var(--sklearn-color-fitted-level-0);\n",
       "}\n",
       "\n",
       "/* on hover */\n",
       "#sk-container-id-1 div.sk-estimator:hover {\n",
       "  /* unfitted */\n",
       "  background-color: var(--sklearn-color-unfitted-level-2);\n",
       "}\n",
       "\n",
       "#sk-container-id-1 div.sk-estimator.fitted:hover {\n",
       "  /* fitted */\n",
       "  background-color: var(--sklearn-color-fitted-level-2);\n",
       "}\n",
       "\n",
       "/* Specification for estimator info (e.g. \"i\" and \"?\") */\n",
       "\n",
       "/* Common style for \"i\" and \"?\" */\n",
       "\n",
       ".sk-estimator-doc-link,\n",
       "a:link.sk-estimator-doc-link,\n",
       "a:visited.sk-estimator-doc-link {\n",
       "  float: right;\n",
       "  font-size: smaller;\n",
       "  line-height: 1em;\n",
       "  font-family: monospace;\n",
       "  background-color: var(--sklearn-color-background);\n",
       "  border-radius: 1em;\n",
       "  height: 1em;\n",
       "  width: 1em;\n",
       "  text-decoration: none !important;\n",
       "  margin-left: 1ex;\n",
       "  /* unfitted */\n",
       "  border: var(--sklearn-color-unfitted-level-1) 1pt solid;\n",
       "  color: var(--sklearn-color-unfitted-level-1);\n",
       "}\n",
       "\n",
       ".sk-estimator-doc-link.fitted,\n",
       "a:link.sk-estimator-doc-link.fitted,\n",
       "a:visited.sk-estimator-doc-link.fitted {\n",
       "  /* fitted */\n",
       "  border: var(--sklearn-color-fitted-level-1) 1pt solid;\n",
       "  color: var(--sklearn-color-fitted-level-1);\n",
       "}\n",
       "\n",
       "/* On hover */\n",
       "div.sk-estimator:hover .sk-estimator-doc-link:hover,\n",
       ".sk-estimator-doc-link:hover,\n",
       "div.sk-label-container:hover .sk-estimator-doc-link:hover,\n",
       ".sk-estimator-doc-link:hover {\n",
       "  /* unfitted */\n",
       "  background-color: var(--sklearn-color-unfitted-level-3);\n",
       "  color: var(--sklearn-color-background);\n",
       "  text-decoration: none;\n",
       "}\n",
       "\n",
       "div.sk-estimator.fitted:hover .sk-estimator-doc-link.fitted:hover,\n",
       ".sk-estimator-doc-link.fitted:hover,\n",
       "div.sk-label-container:hover .sk-estimator-doc-link.fitted:hover,\n",
       ".sk-estimator-doc-link.fitted:hover {\n",
       "  /* fitted */\n",
       "  background-color: var(--sklearn-color-fitted-level-3);\n",
       "  color: var(--sklearn-color-background);\n",
       "  text-decoration: none;\n",
       "}\n",
       "\n",
       "/* Span, style for the box shown on hovering the info icon */\n",
       ".sk-estimator-doc-link span {\n",
       "  display: none;\n",
       "  z-index: 9999;\n",
       "  position: relative;\n",
       "  font-weight: normal;\n",
       "  right: .2ex;\n",
       "  padding: .5ex;\n",
       "  margin: .5ex;\n",
       "  width: min-content;\n",
       "  min-width: 20ex;\n",
       "  max-width: 50ex;\n",
       "  color: var(--sklearn-color-text);\n",
       "  box-shadow: 2pt 2pt 4pt #999;\n",
       "  /* unfitted */\n",
       "  background: var(--sklearn-color-unfitted-level-0);\n",
       "  border: .5pt solid var(--sklearn-color-unfitted-level-3);\n",
       "}\n",
       "\n",
       ".sk-estimator-doc-link.fitted span {\n",
       "  /* fitted */\n",
       "  background: var(--sklearn-color-fitted-level-0);\n",
       "  border: var(--sklearn-color-fitted-level-3);\n",
       "}\n",
       "\n",
       ".sk-estimator-doc-link:hover span {\n",
       "  display: block;\n",
       "}\n",
       "\n",
       "/* \"?\"-specific style due to the `<a>` HTML tag */\n",
       "\n",
       "#sk-container-id-1 a.estimator_doc_link {\n",
       "  float: right;\n",
       "  font-size: 1rem;\n",
       "  line-height: 1em;\n",
       "  font-family: monospace;\n",
       "  background-color: var(--sklearn-color-background);\n",
       "  border-radius: 1rem;\n",
       "  height: 1rem;\n",
       "  width: 1rem;\n",
       "  text-decoration: none;\n",
       "  /* unfitted */\n",
       "  color: var(--sklearn-color-unfitted-level-1);\n",
       "  border: var(--sklearn-color-unfitted-level-1) 1pt solid;\n",
       "}\n",
       "\n",
       "#sk-container-id-1 a.estimator_doc_link.fitted {\n",
       "  /* fitted */\n",
       "  border: var(--sklearn-color-fitted-level-1) 1pt solid;\n",
       "  color: var(--sklearn-color-fitted-level-1);\n",
       "}\n",
       "\n",
       "/* On hover */\n",
       "#sk-container-id-1 a.estimator_doc_link:hover {\n",
       "  /* unfitted */\n",
       "  background-color: var(--sklearn-color-unfitted-level-3);\n",
       "  color: var(--sklearn-color-background);\n",
       "  text-decoration: none;\n",
       "}\n",
       "\n",
       "#sk-container-id-1 a.estimator_doc_link.fitted:hover {\n",
       "  /* fitted */\n",
       "  background-color: var(--sklearn-color-fitted-level-3);\n",
       "}\n",
       "</style><div id=\"sk-container-id-1\" class=\"sk-top-container\"><div class=\"sk-text-repr-fallback\"><pre>Lasso()</pre><b>In a Jupyter environment, please rerun this cell to show the HTML representation or trust the notebook. <br />On GitHub, the HTML representation is unable to render, please try loading this page with nbviewer.org.</b></div><div class=\"sk-container\" hidden><div class=\"sk-item\"><div class=\"sk-estimator fitted sk-toggleable\"><input class=\"sk-toggleable__control sk-hidden--visually\" id=\"sk-estimator-id-1\" type=\"checkbox\" checked><label for=\"sk-estimator-id-1\" class=\"sk-toggleable__label fitted sk-toggleable__label-arrow fitted\">&nbsp;&nbsp;Lasso<a class=\"sk-estimator-doc-link fitted\" rel=\"noreferrer\" target=\"_blank\" href=\"https://scikit-learn.org/1.5/modules/generated/sklearn.linear_model.Lasso.html\">?<span>Documentation for Lasso</span></a><span class=\"sk-estimator-doc-link fitted\">i<span>Fitted</span></span></label><div class=\"sk-toggleable__content fitted\"><pre>Lasso()</pre></div> </div></div></div></div>"
      ],
      "text/plain": [
       "Lasso()"
      ]
     },
     "execution_count": 67,
     "metadata": {},
     "output_type": "execute_result"
    }
   ],
   "source": [
    "lasso_model"
   ]
  },
  {
   "cell_type": "code",
   "execution_count": 69,
   "id": "f1962cc3-3509-484e-a20b-5aa39236ef29",
   "metadata": {},
   "outputs": [
    {
     "data": {
      "text/plain": [
       "-5.5874506773361645"
      ]
     },
     "execution_count": 69,
     "metadata": {},
     "output_type": "execute_result"
    }
   ],
   "source": [
    "lasso_model.intercept_"
   ]
  },
  {
   "cell_type": "code",
   "execution_count": 71,
   "id": "c8e1d0f4-bf8b-47cf-a204-4f87e9a08d91",
   "metadata": {},
   "outputs": [
    {
     "data": {
      "text/plain": [
       "array([-1.74875691e+00,  8.59204135e+00,  6.67993798e+00, -3.06715333e+00,\n",
       "       -1.91843070e+00,  5.32372890e+00,  8.39184117e+00, -1.63172447e-01,\n",
       "       -8.22311277e-02, -3.93602861e-01,  1.71118530e+00,  6.55730545e-01,\n",
       "       -6.48379405e-01,  2.59815358e-01,  2.73041157e-01, -4.41440454e-01,\n",
       "        8.54474011e+01, -9.59701213e+01, -2.13086605e+01])"
      ]
     },
     "execution_count": 71,
     "metadata": {},
     "output_type": "execute_result"
    }
   ],
   "source": [
    "lasso_model.coef_"
   ]
  },
  {
   "cell_type": "markdown",
   "id": "9babcb41-c12b-4aee-9f0f-0303a4e681dc",
   "metadata": {},
   "source": [
    "# farklı lambda değerlerine karılık katsayılar\n"
   ]
  },
  {
   "cell_type": "code",
   "execution_count": 96,
   "id": "952e9f80-2f1b-4c87-9ab6-3eec86bdf56e",
   "metadata": {
    "collapsed": true,
    "jupyter": {
     "outputs_hidden": true
    }
   },
   "outputs": [
    {
     "name": "stderr",
     "output_type": "stream",
     "text": [
      "C:\\Users\\beyra\\anaconda3\\Lib\\site-packages\\sklearn\\linear_model\\_coordinate_descent.py:697: ConvergenceWarning: Objective did not converge. You might want to increase the number of iterations, check the scale of the features or consider increasing regularisation. Duality gap: 5.470e+03, tolerance: 3.899e+03\n",
      "  model = cd_fast.enet_coordinate_descent(\n",
      "C:\\Users\\beyra\\anaconda3\\Lib\\site-packages\\sklearn\\linear_model\\_coordinate_descent.py:697: ConvergenceWarning: Objective did not converge. You might want to increase the number of iterations, check the scale of the features or consider increasing regularisation. Duality gap: 6.540e+03, tolerance: 3.899e+03\n",
      "  model = cd_fast.enet_coordinate_descent(\n",
      "C:\\Users\\beyra\\anaconda3\\Lib\\site-packages\\sklearn\\linear_model\\_coordinate_descent.py:697: ConvergenceWarning: Objective did not converge. You might want to increase the number of iterations, check the scale of the features or consider increasing regularisation. Duality gap: 4.002e+03, tolerance: 3.899e+03\n",
      "  model = cd_fast.enet_coordinate_descent(\n",
      "C:\\Users\\beyra\\anaconda3\\Lib\\site-packages\\sklearn\\linear_model\\_coordinate_descent.py:697: ConvergenceWarning: Objective did not converge. You might want to increase the number of iterations, check the scale of the features or consider increasing regularisation. Duality gap: 5.358e+03, tolerance: 3.899e+03\n",
      "  model = cd_fast.enet_coordinate_descent(\n",
      "C:\\Users\\beyra\\anaconda3\\Lib\\site-packages\\sklearn\\linear_model\\_coordinate_descent.py:697: ConvergenceWarning: Objective did not converge. You might want to increase the number of iterations, check the scale of the features or consider increasing regularisation. Duality gap: 5.544e+03, tolerance: 3.899e+03\n",
      "  model = cd_fast.enet_coordinate_descent(\n",
      "C:\\Users\\beyra\\anaconda3\\Lib\\site-packages\\sklearn\\linear_model\\_coordinate_descent.py:697: ConvergenceWarning: Objective did not converge. You might want to increase the number of iterations, check the scale of the features or consider increasing regularisation. Duality gap: 3.898e+04, tolerance: 3.899e+03\n",
      "  model = cd_fast.enet_coordinate_descent(\n",
      "C:\\Users\\beyra\\anaconda3\\Lib\\site-packages\\sklearn\\linear_model\\_coordinate_descent.py:697: ConvergenceWarning: Objective did not converge. You might want to increase the number of iterations, check the scale of the features or consider increasing regularisation. Duality gap: 4.437e+06, tolerance: 3.899e+03\n",
      "  model = cd_fast.enet_coordinate_descent(\n",
      "C:\\Users\\beyra\\anaconda3\\Lib\\site-packages\\sklearn\\linear_model\\_coordinate_descent.py:697: ConvergenceWarning: Objective did not converge. You might want to increase the number of iterations, check the scale of the features or consider increasing regularisation. Duality gap: 6.555e+06, tolerance: 3.899e+03\n",
      "  model = cd_fast.enet_coordinate_descent(\n",
      "C:\\Users\\beyra\\anaconda3\\Lib\\site-packages\\sklearn\\linear_model\\_coordinate_descent.py:697: ConvergenceWarning: Objective did not converge. You might want to increase the number of iterations, check the scale of the features or consider increasing regularisation. Duality gap: 7.518e+06, tolerance: 3.899e+03\n",
      "  model = cd_fast.enet_coordinate_descent(\n",
      "C:\\Users\\beyra\\anaconda3\\Lib\\site-packages\\sklearn\\linear_model\\_coordinate_descent.py:697: ConvergenceWarning: Objective did not converge. You might want to increase the number of iterations, check the scale of the features or consider increasing regularisation. Duality gap: 7.913e+06, tolerance: 3.899e+03\n",
      "  model = cd_fast.enet_coordinate_descent(\n",
      "C:\\Users\\beyra\\anaconda3\\Lib\\site-packages\\sklearn\\linear_model\\_coordinate_descent.py:697: ConvergenceWarning: Objective did not converge. You might want to increase the number of iterations, check the scale of the features or consider increasing regularisation. Duality gap: 8.063e+06, tolerance: 3.899e+03\n",
      "  model = cd_fast.enet_coordinate_descent(\n",
      "C:\\Users\\beyra\\anaconda3\\Lib\\site-packages\\sklearn\\linear_model\\_coordinate_descent.py:697: ConvergenceWarning: Objective did not converge. You might want to increase the number of iterations, check the scale of the features or consider increasing regularisation. Duality gap: 8.148e+06, tolerance: 3.899e+03\n",
      "  model = cd_fast.enet_coordinate_descent(\n",
      "C:\\Users\\beyra\\anaconda3\\Lib\\site-packages\\sklearn\\linear_model\\_coordinate_descent.py:697: ConvergenceWarning: Objective did not converge. You might want to increase the number of iterations, check the scale of the features or consider increasing regularisation. Duality gap: 8.196e+06, tolerance: 3.899e+03\n",
      "  model = cd_fast.enet_coordinate_descent(\n",
      "C:\\Users\\beyra\\anaconda3\\Lib\\site-packages\\sklearn\\linear_model\\_coordinate_descent.py:697: ConvergenceWarning: Objective did not converge. You might want to increase the number of iterations, check the scale of the features or consider increasing regularisation. Duality gap: 8.223e+06, tolerance: 3.899e+03\n",
      "  model = cd_fast.enet_coordinate_descent(\n",
      "C:\\Users\\beyra\\anaconda3\\Lib\\site-packages\\sklearn\\linear_model\\_coordinate_descent.py:697: ConvergenceWarning: Objective did not converge. You might want to increase the number of iterations, check the scale of the features or consider increasing regularisation. Duality gap: 8.239e+06, tolerance: 3.899e+03\n",
      "  model = cd_fast.enet_coordinate_descent(\n",
      "C:\\Users\\beyra\\anaconda3\\Lib\\site-packages\\sklearn\\linear_model\\_coordinate_descent.py:697: ConvergenceWarning: Objective did not converge. You might want to increase the number of iterations, check the scale of the features or consider increasing regularisation. Duality gap: 8.248e+06, tolerance: 3.899e+03\n",
      "  model = cd_fast.enet_coordinate_descent(\n",
      "C:\\Users\\beyra\\anaconda3\\Lib\\site-packages\\sklearn\\linear_model\\_coordinate_descent.py:697: ConvergenceWarning: Objective did not converge. You might want to increase the number of iterations, check the scale of the features or consider increasing regularisation. Duality gap: 8.254e+06, tolerance: 3.899e+03\n",
      "  model = cd_fast.enet_coordinate_descent(\n",
      "C:\\Users\\beyra\\anaconda3\\Lib\\site-packages\\sklearn\\linear_model\\_coordinate_descent.py:697: ConvergenceWarning: Objective did not converge. You might want to increase the number of iterations, check the scale of the features or consider increasing regularisation. Duality gap: 8.257e+06, tolerance: 3.899e+03\n",
      "  model = cd_fast.enet_coordinate_descent(\n",
      "C:\\Users\\beyra\\anaconda3\\Lib\\site-packages\\sklearn\\linear_model\\_coordinate_descent.py:697: ConvergenceWarning: Objective did not converge. You might want to increase the number of iterations, check the scale of the features or consider increasing regularisation. Duality gap: 8.257e+06, tolerance: 3.899e+03\n",
      "  model = cd_fast.enet_coordinate_descent(\n",
      "C:\\Users\\beyra\\anaconda3\\Lib\\site-packages\\sklearn\\linear_model\\_coordinate_descent.py:697: ConvergenceWarning: Objective did not converge. You might want to increase the number of iterations, check the scale of the features or consider increasing regularisation. Duality gap: 8.256e+06, tolerance: 3.899e+03\n",
      "  model = cd_fast.enet_coordinate_descent(\n",
      "C:\\Users\\beyra\\anaconda3\\Lib\\site-packages\\sklearn\\linear_model\\_coordinate_descent.py:697: ConvergenceWarning: Objective did not converge. You might want to increase the number of iterations, check the scale of the features or consider increasing regularisation. Duality gap: 8.254e+06, tolerance: 3.899e+03\n",
      "  model = cd_fast.enet_coordinate_descent(\n",
      "C:\\Users\\beyra\\anaconda3\\Lib\\site-packages\\sklearn\\linear_model\\_coordinate_descent.py:697: ConvergenceWarning: Objective did not converge. You might want to increase the number of iterations, check the scale of the features or consider increasing regularisation. Duality gap: 8.253e+06, tolerance: 3.899e+03\n",
      "  model = cd_fast.enet_coordinate_descent(\n",
      "C:\\Users\\beyra\\anaconda3\\Lib\\site-packages\\sklearn\\linear_model\\_coordinate_descent.py:697: ConvergenceWarning: Objective did not converge. You might want to increase the number of iterations, check the scale of the features or consider increasing regularisation. Duality gap: 8.252e+06, tolerance: 3.899e+03\n",
      "  model = cd_fast.enet_coordinate_descent(\n",
      "C:\\Users\\beyra\\anaconda3\\Lib\\site-packages\\sklearn\\linear_model\\_coordinate_descent.py:697: ConvergenceWarning: Objective did not converge. You might want to increase the number of iterations, check the scale of the features or consider increasing regularisation. Duality gap: 8.251e+06, tolerance: 3.899e+03\n",
      "  model = cd_fast.enet_coordinate_descent(\n",
      "C:\\Users\\beyra\\anaconda3\\Lib\\site-packages\\sklearn\\linear_model\\_coordinate_descent.py:697: ConvergenceWarning: Objective did not converge. You might want to increase the number of iterations, check the scale of the features or consider increasing regularisation. Duality gap: 8.250e+06, tolerance: 3.899e+03\n",
      "  model = cd_fast.enet_coordinate_descent(\n",
      "C:\\Users\\beyra\\anaconda3\\Lib\\site-packages\\sklearn\\linear_model\\_coordinate_descent.py:697: ConvergenceWarning: Objective did not converge. You might want to increase the number of iterations, check the scale of the features or consider increasing regularisation. Duality gap: 8.250e+06, tolerance: 3.899e+03\n",
      "  model = cd_fast.enet_coordinate_descent(\n",
      "C:\\Users\\beyra\\anaconda3\\Lib\\site-packages\\sklearn\\linear_model\\_coordinate_descent.py:697: ConvergenceWarning: Objective did not converge. You might want to increase the number of iterations, check the scale of the features or consider increasing regularisation. Duality gap: 8.249e+06, tolerance: 3.899e+03\n",
      "  model = cd_fast.enet_coordinate_descent(\n",
      "C:\\Users\\beyra\\anaconda3\\Lib\\site-packages\\sklearn\\linear_model\\_coordinate_descent.py:697: ConvergenceWarning: Objective did not converge. You might want to increase the number of iterations, check the scale of the features or consider increasing regularisation. Duality gap: 8.249e+06, tolerance: 3.899e+03\n",
      "  model = cd_fast.enet_coordinate_descent(\n",
      "C:\\Users\\beyra\\anaconda3\\Lib\\site-packages\\sklearn\\linear_model\\_coordinate_descent.py:697: ConvergenceWarning: Objective did not converge. You might want to increase the number of iterations, check the scale of the features or consider increasing regularisation. Duality gap: 8.249e+06, tolerance: 3.899e+03\n",
      "  model = cd_fast.enet_coordinate_descent(\n",
      "C:\\Users\\beyra\\anaconda3\\Lib\\site-packages\\sklearn\\linear_model\\_coordinate_descent.py:697: ConvergenceWarning: Objective did not converge. You might want to increase the number of iterations, check the scale of the features or consider increasing regularisation. Duality gap: 8.248e+06, tolerance: 3.899e+03\n",
      "  model = cd_fast.enet_coordinate_descent(\n",
      "C:\\Users\\beyra\\anaconda3\\Lib\\site-packages\\sklearn\\linear_model\\_coordinate_descent.py:697: ConvergenceWarning: Objective did not converge. You might want to increase the number of iterations, check the scale of the features or consider increasing regularisation. Duality gap: 8.248e+06, tolerance: 3.899e+03\n",
      "  model = cd_fast.enet_coordinate_descent(\n",
      "C:\\Users\\beyra\\anaconda3\\Lib\\site-packages\\sklearn\\linear_model\\_coordinate_descent.py:697: ConvergenceWarning: Objective did not converge. You might want to increase the number of iterations, check the scale of the features or consider increasing regularisation. Duality gap: 8.248e+06, tolerance: 3.899e+03\n",
      "  model = cd_fast.enet_coordinate_descent(\n",
      "C:\\Users\\beyra\\anaconda3\\Lib\\site-packages\\sklearn\\linear_model\\_coordinate_descent.py:697: ConvergenceWarning: Objective did not converge. You might want to increase the number of iterations, check the scale of the features or consider increasing regularisation. Duality gap: 8.248e+06, tolerance: 3.899e+03\n",
      "  model = cd_fast.enet_coordinate_descent(\n",
      "C:\\Users\\beyra\\anaconda3\\Lib\\site-packages\\sklearn\\linear_model\\_coordinate_descent.py:697: ConvergenceWarning: Objective did not converge. You might want to increase the number of iterations, check the scale of the features or consider increasing regularisation. Duality gap: 8.248e+06, tolerance: 3.899e+03\n",
      "  model = cd_fast.enet_coordinate_descent(\n",
      "C:\\Users\\beyra\\anaconda3\\Lib\\site-packages\\sklearn\\linear_model\\_coordinate_descent.py:697: ConvergenceWarning: Objective did not converge. You might want to increase the number of iterations, check the scale of the features or consider increasing regularisation. Duality gap: 8.248e+06, tolerance: 3.899e+03\n",
      "  model = cd_fast.enet_coordinate_descent(\n",
      "C:\\Users\\beyra\\anaconda3\\Lib\\site-packages\\sklearn\\linear_model\\_coordinate_descent.py:697: ConvergenceWarning: Objective did not converge. You might want to increase the number of iterations, check the scale of the features or consider increasing regularisation. Duality gap: 8.248e+06, tolerance: 3.899e+03\n",
      "  model = cd_fast.enet_coordinate_descent(\n",
      "C:\\Users\\beyra\\anaconda3\\Lib\\site-packages\\sklearn\\linear_model\\_coordinate_descent.py:697: ConvergenceWarning: Objective did not converge. You might want to increase the number of iterations, check the scale of the features or consider increasing regularisation. Duality gap: 8.248e+06, tolerance: 3.899e+03\n",
      "  model = cd_fast.enet_coordinate_descent(\n",
      "C:\\Users\\beyra\\anaconda3\\Lib\\site-packages\\sklearn\\linear_model\\_coordinate_descent.py:697: ConvergenceWarning: Objective did not converge. You might want to increase the number of iterations, check the scale of the features or consider increasing regularisation. Duality gap: 8.248e+06, tolerance: 3.899e+03\n",
      "  model = cd_fast.enet_coordinate_descent(\n"
     ]
    }
   ],
   "source": [
    " lasso = Lasso() # nesne oluştruud\n",
    "\n",
    "coefs=[] \n",
    "#alphas=np.random.randint(0,100000,10)\n",
    "alphas=10**np.linspace(10,-2,100)*0.5\n",
    "for a in alphas:\n",
    "    lasso.set_params(alpha=a)\n",
    "    lasso.fit(X_train, y_train)\n",
    "    coefs.append(lasso.coef_)"
   ]
  },
  {
   "cell_type": "code",
   "execution_count": 97,
   "id": "f4c5353b-18ac-41b1-80a3-caf0afee3a7b",
   "metadata": {},
   "outputs": [
    {
     "data": {
      "image/png": "[encoded data removed]",
      "text/plain": [
       "<Figure size 640x480 with 1 Axes>"
      ]
     },
     "metadata": {},
     "output_type": "display_data"
    }
   ],
   "source": [
    "ax=plt.gca()\n",
    "ax.plot(alphas,coefs)\n",
    "ax.set_xscale(\"log\")\n"
   ]
  },
  {
   "cell_type": "markdown",
   "id": "7a9c538b-8fd2-441c-b632-45c4308a72d5",
   "metadata": {},
   "source": [
    "# Tahmin"
   ]
  },
  {
   "cell_type": "code",
   "execution_count": 104,
   "id": "c2bed45b-a688-4a8e-a8ea-555209bd888e",
   "metadata": {},
   "outputs": [
    {
     "data": {
      "text/plain": [
       "array([377.26270596, 786.51524513, 495.14140718, 117.19492966,\n",
       "       429.04228506])"
      ]
     },
     "execution_count": 104,
     "metadata": {},
     "output_type": "execute_result"
    }
   ],
   "source": [
    "lasso_model.predict(X_train)[0:5]"
   ]
  },
  {
   "cell_type": "code",
   "execution_count": 106,
   "id": "8c22aebb-72bc-47e0-aec8-25884338a501",
   "metadata": {},
   "outputs": [
    {
     "data": {
      "text/plain": [
       "array([ 609.18826367,  696.96810702, 1009.06157391,  412.22773375,\n",
       "        409.25851712])"
      ]
     },
     "execution_count": 106,
     "metadata": {},
     "output_type": "execute_result"
    }
   ],
   "source": [
    "lasso_model.predict(X_test)[0:5]"
   ]
  },
  {
   "cell_type": "code",
   "execution_count": 108,
   "id": "cc7a7e2b-33e7-4da5-b612-2b6228c62871",
   "metadata": {},
   "outputs": [],
   "source": [
    "y_pred=lasso_model.predict(X_test)"
   ]
  },
  {
   "cell_type": "code",
   "execution_count": 110,
   "id": "437c4d18-c1a0-4d10-855f-0176821b65e5",
   "metadata": {},
   "outputs": [
    {
     "data": {
      "text/plain": [
       "356.09758845540347"
      ]
     },
     "execution_count": 110,
     "metadata": {},
     "output_type": "execute_result"
    }
   ],
   "source": [
    "np.sqrt(mean_squared_error(y_test,y_pred))"
   ]
  },
  {
   "cell_type": "code",
   "execution_count": 112,
   "id": "6fdcddc0-77a4-4247-972f-fb306c373ffd",
   "metadata": {},
   "outputs": [
    {
     "data": {
      "text/plain": [
       "0.41422798132366134"
      ]
     },
     "execution_count": 112,
     "metadata": {},
     "output_type": "execute_result"
    }
   ],
   "source": [
    "r2_score(y_test,y_pred)"
   ]
  },
  {
   "cell_type": "markdown",
   "id": "d213a9d2-6734-4f8a-9997-380f88f30b84",
   "metadata": {},
   "source": [
    "## Model Tunning"
   ]
  },
  {
   "cell_type": "code",
   "execution_count": 140,
   "id": "af8d8fa7-4cfa-41c8-b45b-4ec6e5e82166",
   "metadata": {},
   "outputs": [],
   "source": [
    "lasso_cv_model=LassoCV(alphas=alphas,cv=10,max_iter=100000).fit(X_train,y_train)"
   ]
  },
  {
   "cell_type": "code",
   "execution_count": 141,
   "id": "66eae551-0174-490f-88a2-5ceaa9362165",
   "metadata": {},
   "outputs": [
    {
     "data": {
      "text/plain": [
       "201.85086292982749"
      ]
     },
     "execution_count": 141,
     "metadata": {},
     "output_type": "execute_result"
    }
   ],
   "source": [
    "lasso_cv_model.alpha_"
   ]
  },
  {
   "cell_type": "code",
   "execution_count": 142,
   "id": "646478da-9942-460b-8af0-873748d923f8",
   "metadata": {},
   "outputs": [],
   "source": [
    "lasso_tuned=Lasso().set_params(alpha=lasso_cv_model.alpha_).fit(X_train,y_train)"
   ]
  },
  {
   "cell_type": "code",
   "execution_count": 143,
   "id": "2343ab42-68ab-438d-b80a-a7509d688ea9",
   "metadata": {},
   "outputs": [],
   "source": [
    "lasso_tuned=Lasso(alpha=lasso_cv_model.alpha_).fit(X_train,y_train)"
   ]
  },
  {
   "cell_type": "code",
   "execution_count": 144,
   "id": "66341d14-7cc8-44f2-8f9e-c7f87fa45432",
   "metadata": {},
   "outputs": [],
   "source": [
    "y_pred=lasso_tuned.predict(X_test)"
   ]
  },
  {
   "cell_type": "code",
   "execution_count": 145,
   "id": "afd569d6-94b8-4c82-b13a-135ab3dc6cb2",
   "metadata": {},
   "outputs": [
    {
     "data": {
      "text/plain": [
       "363.6832708037447"
      ]
     },
     "execution_count": 145,
     "metadata": {},
     "output_type": "execute_result"
    }
   ],
   "source": [
    "np.sqrt(mean_squared_error(y_test,y_pred))"
   ]
  },
  {
   "cell_type": "code",
   "execution_count": 152,
   "id": "1c20d6df-3a13-4639-ba13-a6607e63918b",
   "metadata": {},
   "outputs": [
    {
     "data": {
      "text/plain": [
       "AtBat         -1.052276\n",
       "Hits           5.342648\n",
       "HmRun          0.000000\n",
       "Runs           0.000000\n",
       "RBI            0.000000\n",
       "Walks          2.640006\n",
       "Years          0.000000\n",
       "CAtBat        -0.174125\n",
       "CHits          0.249805\n",
       "CHmRun        -0.000000\n",
       "CRuns          1.035075\n",
       "CRBI           0.469281\n",
       "CWalks        -0.186771\n",
       "PutOuts        0.272541\n",
       "Assists        0.170528\n",
       "Errors        -0.000000\n",
       "League_N       0.000000\n",
       "Division_W    -0.000000\n",
       "NewLeague_N    0.000000\n",
       "dtype: float64"
      ]
     },
     "execution_count": 152,
     "metadata": {},
     "output_type": "execute_result"
    }
   ],
   "source": [
    "pd.Series(lasso_tuned.coef_,index=X_train.columns)"
   ]
  },
  {
   "cell_type": "markdown",
   "id": "45c44c53-8bae-48c7-adc8-b457c1df40aa",
   "metadata": {},
   "source": [
    "# ElasticNet Regresyon Modeli"
   ]
  },
  {
   "cell_type": "code",
   "execution_count": 157,
   "id": "9513c0d8-b9e6-47eb-8b71-056725fd5b08",
   "metadata": {},
   "outputs": [],
   "source": [
    "import numpy as np\n",
    "import pandas as pd\n",
    "from sklearn.linear_model import Ridge, Lasso, ElasticNet\n",
    "from sklearn.model_selection import train_test_split,cross_val_score\n",
    "from sklearn.metrics import mean_squared_error,r2_score\n",
    "from sklearn import model_selection\n",
    "import matplotlib.pyplot as plt\n",
    "from sklearn.linear_model import RidgeCV, LassoCV, ElasticNetCV"
   ]
  },
  {
   "cell_type": "code",
   "execution_count": 161,
   "id": "49032566-8525-4995-b4fa-152514c1fcd2",
   "metadata": {},
   "outputs": [],
   "source": [
    "df= pd.read_csv(\"C:/Users/beyra/Desktop/machine_learning/Hitters.csv\")\n",
    "df=df.dropna()\n",
    "dms=pd.get_dummies(df[[\"League\",\"Division\",\"NewLeague\"]])\n",
    "y=df[\"Salary\"]\n",
    "X_=df.drop([\"Salary\",\"League\",\"Division\",\"NewLeague\"],axis=1).astype(\"float64\")\n",
    "X=pd.concat([X_,dms[[\"League_N\",\"Division_W\",\"NewLeague_N\"]]],axis=1)\n",
    "X_train,X_test,y_train,y_test= train_test_split(X,y,test_size=0.25,random_state=42)"
   ]
  },
  {
   "cell_type": "code",
   "execution_count": 163,
   "id": "28bda6ba-2f7b-49b7-87e6-d4ff8dd032d7",
   "metadata": {},
   "outputs": [
    {
     "name": "stderr",
     "output_type": "stream",
     "text": [
      "C:\\Users\\beyra\\anaconda3\\Lib\\site-packages\\sklearn\\linear_model\\_coordinate_descent.py:697: ConvergenceWarning: Objective did not converge. You might want to increase the number of iterations, check the scale of the features or consider increasing regularisation. Duality gap: 8.488e+06, tolerance: 3.899e+03\n",
      "  model = cd_fast.enet_coordinate_descent(\n"
     ]
    }
   ],
   "source": [
    "enet_model=ElasticNet().fit(X_train,y_train)"
   ]
  },
  {
   "cell_type": "code",
   "execution_count": 165,
   "id": "22be54e3-2c58-43cc-bca1-dcf55895a8c3",
   "metadata": {},
   "outputs": [
    {
     "data": {
      "text/plain": [
       "array([ -1.86256172,   8.70489065,   5.10426375,  -2.89875799,\n",
       "        -1.28642985,   5.24343682,   6.04480276,  -0.14701495,\n",
       "        -0.21566628,  -0.7897201 ,   1.80813117,   0.80914508,\n",
       "        -0.61262382,   0.26816203,   0.27172387,  -0.36530729,\n",
       "        19.2186222 , -31.16586592,   8.98369938])"
      ]
     },
     "execution_count": 165,
     "metadata": {},
     "output_type": "execute_result"
    }
   ],
   "source": [
    "enet_model.coef_"
   ]
  },
  {
   "cell_type": "code",
   "execution_count": 167,
   "id": "8ca4cc03-c80e-42d1-b524-7ab9fd49ff82",
   "metadata": {},
   "outputs": [
    {
     "data": {
      "text/plain": [
       "-6.465955602111762"
      ]
     },
     "execution_count": 167,
     "metadata": {},
     "output_type": "execute_result"
    }
   ],
   "source": [
    "enet_model.intercept_\n"
   ]
  },
  {
   "cell_type": "code",
   "execution_count": 169,
   "id": "f38e8180-e9c2-4ca3-9c1b-d29048b50ee0",
   "metadata": {},
   "outputs": [
    {
     "data": {
      "text/plain": [
       "array([325.74706292, 776.06632333, 522.86508419, 107.64091955,\n",
       "       449.03139566, 997.76095723,  99.78828622, 311.33763086,\n",
       "       418.50335021, 879.9502608 ])"
      ]
     },
     "execution_count": 169,
     "metadata": {},
     "output_type": "execute_result"
    }
   ],
   "source": [
    "# tahmin \n",
    "enet_model.predict(X_train)[0:10]"
   ]
  },
  {
   "cell_type": "code",
   "execution_count": 171,
   "id": "d98250ba-75fa-41d2-abd4-ed71421f3cd2",
   "metadata": {},
   "outputs": [
    {
     "data": {
      "text/plain": [
       "array([ 577.79111731,  617.33202224, 1031.39113156,  364.95861575,\n",
       "        489.51894393,  300.74185842,  604.522666  ,  465.34678732,\n",
       "        901.44473965,  703.20357123])"
      ]
     },
     "execution_count": 171,
     "metadata": {},
     "output_type": "execute_result"
    }
   ],
   "source": [
    "enet_model.predict(X_test)[0:10]"
   ]
  },
  {
   "cell_type": "code",
   "execution_count": 177,
   "id": "359480a5-a2ca-45b8-a5ff-6b7f6ff139c0",
   "metadata": {},
   "outputs": [],
   "source": [
    "y_pred=enet_model.predict(X_test)"
   ]
  },
  {
   "cell_type": "code",
   "execution_count": 183,
   "id": "40164db9-3335-445f-9856-1eab97fea0a5",
   "metadata": {},
   "outputs": [
    {
     "data": {
      "text/plain": [
       "357.16765481812445"
      ]
     },
     "execution_count": 183,
     "metadata": {},
     "output_type": "execute_result"
    }
   ],
   "source": [
    "np.sqrt(mean_squared_error(y_test,y_pred))"
   ]
  },
  {
   "cell_type": "code",
   "execution_count": 181,
   "id": "a4593604-90a9-43cb-8998-8734999e9c0d",
   "metadata": {},
   "outputs": [
    {
     "data": {
      "text/plain": [
       "0.4107022246932692"
      ]
     },
     "execution_count": 181,
     "metadata": {},
     "output_type": "execute_result"
    }
   ],
   "source": [
    "r2_score(y_test,y_pred)"
   ]
  },
  {
   "cell_type": "markdown",
   "id": "3a79ebbf-209f-4cfa-8698-0a87bef9e82f",
   "metadata": {},
   "source": [
    "# Model Tunning"
   ]
  },
  {
   "cell_type": "code",
   "execution_count": 216,
   "id": "b1bdc260-acdd-439e-9c53-9edcb08968d5",
   "metadata": {},
   "outputs": [],
   "source": [
    "alphas=10**np.linspace(10,-2,100)*0.5\n"
   ]
  },
  {
   "cell_type": "code",
   "execution_count": 228,
   "id": "65d6ce04-c1b1-4d5d-86f7-cf8b8b74092d",
   "metadata": {
    "collapsed": true,
    "jupyter": {
     "outputs_hidden": true
    }
   },
   "outputs": [
    {
     "name": "stderr",
     "output_type": "stream",
     "text": [
      "C:\\Users\\beyra\\anaconda3\\Lib\\site-packages\\sklearn\\linear_model\\_coordinate_descent.py:683: ConvergenceWarning: Objective did not converge. You might want to increase the number of iterations. Duality gap: 3249.948305884376, tolerance: 3241.4244490642727\n",
      "  model = cd_fast.enet_coordinate_descent_gram(\n",
      "C:\\Users\\beyra\\anaconda3\\Lib\\site-packages\\sklearn\\linear_model\\_coordinate_descent.py:683: ConvergenceWarning: Objective did not converge. You might want to increase the number of iterations. Duality gap: 4337.003153540194, tolerance: 3241.4244490642727\n",
      "  model = cd_fast.enet_coordinate_descent_gram(\n",
      "C:\\Users\\beyra\\anaconda3\\Lib\\site-packages\\sklearn\\linear_model\\_coordinate_descent.py:683: ConvergenceWarning: Objective did not converge. You might want to increase the number of iterations. Duality gap: 5751.424791645259, tolerance: 3241.4244490642727\n",
      "  model = cd_fast.enet_coordinate_descent_gram(\n",
      "C:\\Users\\beyra\\anaconda3\\Lib\\site-packages\\sklearn\\linear_model\\_coordinate_descent.py:683: ConvergenceWarning: Objective did not converge. You might want to increase the number of iterations. Duality gap: 7379.353662658483, tolerance: 3241.4244490642727\n",
      "  model = cd_fast.enet_coordinate_descent_gram(\n",
      "C:\\Users\\beyra\\anaconda3\\Lib\\site-packages\\sklearn\\linear_model\\_coordinate_descent.py:683: ConvergenceWarning: Objective did not converge. You might want to increase the number of iterations. Duality gap: 403437.83460216597, tolerance: 3241.4244490642727\n",
      "  model = cd_fast.enet_coordinate_descent_gram(\n",
      "C:\\Users\\beyra\\anaconda3\\Lib\\site-packages\\sklearn\\linear_model\\_coordinate_descent.py:683: ConvergenceWarning: Objective did not converge. You might want to increase the number of iterations. Duality gap: 830826.1645011986, tolerance: 3241.4244490642727\n",
      "  model = cd_fast.enet_coordinate_descent_gram(\n",
      "C:\\Users\\beyra\\anaconda3\\Lib\\site-packages\\sklearn\\linear_model\\_coordinate_descent.py:683: ConvergenceWarning: Objective did not converge. You might want to increase the number of iterations. Duality gap: 130519.53984578326, tolerance: 3241.4244490642727\n",
      "  model = cd_fast.enet_coordinate_descent_gram(\n",
      "C:\\Users\\beyra\\anaconda3\\Lib\\site-packages\\sklearn\\linear_model\\_coordinate_descent.py:683: ConvergenceWarning: Objective did not converge. You might want to increase the number of iterations. Duality gap: 16208.634475691244, tolerance: 3241.4244490642727\n",
      "  model = cd_fast.enet_coordinate_descent_gram(\n",
      "C:\\Users\\beyra\\anaconda3\\Lib\\site-packages\\sklearn\\linear_model\\_coordinate_descent.py:683: ConvergenceWarning: Objective did not converge. You might want to increase the number of iterations. Duality gap: 26112.43063434027, tolerance: 3241.4244490642727\n",
      "  model = cd_fast.enet_coordinate_descent_gram(\n",
      "C:\\Users\\beyra\\anaconda3\\Lib\\site-packages\\sklearn\\linear_model\\_coordinate_descent.py:683: ConvergenceWarning: Objective did not converge. You might want to increase the number of iterations. Duality gap: 3770.552837746218, tolerance: 3241.4244490642727\n",
      "  model = cd_fast.enet_coordinate_descent_gram(\n",
      "C:\\Users\\beyra\\anaconda3\\Lib\\site-packages\\sklearn\\linear_model\\_coordinate_descent.py:683: ConvergenceWarning: Objective did not converge. You might want to increase the number of iterations. Duality gap: 303635.406186305, tolerance: 3241.4244490642727\n",
      "  model = cd_fast.enet_coordinate_descent_gram(\n",
      "C:\\Users\\beyra\\anaconda3\\Lib\\site-packages\\sklearn\\linear_model\\_coordinate_descent.py:683: ConvergenceWarning: Objective did not converge. You might want to increase the number of iterations. Duality gap: 1003274.7468867572, tolerance: 3241.4244490642727\n",
      "  model = cd_fast.enet_coordinate_descent_gram(\n",
      "C:\\Users\\beyra\\anaconda3\\Lib\\site-packages\\sklearn\\linear_model\\_coordinate_descent.py:683: ConvergenceWarning: Objective did not converge. You might want to increase the number of iterations. Duality gap: 4450942.479721278, tolerance: 3241.4244490642727\n",
      "  model = cd_fast.enet_coordinate_descent_gram(\n",
      "C:\\Users\\beyra\\anaconda3\\Lib\\site-packages\\sklearn\\linear_model\\_coordinate_descent.py:683: ConvergenceWarning: Objective did not converge. You might want to increase the number of iterations. Duality gap: 5076765.911358593, tolerance: 3241.4244490642727\n",
      "  model = cd_fast.enet_coordinate_descent_gram(\n",
      "C:\\Users\\beyra\\anaconda3\\Lib\\site-packages\\sklearn\\linear_model\\_coordinate_descent.py:683: ConvergenceWarning: Objective did not converge. You might want to increase the number of iterations. Duality gap: 5391765.488674335, tolerance: 3241.4244490642727\n",
      "  model = cd_fast.enet_coordinate_descent_gram(\n",
      "C:\\Users\\beyra\\anaconda3\\Lib\\site-packages\\sklearn\\linear_model\\_coordinate_descent.py:683: ConvergenceWarning: Objective did not converge. You might want to increase the number of iterations. Duality gap: 5573248.080664295, tolerance: 3241.4244490642727\n",
      "  model = cd_fast.enet_coordinate_descent_gram(\n",
      "C:\\Users\\beyra\\anaconda3\\Lib\\site-packages\\sklearn\\linear_model\\_coordinate_descent.py:683: ConvergenceWarning: Objective did not converge. You might want to increase the number of iterations. Duality gap: 5681629.330077669, tolerance: 3241.4244490642727\n",
      "  model = cd_fast.enet_coordinate_descent_gram(\n",
      "C:\\Users\\beyra\\anaconda3\\Lib\\site-packages\\sklearn\\linear_model\\_coordinate_descent.py:683: ConvergenceWarning: Objective did not converge. You might want to increase the number of iterations. Duality gap: 5747782.476569014, tolerance: 3241.4244490642727\n",
      "  model = cd_fast.enet_coordinate_descent_gram(\n",
      "C:\\Users\\beyra\\anaconda3\\Lib\\site-packages\\sklearn\\linear_model\\_coordinate_descent.py:683: ConvergenceWarning: Objective did not converge. You might want to increase the number of iterations. Duality gap: 5789065.553027118, tolerance: 3241.4244490642727\n",
      "  model = cd_fast.enet_coordinate_descent_gram(\n",
      "C:\\Users\\beyra\\anaconda3\\Lib\\site-packages\\sklearn\\linear_model\\_coordinate_descent.py:683: ConvergenceWarning: Objective did not converge. You might want to increase the number of iterations. Duality gap: 5815540.980907324, tolerance: 3241.4244490642727\n",
      "  model = cd_fast.enet_coordinate_descent_gram(\n",
      "C:\\Users\\beyra\\anaconda3\\Lib\\site-packages\\sklearn\\linear_model\\_coordinate_descent.py:683: ConvergenceWarning: Objective did not converge. You might want to increase the number of iterations. Duality gap: 5833100.856166094, tolerance: 3241.4244490642727\n",
      "  model = cd_fast.enet_coordinate_descent_gram(\n",
      "C:\\Users\\beyra\\anaconda3\\Lib\\site-packages\\sklearn\\linear_model\\_coordinate_descent.py:683: ConvergenceWarning: Objective did not converge. You might want to increase the number of iterations. Duality gap: 5845191.968469799, tolerance: 3241.4244490642727\n",
      "  model = cd_fast.enet_coordinate_descent_gram(\n",
      "C:\\Users\\beyra\\anaconda3\\Lib\\site-packages\\sklearn\\linear_model\\_coordinate_descent.py:683: ConvergenceWarning: Objective did not converge. You might want to increase the number of iterations. Duality gap: 5853820.205881686, tolerance: 3241.4244490642727\n",
      "  model = cd_fast.enet_coordinate_descent_gram(\n",
      "C:\\Users\\beyra\\anaconda3\\Lib\\site-packages\\sklearn\\linear_model\\_coordinate_descent.py:683: ConvergenceWarning: Objective did not converge. You might want to increase the number of iterations. Duality gap: 5860154.834722357, tolerance: 3241.4244490642727\n",
      "  model = cd_fast.enet_coordinate_descent_gram(\n",
      "C:\\Users\\beyra\\anaconda3\\Lib\\site-packages\\sklearn\\linear_model\\_coordinate_descent.py:683: ConvergenceWarning: Objective did not converge. You might want to increase the number of iterations. Duality gap: 5864893.008961951, tolerance: 3241.4244490642727\n",
      "  model = cd_fast.enet_coordinate_descent_gram(\n",
      "C:\\Users\\beyra\\anaconda3\\Lib\\site-packages\\sklearn\\linear_model\\_coordinate_descent.py:683: ConvergenceWarning: Objective did not converge. You might want to increase the number of iterations. Duality gap: 5868472.143103014, tolerance: 3241.4244490642727\n",
      "  model = cd_fast.enet_coordinate_descent_gram(\n",
      "C:\\Users\\beyra\\anaconda3\\Lib\\site-packages\\sklearn\\linear_model\\_coordinate_descent.py:683: ConvergenceWarning: Objective did not converge. You might want to increase the number of iterations. Duality gap: 5867746.1312365625, tolerance: 3241.4244490642727\n",
      "  model = cd_fast.enet_coordinate_descent_gram(\n",
      "C:\\Users\\beyra\\anaconda3\\Lib\\site-packages\\sklearn\\linear_model\\_coordinate_descent.py:683: ConvergenceWarning: Objective did not converge. You might want to increase the number of iterations. Duality gap: 5873611.935530004, tolerance: 3241.4244490642727\n",
      "  model = cd_fast.enet_coordinate_descent_gram(\n",
      "C:\\Users\\beyra\\anaconda3\\Lib\\site-packages\\sklearn\\linear_model\\_coordinate_descent.py:683: ConvergenceWarning: Objective did not converge. You might want to increase the number of iterations. Duality gap: 5875662.918730778, tolerance: 3241.4244490642727\n",
      "  model = cd_fast.enet_coordinate_descent_gram(\n",
      "C:\\Users\\beyra\\anaconda3\\Lib\\site-packages\\sklearn\\linear_model\\_coordinate_descent.py:683: ConvergenceWarning: Objective did not converge. You might want to increase the number of iterations. Duality gap: 5876891.764707408, tolerance: 3241.4244490642727\n",
      "  model = cd_fast.enet_coordinate_descent_gram(\n",
      "C:\\Users\\beyra\\anaconda3\\Lib\\site-packages\\sklearn\\linear_model\\_coordinate_descent.py:683: ConvergenceWarning: Objective did not converge. You might want to increase the number of iterations. Duality gap: 5877773.73100821, tolerance: 3241.4244490642727\n",
      "  model = cd_fast.enet_coordinate_descent_gram(\n",
      "C:\\Users\\beyra\\anaconda3\\Lib\\site-packages\\sklearn\\linear_model\\_coordinate_descent.py:683: ConvergenceWarning: Objective did not converge. You might want to increase the number of iterations. Duality gap: 5068.215616909787, tolerance: 3617.313788867113\n",
      "  model = cd_fast.enet_coordinate_descent_gram(\n",
      "C:\\Users\\beyra\\anaconda3\\Lib\\site-packages\\sklearn\\linear_model\\_coordinate_descent.py:683: ConvergenceWarning: Objective did not converge. You might want to increase the number of iterations. Duality gap: 204999.40593999252, tolerance: 3617.313788867113\n",
      "  model = cd_fast.enet_coordinate_descent_gram(\n",
      "C:\\Users\\beyra\\anaconda3\\Lib\\site-packages\\sklearn\\linear_model\\_coordinate_descent.py:683: ConvergenceWarning: Objective did not converge. You might want to increase the number of iterations. Duality gap: 788560.4627407305, tolerance: 3617.313788867113\n",
      "  model = cd_fast.enet_coordinate_descent_gram(\n",
      "C:\\Users\\beyra\\anaconda3\\Lib\\site-packages\\sklearn\\linear_model\\_coordinate_descent.py:683: ConvergenceWarning: Objective did not converge. You might want to increase the number of iterations. Duality gap: 2293668.9625519766, tolerance: 3617.313788867113\n",
      "  model = cd_fast.enet_coordinate_descent_gram(\n",
      "C:\\Users\\beyra\\anaconda3\\Lib\\site-packages\\sklearn\\linear_model\\_coordinate_descent.py:683: ConvergenceWarning: Objective did not converge. You might want to increase the number of iterations. Duality gap: 3430169.5596455485, tolerance: 3617.313788867113\n",
      "  model = cd_fast.enet_coordinate_descent_gram(\n",
      "C:\\Users\\beyra\\anaconda3\\Lib\\site-packages\\sklearn\\linear_model\\_coordinate_descent.py:683: ConvergenceWarning: Objective did not converge. You might want to increase the number of iterations. Duality gap: 4266665.681495431, tolerance: 3617.313788867113\n",
      "  model = cd_fast.enet_coordinate_descent_gram(\n",
      "C:\\Users\\beyra\\anaconda3\\Lib\\site-packages\\sklearn\\linear_model\\_coordinate_descent.py:683: ConvergenceWarning: Objective did not converge. You might want to increase the number of iterations. Duality gap: 4870647.824411195, tolerance: 3617.313788867113\n",
      "  model = cd_fast.enet_coordinate_descent_gram(\n",
      "C:\\Users\\beyra\\anaconda3\\Lib\\site-packages\\sklearn\\linear_model\\_coordinate_descent.py:683: ConvergenceWarning: Objective did not converge. You might want to increase the number of iterations. Duality gap: 5297167.789374753, tolerance: 3617.313788867113\n",
      "  model = cd_fast.enet_coordinate_descent_gram(\n",
      "C:\\Users\\beyra\\anaconda3\\Lib\\site-packages\\sklearn\\linear_model\\_coordinate_descent.py:683: ConvergenceWarning: Objective did not converge. You might want to increase the number of iterations. Duality gap: 5584497.027007291, tolerance: 3617.313788867113\n",
      "  model = cd_fast.enet_coordinate_descent_gram(\n",
      "C:\\Users\\beyra\\anaconda3\\Lib\\site-packages\\sklearn\\linear_model\\_coordinate_descent.py:683: ConvergenceWarning: Objective did not converge. You might want to increase the number of iterations. Duality gap: 5754281.626618371, tolerance: 3617.313788867113\n",
      "  model = cd_fast.enet_coordinate_descent_gram(\n",
      "C:\\Users\\beyra\\anaconda3\\Lib\\site-packages\\sklearn\\linear_model\\_coordinate_descent.py:683: ConvergenceWarning: Objective did not converge. You might want to increase the number of iterations. Duality gap: 5809358.871908375, tolerance: 3617.313788867113\n",
      "  model = cd_fast.enet_coordinate_descent_gram(\n",
      "C:\\Users\\beyra\\anaconda3\\Lib\\site-packages\\sklearn\\linear_model\\_coordinate_descent.py:683: ConvergenceWarning: Objective did not converge. You might want to increase the number of iterations. Duality gap: 5722512.073866764, tolerance: 3617.313788867113\n",
      "  model = cd_fast.enet_coordinate_descent_gram(\n",
      "C:\\Users\\beyra\\anaconda3\\Lib\\site-packages\\sklearn\\linear_model\\_coordinate_descent.py:683: ConvergenceWarning: Objective did not converge. You might want to increase the number of iterations. Duality gap: 5393143.788964001, tolerance: 3617.313788867113\n",
      "  model = cd_fast.enet_coordinate_descent_gram(\n",
      "C:\\Users\\beyra\\anaconda3\\Lib\\site-packages\\sklearn\\linear_model\\_coordinate_descent.py:683: ConvergenceWarning: Objective did not converge. You might want to increase the number of iterations. Duality gap: 4434425.347838203, tolerance: 3617.313788867113\n",
      "  model = cd_fast.enet_coordinate_descent_gram(\n",
      "C:\\Users\\beyra\\anaconda3\\Lib\\site-packages\\sklearn\\linear_model\\_coordinate_descent.py:683: ConvergenceWarning: Objective did not converge. You might want to increase the number of iterations. Duality gap: 484441.1504446175, tolerance: 3617.313788867113\n",
      "  model = cd_fast.enet_coordinate_descent_gram(\n",
      "C:\\Users\\beyra\\anaconda3\\Lib\\site-packages\\sklearn\\linear_model\\_coordinate_descent.py:683: ConvergenceWarning: Objective did not converge. You might want to increase the number of iterations. Duality gap: 2783414.5788922003, tolerance: 3617.313788867113\n",
      "  model = cd_fast.enet_coordinate_descent_gram(\n",
      "C:\\Users\\beyra\\anaconda3\\Lib\\site-packages\\sklearn\\linear_model\\_coordinate_descent.py:683: ConvergenceWarning: Objective did not converge. You might want to increase the number of iterations. Duality gap: 5975136.8554793615, tolerance: 3617.313788867113\n",
      "  model = cd_fast.enet_coordinate_descent_gram(\n",
      "C:\\Users\\beyra\\anaconda3\\Lib\\site-packages\\sklearn\\linear_model\\_coordinate_descent.py:683: ConvergenceWarning: Objective did not converge. You might want to increase the number of iterations. Duality gap: 6820441.680276373, tolerance: 3617.313788867113\n",
      "  model = cd_fast.enet_coordinate_descent_gram(\n",
      "C:\\Users\\beyra\\anaconda3\\Lib\\site-packages\\sklearn\\linear_model\\_coordinate_descent.py:683: ConvergenceWarning: Objective did not converge. You might want to increase the number of iterations. Duality gap: 7120638.716576172, tolerance: 3617.313788867113\n",
      "  model = cd_fast.enet_coordinate_descent_gram(\n",
      "C:\\Users\\beyra\\anaconda3\\Lib\\site-packages\\sklearn\\linear_model\\_coordinate_descent.py:683: ConvergenceWarning: Objective did not converge. You might want to increase the number of iterations. Duality gap: 7333370.77525859, tolerance: 3617.313788867113\n",
      "  model = cd_fast.enet_coordinate_descent_gram(\n",
      "C:\\Users\\beyra\\anaconda3\\Lib\\site-packages\\sklearn\\linear_model\\_coordinate_descent.py:683: ConvergenceWarning: Objective did not converge. You might want to increase the number of iterations. Duality gap: 7414553.817692949, tolerance: 3617.313788867113\n",
      "  model = cd_fast.enet_coordinate_descent_gram(\n",
      "C:\\Users\\beyra\\anaconda3\\Lib\\site-packages\\sklearn\\linear_model\\_coordinate_descent.py:683: ConvergenceWarning: Objective did not converge. You might want to increase the number of iterations. Duality gap: 7443957.252790831, tolerance: 3617.313788867113\n",
      "  model = cd_fast.enet_coordinate_descent_gram(\n",
      "C:\\Users\\beyra\\anaconda3\\Lib\\site-packages\\sklearn\\linear_model\\_coordinate_descent.py:683: ConvergenceWarning: Objective did not converge. You might want to increase the number of iterations. Duality gap: 7439651.711420614, tolerance: 3617.313788867113\n",
      "  model = cd_fast.enet_coordinate_descent_gram(\n",
      "C:\\Users\\beyra\\anaconda3\\Lib\\site-packages\\sklearn\\linear_model\\_coordinate_descent.py:683: ConvergenceWarning: Objective did not converge. You might want to increase the number of iterations. Duality gap: 7404015.091460004, tolerance: 3617.313788867113\n",
      "  model = cd_fast.enet_coordinate_descent_gram(\n",
      "C:\\Users\\beyra\\anaconda3\\Lib\\site-packages\\sklearn\\linear_model\\_coordinate_descent.py:683: ConvergenceWarning: Objective did not converge. You might want to increase the number of iterations. Duality gap: 7326382.330539681, tolerance: 3617.313788867113\n",
      "  model = cd_fast.enet_coordinate_descent_gram(\n",
      "C:\\Users\\beyra\\anaconda3\\Lib\\site-packages\\sklearn\\linear_model\\_coordinate_descent.py:683: ConvergenceWarning: Objective did not converge. You might want to increase the number of iterations. Duality gap: 7167831.003812485, tolerance: 3617.313788867113\n",
      "  model = cd_fast.enet_coordinate_descent_gram(\n",
      "C:\\Users\\beyra\\anaconda3\\Lib\\site-packages\\sklearn\\linear_model\\_coordinate_descent.py:683: ConvergenceWarning: Objective did not converge. You might want to increase the number of iterations. Duality gap: 6772597.150481815, tolerance: 3617.313788867113\n",
      "  model = cd_fast.enet_coordinate_descent_gram(\n",
      "C:\\Users\\beyra\\anaconda3\\Lib\\site-packages\\sklearn\\linear_model\\_coordinate_descent.py:683: ConvergenceWarning: Objective did not converge. You might want to increase the number of iterations. Duality gap: 4619307.088247119, tolerance: 3617.313788867113\n",
      "  model = cd_fast.enet_coordinate_descent_gram(\n",
      "C:\\Users\\beyra\\anaconda3\\Lib\\site-packages\\sklearn\\linear_model\\_coordinate_descent.py:683: ConvergenceWarning: Objective did not converge. You might want to increase the number of iterations. Duality gap: 5534121.516924973, tolerance: 3617.313788867113\n",
      "  model = cd_fast.enet_coordinate_descent_gram(\n",
      "C:\\Users\\beyra\\anaconda3\\Lib\\site-packages\\sklearn\\linear_model\\_coordinate_descent.py:683: ConvergenceWarning: Objective did not converge. You might want to increase the number of iterations. Duality gap: 6869433.4264698895, tolerance: 3617.313788867113\n",
      "  model = cd_fast.enet_coordinate_descent_gram(\n",
      "C:\\Users\\beyra\\anaconda3\\Lib\\site-packages\\sklearn\\linear_model\\_coordinate_descent.py:683: ConvergenceWarning: Objective did not converge. You might want to increase the number of iterations. Duality gap: 7182664.594906176, tolerance: 3617.313788867113\n",
      "  model = cd_fast.enet_coordinate_descent_gram(\n",
      "C:\\Users\\beyra\\anaconda3\\Lib\\site-packages\\sklearn\\linear_model\\_coordinate_descent.py:683: ConvergenceWarning: Objective did not converge. You might want to increase the number of iterations. Duality gap: 7315966.546564814, tolerance: 3617.313788867113\n",
      "  model = cd_fast.enet_coordinate_descent_gram(\n",
      "C:\\Users\\beyra\\anaconda3\\Lib\\site-packages\\sklearn\\linear_model\\_coordinate_descent.py:683: ConvergenceWarning: Objective did not converge. You might want to increase the number of iterations. Duality gap: 7386668.745001176, tolerance: 3617.313788867113\n",
      "  model = cd_fast.enet_coordinate_descent_gram(\n",
      "C:\\Users\\beyra\\anaconda3\\Lib\\site-packages\\sklearn\\linear_model\\_coordinate_descent.py:683: ConvergenceWarning: Objective did not converge. You might want to increase the number of iterations. Duality gap: 11511.0983164832, tolerance: 3214.815928601271\n",
      "  model = cd_fast.enet_coordinate_descent_gram(\n",
      "C:\\Users\\beyra\\anaconda3\\Lib\\site-packages\\sklearn\\linear_model\\_coordinate_descent.py:683: ConvergenceWarning: Objective did not converge. You might want to increase the number of iterations. Duality gap: 81379.24525052495, tolerance: 3214.815928601271\n",
      "  model = cd_fast.enet_coordinate_descent_gram(\n",
      "C:\\Users\\beyra\\anaconda3\\Lib\\site-packages\\sklearn\\linear_model\\_coordinate_descent.py:683: ConvergenceWarning: Objective did not converge. You might want to increase the number of iterations. Duality gap: 241727.76598904468, tolerance: 3214.815928601271\n",
      "  model = cd_fast.enet_coordinate_descent_gram(\n",
      "C:\\Users\\beyra\\anaconda3\\Lib\\site-packages\\sklearn\\linear_model\\_coordinate_descent.py:683: ConvergenceWarning: Objective did not converge. You might want to increase the number of iterations. Duality gap: 680957.620527437, tolerance: 3214.815928601271\n",
      "  model = cd_fast.enet_coordinate_descent_gram(\n",
      "C:\\Users\\beyra\\anaconda3\\Lib\\site-packages\\sklearn\\linear_model\\_coordinate_descent.py:683: ConvergenceWarning: Objective did not converge. You might want to increase the number of iterations. Duality gap: 1638971.1936872592, tolerance: 3214.815928601271\n",
      "  model = cd_fast.enet_coordinate_descent_gram(\n",
      "C:\\Users\\beyra\\anaconda3\\Lib\\site-packages\\sklearn\\linear_model\\_coordinate_descent.py:683: ConvergenceWarning: Objective did not converge. You might want to increase the number of iterations. Duality gap: 2297235.3919235244, tolerance: 3214.815928601271\n",
      "  model = cd_fast.enet_coordinate_descent_gram(\n",
      "C:\\Users\\beyra\\anaconda3\\Lib\\site-packages\\sklearn\\linear_model\\_coordinate_descent.py:683: ConvergenceWarning: Objective did not converge. You might want to increase the number of iterations. Duality gap: 2818353.6094642933, tolerance: 3214.815928601271\n",
      "  model = cd_fast.enet_coordinate_descent_gram(\n",
      "C:\\Users\\beyra\\anaconda3\\Lib\\site-packages\\sklearn\\linear_model\\_coordinate_descent.py:683: ConvergenceWarning: Objective did not converge. You might want to increase the number of iterations. Duality gap: 3097616.624829361, tolerance: 3214.815928601271\n",
      "  model = cd_fast.enet_coordinate_descent_gram(\n",
      "C:\\Users\\beyra\\anaconda3\\Lib\\site-packages\\sklearn\\linear_model\\_coordinate_descent.py:683: ConvergenceWarning: Objective did not converge. You might want to increase the number of iterations. Duality gap: 3184180.1821559146, tolerance: 3214.815928601271\n",
      "  model = cd_fast.enet_coordinate_descent_gram(\n",
      "C:\\Users\\beyra\\anaconda3\\Lib\\site-packages\\sklearn\\linear_model\\_coordinate_descent.py:683: ConvergenceWarning: Objective did not converge. You might want to increase the number of iterations. Duality gap: 3031082.678190924, tolerance: 3214.815928601271\n",
      "  model = cd_fast.enet_coordinate_descent_gram(\n",
      "C:\\Users\\beyra\\anaconda3\\Lib\\site-packages\\sklearn\\linear_model\\_coordinate_descent.py:683: ConvergenceWarning: Objective did not converge. You might want to increase the number of iterations. Duality gap: 2463821.214104076, tolerance: 3214.815928601271\n",
      "  model = cd_fast.enet_coordinate_descent_gram(\n",
      "C:\\Users\\beyra\\anaconda3\\Lib\\site-packages\\sklearn\\linear_model\\_coordinate_descent.py:683: ConvergenceWarning: Objective did not converge. You might want to increase the number of iterations. Duality gap: 917192.3130147085, tolerance: 3214.815928601271\n",
      "  model = cd_fast.enet_coordinate_descent_gram(\n",
      "C:\\Users\\beyra\\anaconda3\\Lib\\site-packages\\sklearn\\linear_model\\_coordinate_descent.py:683: ConvergenceWarning: Objective did not converge. You might want to increase the number of iterations. Duality gap: 132457.0069635827, tolerance: 3214.815928601271\n",
      "  model = cd_fast.enet_coordinate_descent_gram(\n",
      "C:\\Users\\beyra\\anaconda3\\Lib\\site-packages\\sklearn\\linear_model\\_coordinate_descent.py:683: ConvergenceWarning: Objective did not converge. You might want to increase the number of iterations. Duality gap: 1852773.1209168453, tolerance: 3214.815928601271\n",
      "  model = cd_fast.enet_coordinate_descent_gram(\n",
      "C:\\Users\\beyra\\anaconda3\\Lib\\site-packages\\sklearn\\linear_model\\_coordinate_descent.py:683: ConvergenceWarning: Objective did not converge. You might want to increase the number of iterations. Duality gap: 4556079.459932921, tolerance: 3214.815928601271\n",
      "  model = cd_fast.enet_coordinate_descent_gram(\n",
      "C:\\Users\\beyra\\anaconda3\\Lib\\site-packages\\sklearn\\linear_model\\_coordinate_descent.py:683: ConvergenceWarning: Objective did not converge. You might want to increase the number of iterations. Duality gap: 5576668.584260934, tolerance: 3214.815928601271\n",
      "  model = cd_fast.enet_coordinate_descent_gram(\n",
      "C:\\Users\\beyra\\anaconda3\\Lib\\site-packages\\sklearn\\linear_model\\_coordinate_descent.py:683: ConvergenceWarning: Objective did not converge. You might want to increase the number of iterations. Duality gap: 6060811.212860653, tolerance: 3214.815928601271\n",
      "  model = cd_fast.enet_coordinate_descent_gram(\n",
      "C:\\Users\\beyra\\anaconda3\\Lib\\site-packages\\sklearn\\linear_model\\_coordinate_descent.py:683: ConvergenceWarning: Objective did not converge. You might want to increase the number of iterations. Duality gap: 6323270.553260562, tolerance: 3214.815928601271\n",
      "  model = cd_fast.enet_coordinate_descent_gram(\n",
      "C:\\Users\\beyra\\anaconda3\\Lib\\site-packages\\sklearn\\linear_model\\_coordinate_descent.py:683: ConvergenceWarning: Objective did not converge. You might want to increase the number of iterations. Duality gap: 6477932.480532015, tolerance: 3214.815928601271\n",
      "  model = cd_fast.enet_coordinate_descent_gram(\n",
      "C:\\Users\\beyra\\anaconda3\\Lib\\site-packages\\sklearn\\linear_model\\_coordinate_descent.py:683: ConvergenceWarning: Objective did not converge. You might want to increase the number of iterations. Duality gap: 6574695.78452158, tolerance: 3214.815928601271\n",
      "  model = cd_fast.enet_coordinate_descent_gram(\n",
      "C:\\Users\\beyra\\anaconda3\\Lib\\site-packages\\sklearn\\linear_model\\_coordinate_descent.py:683: ConvergenceWarning: Objective did not converge. You might want to increase the number of iterations. Duality gap: 6624598.960213475, tolerance: 3214.815928601271\n",
      "  model = cd_fast.enet_coordinate_descent_gram(\n",
      "C:\\Users\\beyra\\anaconda3\\Lib\\site-packages\\sklearn\\linear_model\\_coordinate_descent.py:683: ConvergenceWarning: Objective did not converge. You might want to increase the number of iterations. Duality gap: 6682253.44037112, tolerance: 3214.815928601271\n",
      "  model = cd_fast.enet_coordinate_descent_gram(\n",
      "C:\\Users\\beyra\\anaconda3\\Lib\\site-packages\\sklearn\\linear_model\\_coordinate_descent.py:683: ConvergenceWarning: Objective did not converge. You might want to increase the number of iterations. Duality gap: 6713509.804014574, tolerance: 3214.815928601271\n",
      "  model = cd_fast.enet_coordinate_descent_gram(\n",
      "C:\\Users\\beyra\\anaconda3\\Lib\\site-packages\\sklearn\\linear_model\\_coordinate_descent.py:683: ConvergenceWarning: Objective did not converge. You might want to increase the number of iterations. Duality gap: 6735111.156490448, tolerance: 3214.815928601271\n",
      "  model = cd_fast.enet_coordinate_descent_gram(\n",
      "C:\\Users\\beyra\\anaconda3\\Lib\\site-packages\\sklearn\\linear_model\\_coordinate_descent.py:683: ConvergenceWarning: Objective did not converge. You might want to increase the number of iterations. Duality gap: 6750665.369291314, tolerance: 3214.815928601271\n",
      "  model = cd_fast.enet_coordinate_descent_gram(\n",
      "C:\\Users\\beyra\\anaconda3\\Lib\\site-packages\\sklearn\\linear_model\\_coordinate_descent.py:683: ConvergenceWarning: Objective did not converge. You might want to increase the number of iterations. Duality gap: 6761964.209164281, tolerance: 3214.815928601271\n",
      "  model = cd_fast.enet_coordinate_descent_gram(\n",
      "C:\\Users\\beyra\\anaconda3\\Lib\\site-packages\\sklearn\\linear_model\\_coordinate_descent.py:683: ConvergenceWarning: Objective did not converge. You might want to increase the number of iterations. Duality gap: 6770192.132419337, tolerance: 3214.815928601271\n",
      "  model = cd_fast.enet_coordinate_descent_gram(\n",
      "C:\\Users\\beyra\\anaconda3\\Lib\\site-packages\\sklearn\\linear_model\\_coordinate_descent.py:683: ConvergenceWarning: Objective did not converge. You might want to increase the number of iterations. Duality gap: 6776191.462662852, tolerance: 3214.815928601271\n",
      "  model = cd_fast.enet_coordinate_descent_gram(\n",
      "C:\\Users\\beyra\\anaconda3\\Lib\\site-packages\\sklearn\\linear_model\\_coordinate_descent.py:683: ConvergenceWarning: Objective did not converge. You might want to increase the number of iterations. Duality gap: 6780573.481794715, tolerance: 3214.815928601271\n",
      "  model = cd_fast.enet_coordinate_descent_gram(\n",
      "C:\\Users\\beyra\\anaconda3\\Lib\\site-packages\\sklearn\\linear_model\\_coordinate_descent.py:683: ConvergenceWarning: Objective did not converge. You might want to increase the number of iterations. Duality gap: 6783782.767590368, tolerance: 3214.815928601271\n",
      "  model = cd_fast.enet_coordinate_descent_gram(\n",
      "C:\\Users\\beyra\\anaconda3\\Lib\\site-packages\\sklearn\\linear_model\\_coordinate_descent.py:683: ConvergenceWarning: Objective did not converge. You might want to increase the number of iterations. Duality gap: 6786141.360508483, tolerance: 3214.815928601271\n",
      "  model = cd_fast.enet_coordinate_descent_gram(\n",
      "C:\\Users\\beyra\\anaconda3\\Lib\\site-packages\\sklearn\\linear_model\\_coordinate_descent.py:683: ConvergenceWarning: Objective did not converge. You might want to increase the number of iterations. Duality gap: 6787881.557182016, tolerance: 3214.815928601271\n",
      "  model = cd_fast.enet_coordinate_descent_gram(\n",
      "C:\\Users\\beyra\\anaconda3\\Lib\\site-packages\\sklearn\\linear_model\\_coordinate_descent.py:683: ConvergenceWarning: Objective did not converge. You might want to increase the number of iterations. Duality gap: 20504.16991419904, tolerance: 3528.2752057703365\n",
      "  model = cd_fast.enet_coordinate_descent_gram(\n",
      "C:\\Users\\beyra\\anaconda3\\Lib\\site-packages\\sklearn\\linear_model\\_coordinate_descent.py:683: ConvergenceWarning: Objective did not converge. You might want to increase the number of iterations. Duality gap: 71606.78684959374, tolerance: 3528.2752057703365\n",
      "  model = cd_fast.enet_coordinate_descent_gram(\n",
      "C:\\Users\\beyra\\anaconda3\\Lib\\site-packages\\sklearn\\linear_model\\_coordinate_descent.py:683: ConvergenceWarning: Objective did not converge. You might want to increase the number of iterations. Duality gap: 122229.86726800539, tolerance: 3528.2752057703365\n",
      "  model = cd_fast.enet_coordinate_descent_gram(\n",
      "C:\\Users\\beyra\\anaconda3\\Lib\\site-packages\\sklearn\\linear_model\\_coordinate_descent.py:683: ConvergenceWarning: Objective did not converge. You might want to increase the number of iterations. Duality gap: 182682.98640394583, tolerance: 3528.2752057703365\n",
      "  model = cd_fast.enet_coordinate_descent_gram(\n",
      "C:\\Users\\beyra\\anaconda3\\Lib\\site-packages\\sklearn\\linear_model\\_coordinate_descent.py:683: ConvergenceWarning: Objective did not converge. You might want to increase the number of iterations. Duality gap: 249424.51343278773, tolerance: 3528.2752057703365\n",
      "  model = cd_fast.enet_coordinate_descent_gram(\n",
      "C:\\Users\\beyra\\anaconda3\\Lib\\site-packages\\sklearn\\linear_model\\_coordinate_descent.py:683: ConvergenceWarning: Objective did not converge. You might want to increase the number of iterations. Duality gap: 1123238.6079598218, tolerance: 3528.2752057703365\n",
      "  model = cd_fast.enet_coordinate_descent_gram(\n",
      "C:\\Users\\beyra\\anaconda3\\Lib\\site-packages\\sklearn\\linear_model\\_coordinate_descent.py:683: ConvergenceWarning: Objective did not converge. You might want to increase the number of iterations. Duality gap: 2148501.197944071, tolerance: 3528.2752057703365\n",
      "  model = cd_fast.enet_coordinate_descent_gram(\n",
      "C:\\Users\\beyra\\anaconda3\\Lib\\site-packages\\sklearn\\linear_model\\_coordinate_descent.py:683: ConvergenceWarning: Objective did not converge. You might want to increase the number of iterations. Duality gap: 2745746.2902135886, tolerance: 3528.2752057703365\n",
      "  model = cd_fast.enet_coordinate_descent_gram(\n",
      "C:\\Users\\beyra\\anaconda3\\Lib\\site-packages\\sklearn\\linear_model\\_coordinate_descent.py:683: ConvergenceWarning: Objective did not converge. You might want to increase the number of iterations. Duality gap: 3153414.0200413233, tolerance: 3528.2752057703365\n",
      "  model = cd_fast.enet_coordinate_descent_gram(\n",
      "C:\\Users\\beyra\\anaconda3\\Lib\\site-packages\\sklearn\\linear_model\\_coordinate_descent.py:683: ConvergenceWarning: Objective did not converge. You might want to increase the number of iterations. Duality gap: 3392561.370748738, tolerance: 3528.2752057703365\n",
      "  model = cd_fast.enet_coordinate_descent_gram(\n",
      "C:\\Users\\beyra\\anaconda3\\Lib\\site-packages\\sklearn\\linear_model\\_coordinate_descent.py:683: ConvergenceWarning: Objective did not converge. You might want to increase the number of iterations. Duality gap: 3445739.3632615367, tolerance: 3528.2752057703365\n",
      "  model = cd_fast.enet_coordinate_descent_gram(\n",
      "C:\\Users\\beyra\\anaconda3\\Lib\\site-packages\\sklearn\\linear_model\\_coordinate_descent.py:683: ConvergenceWarning: Objective did not converge. You might want to increase the number of iterations. Duality gap: 3235674.159280248, tolerance: 3528.2752057703365\n",
      "  model = cd_fast.enet_coordinate_descent_gram(\n",
      "C:\\Users\\beyra\\anaconda3\\Lib\\site-packages\\sklearn\\linear_model\\_coordinate_descent.py:683: ConvergenceWarning: Objective did not converge. You might want to increase the number of iterations. Duality gap: 2517427.12740048, tolerance: 3528.2752057703365\n",
      "  model = cd_fast.enet_coordinate_descent_gram(\n",
      "C:\\Users\\beyra\\anaconda3\\Lib\\site-packages\\sklearn\\linear_model\\_coordinate_descent.py:683: ConvergenceWarning: Objective did not converge. You might want to increase the number of iterations. Duality gap: 520968.4355529286, tolerance: 3528.2752057703365\n",
      "  model = cd_fast.enet_coordinate_descent_gram(\n",
      "C:\\Users\\beyra\\anaconda3\\Lib\\site-packages\\sklearn\\linear_model\\_coordinate_descent.py:683: ConvergenceWarning: Objective did not converge. You might want to increase the number of iterations. Duality gap: 56213.69234215096, tolerance: 3528.2752057703365\n",
      "  model = cd_fast.enet_coordinate_descent_gram(\n",
      "C:\\Users\\beyra\\anaconda3\\Lib\\site-packages\\sklearn\\linear_model\\_coordinate_descent.py:683: ConvergenceWarning: Objective did not converge. You might want to increase the number of iterations. Duality gap: 3271147.037411439, tolerance: 3528.2752057703365\n",
      "  model = cd_fast.enet_coordinate_descent_gram(\n",
      "C:\\Users\\beyra\\anaconda3\\Lib\\site-packages\\sklearn\\linear_model\\_coordinate_descent.py:683: ConvergenceWarning: Objective did not converge. You might want to increase the number of iterations. Duality gap: 5516096.032217082, tolerance: 3528.2752057703365\n",
      "  model = cd_fast.enet_coordinate_descent_gram(\n",
      "C:\\Users\\beyra\\anaconda3\\Lib\\site-packages\\sklearn\\linear_model\\_coordinate_descent.py:683: ConvergenceWarning: Objective did not converge. You might want to increase the number of iterations. Duality gap: 6385036.321091702, tolerance: 3528.2752057703365\n",
      "  model = cd_fast.enet_coordinate_descent_gram(\n",
      "C:\\Users\\beyra\\anaconda3\\Lib\\site-packages\\sklearn\\linear_model\\_coordinate_descent.py:683: ConvergenceWarning: Objective did not converge. You might want to increase the number of iterations. Duality gap: 6810502.566067314, tolerance: 3528.2752057703365\n",
      "  model = cd_fast.enet_coordinate_descent_gram(\n",
      "C:\\Users\\beyra\\anaconda3\\Lib\\site-packages\\sklearn\\linear_model\\_coordinate_descent.py:683: ConvergenceWarning: Objective did not converge. You might want to increase the number of iterations. Duality gap: 7023285.982386812, tolerance: 3528.2752057703365\n",
      "  model = cd_fast.enet_coordinate_descent_gram(\n",
      "C:\\Users\\beyra\\anaconda3\\Lib\\site-packages\\sklearn\\linear_model\\_coordinate_descent.py:683: ConvergenceWarning: Objective did not converge. You might want to increase the number of iterations. Duality gap: 7152847.162934843, tolerance: 3528.2752057703365\n",
      "  model = cd_fast.enet_coordinate_descent_gram(\n",
      "C:\\Users\\beyra\\anaconda3\\Lib\\site-packages\\sklearn\\linear_model\\_coordinate_descent.py:683: ConvergenceWarning: Objective did not converge. You might want to increase the number of iterations. Duality gap: 7232464.533640329, tolerance: 3528.2752057703365\n",
      "  model = cd_fast.enet_coordinate_descent_gram(\n",
      "C:\\Users\\beyra\\anaconda3\\Lib\\site-packages\\sklearn\\linear_model\\_coordinate_descent.py:683: ConvergenceWarning: Objective did not converge. You might want to increase the number of iterations. Duality gap: 7283621.304598928, tolerance: 3528.2752057703365\n",
      "  model = cd_fast.enet_coordinate_descent_gram(\n",
      "C:\\Users\\beyra\\anaconda3\\Lib\\site-packages\\sklearn\\linear_model\\_coordinate_descent.py:683: ConvergenceWarning: Objective did not converge. You might want to increase the number of iterations. Duality gap: 7317942.164409617, tolerance: 3528.2752057703365\n",
      "  model = cd_fast.enet_coordinate_descent_gram(\n",
      "C:\\Users\\beyra\\anaconda3\\Lib\\site-packages\\sklearn\\linear_model\\_coordinate_descent.py:683: ConvergenceWarning: Objective did not converge. You might want to increase the number of iterations. Duality gap: 7341835.157831795, tolerance: 3528.2752057703365\n",
      "  model = cd_fast.enet_coordinate_descent_gram(\n",
      "C:\\Users\\beyra\\anaconda3\\Lib\\site-packages\\sklearn\\linear_model\\_coordinate_descent.py:683: ConvergenceWarning: Objective did not converge. You might want to increase the number of iterations. Duality gap: 7358938.760339616, tolerance: 3528.2752057703365\n",
      "  model = cd_fast.enet_coordinate_descent_gram(\n",
      "C:\\Users\\beyra\\anaconda3\\Lib\\site-packages\\sklearn\\linear_model\\_coordinate_descent.py:683: ConvergenceWarning: Objective did not converge. You might want to increase the number of iterations. Duality gap: 7364032.720770527, tolerance: 3528.2752057703365\n",
      "  model = cd_fast.enet_coordinate_descent_gram(\n",
      "C:\\Users\\beyra\\anaconda3\\Lib\\site-packages\\sklearn\\linear_model\\_coordinate_descent.py:683: ConvergenceWarning: Objective did not converge. You might want to increase the number of iterations. Duality gap: 7381303.94389493, tolerance: 3528.2752057703365\n",
      "  model = cd_fast.enet_coordinate_descent_gram(\n",
      "C:\\Users\\beyra\\anaconda3\\Lib\\site-packages\\sklearn\\linear_model\\_coordinate_descent.py:683: ConvergenceWarning: Objective did not converge. You might want to increase the number of iterations. Duality gap: 7388673.043735704, tolerance: 3528.2752057703365\n",
      "  model = cd_fast.enet_coordinate_descent_gram(\n",
      "C:\\Users\\beyra\\anaconda3\\Lib\\site-packages\\sklearn\\linear_model\\_coordinate_descent.py:683: ConvergenceWarning: Objective did not converge. You might want to increase the number of iterations. Duality gap: 7393671.591831142, tolerance: 3528.2752057703365\n",
      "  model = cd_fast.enet_coordinate_descent_gram(\n",
      "C:\\Users\\beyra\\anaconda3\\Lib\\site-packages\\sklearn\\linear_model\\_coordinate_descent.py:683: ConvergenceWarning: Objective did not converge. You might want to increase the number of iterations. Duality gap: 7397333.9920498, tolerance: 3528.2752057703365\n",
      "  model = cd_fast.enet_coordinate_descent_gram(\n",
      "C:\\Users\\beyra\\anaconda3\\Lib\\site-packages\\sklearn\\linear_model\\_coordinate_descent.py:683: ConvergenceWarning: Objective did not converge. You might want to increase the number of iterations. Duality gap: 7400049.191242169, tolerance: 3528.2752057703365\n",
      "  model = cd_fast.enet_coordinate_descent_gram(\n",
      "C:\\Users\\beyra\\anaconda3\\Lib\\site-packages\\sklearn\\linear_model\\_coordinate_descent.py:683: ConvergenceWarning: Objective did not converge. You might want to increase the number of iterations. Duality gap: 7402068.964339165, tolerance: 3528.2752057703365\n",
      "  model = cd_fast.enet_coordinate_descent_gram(\n",
      "C:\\Users\\beyra\\anaconda3\\Lib\\site-packages\\sklearn\\linear_model\\_coordinate_descent.py:683: ConvergenceWarning: Objective did not converge. You might want to increase the number of iterations. Duality gap: 7403575.105769517, tolerance: 3528.2752057703365\n",
      "  model = cd_fast.enet_coordinate_descent_gram(\n",
      "C:\\Users\\beyra\\anaconda3\\Lib\\site-packages\\sklearn\\linear_model\\_coordinate_descent.py:683: ConvergenceWarning: Objective did not converge. You might want to increase the number of iterations. Duality gap: 33665.311729032546, tolerance: 3453.938971338275\n",
      "  model = cd_fast.enet_coordinate_descent_gram(\n",
      "C:\\Users\\beyra\\anaconda3\\Lib\\site-packages\\sklearn\\linear_model\\_coordinate_descent.py:683: ConvergenceWarning: Objective did not converge. You might want to increase the number of iterations. Duality gap: 27693.86190949194, tolerance: 3453.938971338275\n",
      "  model = cd_fast.enet_coordinate_descent_gram(\n",
      "C:\\Users\\beyra\\anaconda3\\Lib\\site-packages\\sklearn\\linear_model\\_coordinate_descent.py:683: ConvergenceWarning: Objective did not converge. You might want to increase the number of iterations. Duality gap: 77056.5270232223, tolerance: 3453.938971338275\n",
      "  model = cd_fast.enet_coordinate_descent_gram(\n",
      "C:\\Users\\beyra\\anaconda3\\Lib\\site-packages\\sklearn\\linear_model\\_coordinate_descent.py:683: ConvergenceWarning: Objective did not converge. You might want to increase the number of iterations. Duality gap: 128742.79613501951, tolerance: 3453.938971338275\n",
      "  model = cd_fast.enet_coordinate_descent_gram(\n",
      "C:\\Users\\beyra\\anaconda3\\Lib\\site-packages\\sklearn\\linear_model\\_coordinate_descent.py:683: ConvergenceWarning: Objective did not converge. You might want to increase the number of iterations. Duality gap: 234841.1431740746, tolerance: 3453.938971338275\n",
      "  model = cd_fast.enet_coordinate_descent_gram(\n",
      "C:\\Users\\beyra\\anaconda3\\Lib\\site-packages\\sklearn\\linear_model\\_coordinate_descent.py:683: ConvergenceWarning: Objective did not converge. You might want to increase the number of iterations. Duality gap: 655320.7999163214, tolerance: 3453.938971338275\n",
      "  model = cd_fast.enet_coordinate_descent_gram(\n",
      "C:\\Users\\beyra\\anaconda3\\Lib\\site-packages\\sklearn\\linear_model\\_coordinate_descent.py:683: ConvergenceWarning: Objective did not converge. You might want to increase the number of iterations. Duality gap: 1585529.04025805, tolerance: 3453.938971338275\n",
      "  model = cd_fast.enet_coordinate_descent_gram(\n",
      "C:\\Users\\beyra\\anaconda3\\Lib\\site-packages\\sklearn\\linear_model\\_coordinate_descent.py:683: ConvergenceWarning: Objective did not converge. You might want to increase the number of iterations. Duality gap: 2359230.379324265, tolerance: 3453.938971338275\n",
      "  model = cd_fast.enet_coordinate_descent_gram(\n",
      "C:\\Users\\beyra\\anaconda3\\Lib\\site-packages\\sklearn\\linear_model\\_coordinate_descent.py:683: ConvergenceWarning: Objective did not converge. You might want to increase the number of iterations. Duality gap: 2943774.4831488226, tolerance: 3453.938971338275\n",
      "  model = cd_fast.enet_coordinate_descent_gram(\n",
      "C:\\Users\\beyra\\anaconda3\\Lib\\site-packages\\sklearn\\linear_model\\_coordinate_descent.py:683: ConvergenceWarning: Objective did not converge. You might want to increase the number of iterations. Duality gap: 3878962.382064688, tolerance: 3453.938971338275\n",
      "  model = cd_fast.enet_coordinate_descent_gram(\n",
      "C:\\Users\\beyra\\anaconda3\\Lib\\site-packages\\sklearn\\linear_model\\_coordinate_descent.py:683: ConvergenceWarning: Objective did not converge. You might want to increase the number of iterations. Duality gap: 4062263.5669619953, tolerance: 3453.938971338275\n",
      "  model = cd_fast.enet_coordinate_descent_gram(\n",
      "C:\\Users\\beyra\\anaconda3\\Lib\\site-packages\\sklearn\\linear_model\\_coordinate_descent.py:683: ConvergenceWarning: Objective did not converge. You might want to increase the number of iterations. Duality gap: 4058048.0887896623, tolerance: 3453.938971338275\n",
      "  model = cd_fast.enet_coordinate_descent_gram(\n",
      "C:\\Users\\beyra\\anaconda3\\Lib\\site-packages\\sklearn\\linear_model\\_coordinate_descent.py:683: ConvergenceWarning: Objective did not converge. You might want to increase the number of iterations. Duality gap: 3711498.0180124715, tolerance: 3453.938971338275\n",
      "  model = cd_fast.enet_coordinate_descent_gram(\n",
      "C:\\Users\\beyra\\anaconda3\\Lib\\site-packages\\sklearn\\linear_model\\_coordinate_descent.py:683: ConvergenceWarning: Objective did not converge. You might want to increase the number of iterations. Duality gap: 2542575.8822430596, tolerance: 3453.938971338275\n",
      "  model = cd_fast.enet_coordinate_descent_gram(\n",
      "C:\\Users\\beyra\\anaconda3\\Lib\\site-packages\\sklearn\\linear_model\\_coordinate_descent.py:683: ConvergenceWarning: Objective did not converge. You might want to increase the number of iterations. Duality gap: 220218.34141226672, tolerance: 3453.938971338275\n",
      "  model = cd_fast.enet_coordinate_descent_gram(\n",
      "C:\\Users\\beyra\\anaconda3\\Lib\\site-packages\\sklearn\\linear_model\\_coordinate_descent.py:683: ConvergenceWarning: Objective did not converge. You might want to increase the number of iterations. Duality gap: 1865508.5293669747, tolerance: 3453.938971338275\n",
      "  model = cd_fast.enet_coordinate_descent_gram(\n",
      "C:\\Users\\beyra\\anaconda3\\Lib\\site-packages\\sklearn\\linear_model\\_coordinate_descent.py:683: ConvergenceWarning: Objective did not converge. You might want to increase the number of iterations. Duality gap: 5578616.625460562, tolerance: 3453.938971338275\n",
      "  model = cd_fast.enet_coordinate_descent_gram(\n",
      "C:\\Users\\beyra\\anaconda3\\Lib\\site-packages\\sklearn\\linear_model\\_coordinate_descent.py:683: ConvergenceWarning: Objective did not converge. You might want to increase the number of iterations. Duality gap: 6542007.226268814, tolerance: 3453.938971338275\n",
      "  model = cd_fast.enet_coordinate_descent_gram(\n",
      "C:\\Users\\beyra\\anaconda3\\Lib\\site-packages\\sklearn\\linear_model\\_coordinate_descent.py:683: ConvergenceWarning: Objective did not converge. You might want to increase the number of iterations. Duality gap: 7017443.548816886, tolerance: 3453.938971338275\n",
      "  model = cd_fast.enet_coordinate_descent_gram(\n",
      "C:\\Users\\beyra\\anaconda3\\Lib\\site-packages\\sklearn\\linear_model\\_coordinate_descent.py:683: ConvergenceWarning: Objective did not converge. You might want to increase the number of iterations. Duality gap: 7257492.535844745, tolerance: 3453.938971338275\n",
      "  model = cd_fast.enet_coordinate_descent_gram(\n",
      "C:\\Users\\beyra\\anaconda3\\Lib\\site-packages\\sklearn\\linear_model\\_coordinate_descent.py:683: ConvergenceWarning: Objective did not converge. You might want to increase the number of iterations. Duality gap: 7388367.454924778, tolerance: 3453.938971338275\n",
      "  model = cd_fast.enet_coordinate_descent_gram(\n",
      "C:\\Users\\beyra\\anaconda3\\Lib\\site-packages\\sklearn\\linear_model\\_coordinate_descent.py:683: ConvergenceWarning: Objective did not converge. You might want to increase the number of iterations. Duality gap: 7463707.915237729, tolerance: 3453.938971338275\n",
      "  model = cd_fast.enet_coordinate_descent_gram(\n",
      "C:\\Users\\beyra\\anaconda3\\Lib\\site-packages\\sklearn\\linear_model\\_coordinate_descent.py:683: ConvergenceWarning: Objective did not converge. You might want to increase the number of iterations. Duality gap: 7494212.161913168, tolerance: 3453.938971338275\n",
      "  model = cd_fast.enet_coordinate_descent_gram(\n",
      "C:\\Users\\beyra\\anaconda3\\Lib\\site-packages\\sklearn\\linear_model\\_coordinate_descent.py:683: ConvergenceWarning: Objective did not converge. You might want to increase the number of iterations. Duality gap: 7537511.397124533, tolerance: 3453.938971338275\n",
      "  model = cd_fast.enet_coordinate_descent_gram(\n",
      "C:\\Users\\beyra\\anaconda3\\Lib\\site-packages\\sklearn\\linear_model\\_coordinate_descent.py:683: ConvergenceWarning: Objective did not converge. You might want to increase the number of iterations. Duality gap: 7556544.730590502, tolerance: 3453.938971338275\n",
      "  model = cd_fast.enet_coordinate_descent_gram(\n",
      "C:\\Users\\beyra\\anaconda3\\Lib\\site-packages\\sklearn\\linear_model\\_coordinate_descent.py:683: ConvergenceWarning: Objective did not converge. You might want to increase the number of iterations. Duality gap: 7568392.79954789, tolerance: 3453.938971338275\n",
      "  model = cd_fast.enet_coordinate_descent_gram(\n",
      "C:\\Users\\beyra\\anaconda3\\Lib\\site-packages\\sklearn\\linear_model\\_coordinate_descent.py:683: ConvergenceWarning: Objective did not converge. You might want to increase the number of iterations. Duality gap: 7576252.732440106, tolerance: 3453.938971338275\n",
      "  model = cd_fast.enet_coordinate_descent_gram(\n",
      "C:\\Users\\beyra\\anaconda3\\Lib\\site-packages\\sklearn\\linear_model\\_coordinate_descent.py:683: ConvergenceWarning: Objective did not converge. You might want to increase the number of iterations. Duality gap: 7581520.4395293705, tolerance: 3453.938971338275\n",
      "  model = cd_fast.enet_coordinate_descent_gram(\n",
      "C:\\Users\\beyra\\anaconda3\\Lib\\site-packages\\sklearn\\linear_model\\_coordinate_descent.py:683: ConvergenceWarning: Objective did not converge. You might want to increase the number of iterations. Duality gap: 7585036.025408924, tolerance: 3453.938971338275\n",
      "  model = cd_fast.enet_coordinate_descent_gram(\n",
      "C:\\Users\\beyra\\anaconda3\\Lib\\site-packages\\sklearn\\linear_model\\_coordinate_descent.py:683: ConvergenceWarning: Objective did not converge. You might want to increase the number of iterations. Duality gap: 7587359.901776553, tolerance: 3453.938971338275\n",
      "  model = cd_fast.enet_coordinate_descent_gram(\n",
      "C:\\Users\\beyra\\anaconda3\\Lib\\site-packages\\sklearn\\linear_model\\_coordinate_descent.py:683: ConvergenceWarning: Objective did not converge. You might want to increase the number of iterations. Duality gap: 7588880.142556172, tolerance: 3453.938971338275\n",
      "  model = cd_fast.enet_coordinate_descent_gram(\n",
      "C:\\Users\\beyra\\anaconda3\\Lib\\site-packages\\sklearn\\linear_model\\_coordinate_descent.py:683: ConvergenceWarning: Objective did not converge. You might want to increase the number of iterations. Duality gap: 7589866.422528704, tolerance: 3453.938971338275\n",
      "  model = cd_fast.enet_coordinate_descent_gram(\n",
      "C:\\Users\\beyra\\anaconda3\\Lib\\site-packages\\sklearn\\linear_model\\_coordinate_descent.py:683: ConvergenceWarning: Objective did not converge. You might want to increase the number of iterations. Duality gap: 7590503.358444108, tolerance: 3453.938971338275\n",
      "  model = cd_fast.enet_coordinate_descent_gram(\n",
      "C:\\Users\\beyra\\anaconda3\\Lib\\site-packages\\sklearn\\linear_model\\_coordinate_descent.py:683: ConvergenceWarning: Objective did not converge. You might want to increase the number of iterations. Duality gap: 7590914.623313636, tolerance: 3453.938971338275\n",
      "  model = cd_fast.enet_coordinate_descent_gram(\n",
      "C:\\Users\\beyra\\anaconda3\\Lib\\site-packages\\sklearn\\linear_model\\_coordinate_descent.py:683: ConvergenceWarning: Objective did not converge. You might want to increase the number of iterations. Duality gap: 7591181.31525208, tolerance: 3453.938971338275\n",
      "  model = cd_fast.enet_coordinate_descent_gram(\n",
      "C:\\Users\\beyra\\anaconda3\\Lib\\site-packages\\sklearn\\linear_model\\_coordinate_descent.py:683: ConvergenceWarning: Objective did not converge. You might want to increase the number of iterations. Duality gap: 51104.90978973918, tolerance: 3582.448344789122\n",
      "  model = cd_fast.enet_coordinate_descent_gram(\n",
      "C:\\Users\\beyra\\anaconda3\\Lib\\site-packages\\sklearn\\linear_model\\_coordinate_descent.py:683: ConvergenceWarning: Objective did not converge. You might want to increase the number of iterations. Duality gap: 86001.20425458252, tolerance: 3582.448344789122\n",
      "  model = cd_fast.enet_coordinate_descent_gram(\n",
      "C:\\Users\\beyra\\anaconda3\\Lib\\site-packages\\sklearn\\linear_model\\_coordinate_descent.py:683: ConvergenceWarning: Objective did not converge. You might want to increase the number of iterations. Duality gap: 124299.87196545303, tolerance: 3582.448344789122\n",
      "  model = cd_fast.enet_coordinate_descent_gram(\n",
      "C:\\Users\\beyra\\anaconda3\\Lib\\site-packages\\sklearn\\linear_model\\_coordinate_descent.py:683: ConvergenceWarning: Objective did not converge. You might want to increase the number of iterations. Duality gap: 163171.28449575417, tolerance: 3582.448344789122\n",
      "  model = cd_fast.enet_coordinate_descent_gram(\n",
      "C:\\Users\\beyra\\anaconda3\\Lib\\site-packages\\sklearn\\linear_model\\_coordinate_descent.py:683: ConvergenceWarning: Objective did not converge. You might want to increase the number of iterations. Duality gap: 199613.01595005207, tolerance: 3582.448344789122\n",
      "  model = cd_fast.enet_coordinate_descent_gram(\n",
      "C:\\Users\\beyra\\anaconda3\\Lib\\site-packages\\sklearn\\linear_model\\_coordinate_descent.py:683: ConvergenceWarning: Objective did not converge. You might want to increase the number of iterations. Duality gap: 226297.5911155399, tolerance: 3582.448344789122\n",
      "  model = cd_fast.enet_coordinate_descent_gram(\n",
      "C:\\Users\\beyra\\anaconda3\\Lib\\site-packages\\sklearn\\linear_model\\_coordinate_descent.py:683: ConvergenceWarning: Objective did not converge. You might want to increase the number of iterations. Duality gap: 236325.48316738196, tolerance: 3582.448344789122\n",
      "  model = cd_fast.enet_coordinate_descent_gram(\n",
      "C:\\Users\\beyra\\anaconda3\\Lib\\site-packages\\sklearn\\linear_model\\_coordinate_descent.py:683: ConvergenceWarning: Objective did not converge. You might want to increase the number of iterations. Duality gap: 222091.50732542947, tolerance: 3582.448344789122\n",
      "  model = cd_fast.enet_coordinate_descent_gram(\n",
      "C:\\Users\\beyra\\anaconda3\\Lib\\site-packages\\sklearn\\linear_model\\_coordinate_descent.py:683: ConvergenceWarning: Objective did not converge. You might want to increase the number of iterations. Duality gap: 175489.4566457048, tolerance: 3582.448344789122\n",
      "  model = cd_fast.enet_coordinate_descent_gram(\n",
      "C:\\Users\\beyra\\anaconda3\\Lib\\site-packages\\sklearn\\linear_model\\_coordinate_descent.py:683: ConvergenceWarning: Objective did not converge. You might want to increase the number of iterations. Duality gap: 92900.06610787846, tolerance: 3582.448344789122\n",
      "  model = cd_fast.enet_coordinate_descent_gram(\n",
      "C:\\Users\\beyra\\anaconda3\\Lib\\site-packages\\sklearn\\linear_model\\_coordinate_descent.py:683: ConvergenceWarning: Objective did not converge. You might want to increase the number of iterations. Duality gap: 5688.245660264045, tolerance: 3582.448344789122\n",
      "  model = cd_fast.enet_coordinate_descent_gram(\n",
      "C:\\Users\\beyra\\anaconda3\\Lib\\site-packages\\sklearn\\linear_model\\_coordinate_descent.py:683: ConvergenceWarning: Objective did not converge. You might want to increase the number of iterations. Duality gap: 2438817.706028723, tolerance: 3582.448344789122\n",
      "  model = cd_fast.enet_coordinate_descent_gram(\n",
      "C:\\Users\\beyra\\anaconda3\\Lib\\site-packages\\sklearn\\linear_model\\_coordinate_descent.py:683: ConvergenceWarning: Objective did not converge. You might want to increase the number of iterations. Duality gap: 4551640.487847078, tolerance: 3582.448344789122\n",
      "  model = cd_fast.enet_coordinate_descent_gram(\n",
      "C:\\Users\\beyra\\anaconda3\\Lib\\site-packages\\sklearn\\linear_model\\_coordinate_descent.py:683: ConvergenceWarning: Objective did not converge. You might want to increase the number of iterations. Duality gap: 5666781.231299258, tolerance: 3582.448344789122\n",
      "  model = cd_fast.enet_coordinate_descent_gram(\n",
      "C:\\Users\\beyra\\anaconda3\\Lib\\site-packages\\sklearn\\linear_model\\_coordinate_descent.py:683: ConvergenceWarning: Objective did not converge. You might want to increase the number of iterations. Duality gap: 6274516.978979558, tolerance: 3582.448344789122\n",
      "  model = cd_fast.enet_coordinate_descent_gram(\n",
      "C:\\Users\\beyra\\anaconda3\\Lib\\site-packages\\sklearn\\linear_model\\_coordinate_descent.py:683: ConvergenceWarning: Objective did not converge. You might want to increase the number of iterations. Duality gap: 6618924.0503383465, tolerance: 3582.448344789122\n",
      "  model = cd_fast.enet_coordinate_descent_gram(\n",
      "C:\\Users\\beyra\\anaconda3\\Lib\\site-packages\\sklearn\\linear_model\\_coordinate_descent.py:683: ConvergenceWarning: Objective did not converge. You might want to increase the number of iterations. Duality gap: 6819925.0218894435, tolerance: 3582.448344789122\n",
      "  model = cd_fast.enet_coordinate_descent_gram(\n",
      "C:\\Users\\beyra\\anaconda3\\Lib\\site-packages\\sklearn\\linear_model\\_coordinate_descent.py:683: ConvergenceWarning: Objective did not converge. You might want to increase the number of iterations. Duality gap: 6939888.740351037, tolerance: 3582.448344789122\n",
      "  model = cd_fast.enet_coordinate_descent_gram(\n",
      "C:\\Users\\beyra\\anaconda3\\Lib\\site-packages\\sklearn\\linear_model\\_coordinate_descent.py:683: ConvergenceWarning: Objective did not converge. You might want to increase the number of iterations. Duality gap: 7012853.650588693, tolerance: 3582.448344789122\n",
      "  model = cd_fast.enet_coordinate_descent_gram(\n",
      "C:\\Users\\beyra\\anaconda3\\Lib\\site-packages\\sklearn\\linear_model\\_coordinate_descent.py:683: ConvergenceWarning: Objective did not converge. You might want to increase the number of iterations. Duality gap: 7058050.445064513, tolerance: 3582.448344789122\n",
      "  model = cd_fast.enet_coordinate_descent_gram(\n",
      "C:\\Users\\beyra\\anaconda3\\Lib\\site-packages\\sklearn\\linear_model\\_coordinate_descent.py:683: ConvergenceWarning: Objective did not converge. You might want to increase the number of iterations. Duality gap: 7076979.857984132, tolerance: 3582.448344789122\n",
      "  model = cd_fast.enet_coordinate_descent_gram(\n",
      "C:\\Users\\beyra\\anaconda3\\Lib\\site-packages\\sklearn\\linear_model\\_coordinate_descent.py:683: ConvergenceWarning: Objective did not converge. You might want to increase the number of iterations. Duality gap: 7105751.217429922, tolerance: 3582.448344789122\n",
      "  model = cd_fast.enet_coordinate_descent_gram(\n",
      "C:\\Users\\beyra\\anaconda3\\Lib\\site-packages\\sklearn\\linear_model\\_coordinate_descent.py:683: ConvergenceWarning: Objective did not converge. You might want to increase the number of iterations. Duality gap: 7116703.7434232, tolerance: 3582.448344789122\n",
      "  model = cd_fast.enet_coordinate_descent_gram(\n",
      "C:\\Users\\beyra\\anaconda3\\Lib\\site-packages\\sklearn\\linear_model\\_coordinate_descent.py:683: ConvergenceWarning: Objective did not converge. You might want to increase the number of iterations. Duality gap: 7127849.608409534, tolerance: 3582.448344789122\n",
      "  model = cd_fast.enet_coordinate_descent_gram(\n",
      "C:\\Users\\beyra\\anaconda3\\Lib\\site-packages\\sklearn\\linear_model\\_coordinate_descent.py:683: ConvergenceWarning: Objective did not converge. You might want to increase the number of iterations. Duality gap: 7131404.055257557, tolerance: 3582.448344789122\n",
      "  model = cd_fast.enet_coordinate_descent_gram(\n",
      "C:\\Users\\beyra\\anaconda3\\Lib\\site-packages\\sklearn\\linear_model\\_coordinate_descent.py:683: ConvergenceWarning: Objective did not converge. You might want to increase the number of iterations. Duality gap: 7134893.576439641, tolerance: 3582.448344789122\n",
      "  model = cd_fast.enet_coordinate_descent_gram(\n",
      "C:\\Users\\beyra\\anaconda3\\Lib\\site-packages\\sklearn\\linear_model\\_coordinate_descent.py:683: ConvergenceWarning: Objective did not converge. You might want to increase the number of iterations. Duality gap: 7137346.992136836, tolerance: 3582.448344789122\n",
      "  model = cd_fast.enet_coordinate_descent_gram(\n",
      "C:\\Users\\beyra\\anaconda3\\Lib\\site-packages\\sklearn\\linear_model\\_coordinate_descent.py:683: ConvergenceWarning: Objective did not converge. You might want to increase the number of iterations. Duality gap: 7139015.1660527615, tolerance: 3582.448344789122\n",
      "  model = cd_fast.enet_coordinate_descent_gram(\n",
      "C:\\Users\\beyra\\anaconda3\\Lib\\site-packages\\sklearn\\linear_model\\_coordinate_descent.py:683: ConvergenceWarning: Objective did not converge. You might want to increase the number of iterations. Duality gap: 7140147.346129378, tolerance: 3582.448344789122\n",
      "  model = cd_fast.enet_coordinate_descent_gram(\n",
      "C:\\Users\\beyra\\anaconda3\\Lib\\site-packages\\sklearn\\linear_model\\_coordinate_descent.py:683: ConvergenceWarning: Objective did not converge. You might want to increase the number of iterations. Duality gap: 7140919.228940039, tolerance: 3582.448344789122\n",
      "  model = cd_fast.enet_coordinate_descent_gram(\n",
      "C:\\Users\\beyra\\anaconda3\\Lib\\site-packages\\sklearn\\linear_model\\_coordinate_descent.py:683: ConvergenceWarning: Objective did not converge. You might want to increase the number of iterations. Duality gap: 7141449.453756016, tolerance: 3582.448344789122\n",
      "  model = cd_fast.enet_coordinate_descent_gram(\n",
      "C:\\Users\\beyra\\anaconda3\\Lib\\site-packages\\sklearn\\linear_model\\_coordinate_descent.py:683: ConvergenceWarning: Objective did not converge. You might want to increase the number of iterations. Duality gap: 7141817.1857883325, tolerance: 3582.448344789122\n",
      "  model = cd_fast.enet_coordinate_descent_gram(\n",
      "C:\\Users\\beyra\\anaconda3\\Lib\\site-packages\\sklearn\\linear_model\\_coordinate_descent.py:683: ConvergenceWarning: Objective did not converge. You might want to increase the number of iterations. Duality gap: 4891.730606181547, tolerance: 3343.765513901127\n",
      "  model = cd_fast.enet_coordinate_descent_gram(\n",
      "C:\\Users\\beyra\\anaconda3\\Lib\\site-packages\\sklearn\\linear_model\\_coordinate_descent.py:683: ConvergenceWarning: Objective did not converge. You might want to increase the number of iterations. Duality gap: 21878.274465920404, tolerance: 3343.765513901127\n",
      "  model = cd_fast.enet_coordinate_descent_gram(\n",
      "C:\\Users\\beyra\\anaconda3\\Lib\\site-packages\\sklearn\\linear_model\\_coordinate_descent.py:683: ConvergenceWarning: Objective did not converge. You might want to increase the number of iterations. Duality gap: 56824.89523502439, tolerance: 3343.765513901127\n",
      "  model = cd_fast.enet_coordinate_descent_gram(\n",
      "C:\\Users\\beyra\\anaconda3\\Lib\\site-packages\\sklearn\\linear_model\\_coordinate_descent.py:683: ConvergenceWarning: Objective did not converge. You might want to increase the number of iterations. Duality gap: 200353.9185324721, tolerance: 3343.765513901127\n",
      "  model = cd_fast.enet_coordinate_descent_gram(\n",
      "C:\\Users\\beyra\\anaconda3\\Lib\\site-packages\\sklearn\\linear_model\\_coordinate_descent.py:683: ConvergenceWarning: Objective did not converge. You might want to increase the number of iterations. Duality gap: 342303.45623088256, tolerance: 3343.765513901127\n",
      "  model = cd_fast.enet_coordinate_descent_gram(\n",
      "C:\\Users\\beyra\\anaconda3\\Lib\\site-packages\\sklearn\\linear_model\\_coordinate_descent.py:683: ConvergenceWarning: Objective did not converge. You might want to increase the number of iterations. Duality gap: 531378.5045522843, tolerance: 3343.765513901127\n",
      "  model = cd_fast.enet_coordinate_descent_gram(\n",
      "C:\\Users\\beyra\\anaconda3\\Lib\\site-packages\\sklearn\\linear_model\\_coordinate_descent.py:683: ConvergenceWarning: Objective did not converge. You might want to increase the number of iterations. Duality gap: 1659301.3143616114, tolerance: 3343.765513901127\n",
      "  model = cd_fast.enet_coordinate_descent_gram(\n",
      "C:\\Users\\beyra\\anaconda3\\Lib\\site-packages\\sklearn\\linear_model\\_coordinate_descent.py:683: ConvergenceWarning: Objective did not converge. You might want to increase the number of iterations. Duality gap: 2711701.220661603, tolerance: 3343.765513901127\n",
      "  model = cd_fast.enet_coordinate_descent_gram(\n",
      "C:\\Users\\beyra\\anaconda3\\Lib\\site-packages\\sklearn\\linear_model\\_coordinate_descent.py:683: ConvergenceWarning: Objective did not converge. You might want to increase the number of iterations. Duality gap: 3504700.316692928, tolerance: 3343.765513901127\n",
      "  model = cd_fast.enet_coordinate_descent_gram(\n",
      "C:\\Users\\beyra\\anaconda3\\Lib\\site-packages\\sklearn\\linear_model\\_coordinate_descent.py:683: ConvergenceWarning: Objective did not converge. You might want to increase the number of iterations. Duality gap: 4070925.3226773883, tolerance: 3343.765513901127\n",
      "  model = cd_fast.enet_coordinate_descent_gram(\n",
      "C:\\Users\\beyra\\anaconda3\\Lib\\site-packages\\sklearn\\linear_model\\_coordinate_descent.py:683: ConvergenceWarning: Objective did not converge. You might want to increase the number of iterations. Duality gap: 4459448.6122050425, tolerance: 3343.765513901127\n",
      "  model = cd_fast.enet_coordinate_descent_gram(\n",
      "C:\\Users\\beyra\\anaconda3\\Lib\\site-packages\\sklearn\\linear_model\\_coordinate_descent.py:683: ConvergenceWarning: Objective did not converge. You might want to increase the number of iterations. Duality gap: 4704667.306876222, tolerance: 3343.765513901127\n",
      "  model = cd_fast.enet_coordinate_descent_gram(\n",
      "C:\\Users\\beyra\\anaconda3\\Lib\\site-packages\\sklearn\\linear_model\\_coordinate_descent.py:683: ConvergenceWarning: Objective did not converge. You might want to increase the number of iterations. Duality gap: 4821661.203887236, tolerance: 3343.765513901127\n",
      "  model = cd_fast.enet_coordinate_descent_gram(\n",
      "C:\\Users\\beyra\\anaconda3\\Lib\\site-packages\\sklearn\\linear_model\\_coordinate_descent.py:683: ConvergenceWarning: Objective did not converge. You might want to increase the number of iterations. Duality gap: 4799994.379247262, tolerance: 3343.765513901127\n",
      "  model = cd_fast.enet_coordinate_descent_gram(\n",
      "C:\\Users\\beyra\\anaconda3\\Lib\\site-packages\\sklearn\\linear_model\\_coordinate_descent.py:683: ConvergenceWarning: Objective did not converge. You might want to increase the number of iterations. Duality gap: 4581093.93026166, tolerance: 3343.765513901127\n",
      "  model = cd_fast.enet_coordinate_descent_gram(\n",
      "C:\\Users\\beyra\\anaconda3\\Lib\\site-packages\\sklearn\\linear_model\\_coordinate_descent.py:683: ConvergenceWarning: Objective did not converge. You might want to increase the number of iterations. Duality gap: 3967734.813141734, tolerance: 3343.765513901127\n",
      "  model = cd_fast.enet_coordinate_descent_gram(\n",
      "C:\\Users\\beyra\\anaconda3\\Lib\\site-packages\\sklearn\\linear_model\\_coordinate_descent.py:683: ConvergenceWarning: Objective did not converge. You might want to increase the number of iterations. Duality gap: 2125357.8455326064, tolerance: 3343.765513901127\n",
      "  model = cd_fast.enet_coordinate_descent_gram(\n",
      "C:\\Users\\beyra\\anaconda3\\Lib\\site-packages\\sklearn\\linear_model\\_coordinate_descent.py:683: ConvergenceWarning: Objective did not converge. You might want to increase the number of iterations. Duality gap: 155148.45689581335, tolerance: 3343.765513901127\n",
      "  model = cd_fast.enet_coordinate_descent_gram(\n",
      "C:\\Users\\beyra\\anaconda3\\Lib\\site-packages\\sklearn\\linear_model\\_coordinate_descent.py:683: ConvergenceWarning: Objective did not converge. You might want to increase the number of iterations. Duality gap: 3641768.385507973, tolerance: 3343.765513901127\n",
      "  model = cd_fast.enet_coordinate_descent_gram(\n",
      "C:\\Users\\beyra\\anaconda3\\Lib\\site-packages\\sklearn\\linear_model\\_coordinate_descent.py:683: ConvergenceWarning: Objective did not converge. You might want to increase the number of iterations. Duality gap: 5531980.263011496, tolerance: 3343.765513901127\n",
      "  model = cd_fast.enet_coordinate_descent_gram(\n",
      "C:\\Users\\beyra\\anaconda3\\Lib\\site-packages\\sklearn\\linear_model\\_coordinate_descent.py:683: ConvergenceWarning: Objective did not converge. You might want to increase the number of iterations. Duality gap: 6233312.054943108, tolerance: 3343.765513901127\n",
      "  model = cd_fast.enet_coordinate_descent_gram(\n",
      "C:\\Users\\beyra\\anaconda3\\Lib\\site-packages\\sklearn\\linear_model\\_coordinate_descent.py:683: ConvergenceWarning: Objective did not converge. You might want to increase the number of iterations. Duality gap: 6577908.212196434, tolerance: 3343.765513901127\n",
      "  model = cd_fast.enet_coordinate_descent_gram(\n",
      "C:\\Users\\beyra\\anaconda3\\Lib\\site-packages\\sklearn\\linear_model\\_coordinate_descent.py:683: ConvergenceWarning: Objective did not converge. You might want to increase the number of iterations. Duality gap: 6773934.301996223, tolerance: 3343.765513901127\n",
      "  model = cd_fast.enet_coordinate_descent_gram(\n",
      "C:\\Users\\beyra\\anaconda3\\Lib\\site-packages\\sklearn\\linear_model\\_coordinate_descent.py:683: ConvergenceWarning: Objective did not converge. You might want to increase the number of iterations. Duality gap: 6869192.626538355, tolerance: 3343.765513901127\n",
      "  model = cd_fast.enet_coordinate_descent_gram(\n",
      "C:\\Users\\beyra\\anaconda3\\Lib\\site-packages\\sklearn\\linear_model\\_coordinate_descent.py:683: ConvergenceWarning: Objective did not converge. You might want to increase the number of iterations. Duality gap: 6977555.601822717, tolerance: 3343.765513901127\n",
      "  model = cd_fast.enet_coordinate_descent_gram(\n",
      "C:\\Users\\beyra\\anaconda3\\Lib\\site-packages\\sklearn\\linear_model\\_coordinate_descent.py:683: ConvergenceWarning: Objective did not converge. You might want to increase the number of iterations. Duality gap: 7034830.798698068, tolerance: 3343.765513901127\n",
      "  model = cd_fast.enet_coordinate_descent_gram(\n",
      "C:\\Users\\beyra\\anaconda3\\Lib\\site-packages\\sklearn\\linear_model\\_coordinate_descent.py:683: ConvergenceWarning: Objective did not converge. You might want to increase the number of iterations. Duality gap: 7073919.740732288, tolerance: 3343.765513901127\n",
      "  model = cd_fast.enet_coordinate_descent_gram(\n",
      "C:\\Users\\beyra\\anaconda3\\Lib\\site-packages\\sklearn\\linear_model\\_coordinate_descent.py:683: ConvergenceWarning: Objective did not converge. You might want to increase the number of iterations. Duality gap: 7101814.537406338, tolerance: 3343.765513901127\n",
      "  model = cd_fast.enet_coordinate_descent_gram(\n",
      "C:\\Users\\beyra\\anaconda3\\Lib\\site-packages\\sklearn\\linear_model\\_coordinate_descent.py:683: ConvergenceWarning: Objective did not converge. You might want to increase the number of iterations. Duality gap: 7121974.106587102, tolerance: 3343.765513901127\n",
      "  model = cd_fast.enet_coordinate_descent_gram(\n",
      "C:\\Users\\beyra\\anaconda3\\Lib\\site-packages\\sklearn\\linear_model\\_coordinate_descent.py:683: ConvergenceWarning: Objective did not converge. You might want to increase the number of iterations. Duality gap: 7136638.084942227, tolerance: 3343.765513901127\n",
      "  model = cd_fast.enet_coordinate_descent_gram(\n",
      "C:\\Users\\beyra\\anaconda3\\Lib\\site-packages\\sklearn\\linear_model\\_coordinate_descent.py:683: ConvergenceWarning: Objective did not converge. You might want to increase the number of iterations. Duality gap: 7147356.820494305, tolerance: 3343.765513901127\n",
      "  model = cd_fast.enet_coordinate_descent_gram(\n",
      "C:\\Users\\beyra\\anaconda3\\Lib\\site-packages\\sklearn\\linear_model\\_coordinate_descent.py:683: ConvergenceWarning: Objective did not converge. You might want to increase the number of iterations. Duality gap: 7155226.87596013, tolerance: 3343.765513901127\n",
      "  model = cd_fast.enet_coordinate_descent_gram(\n",
      "C:\\Users\\beyra\\anaconda3\\Lib\\site-packages\\sklearn\\linear_model\\_coordinate_descent.py:683: ConvergenceWarning: Objective did not converge. You might want to increase the number of iterations. Duality gap: 7161030.440239577, tolerance: 3343.765513901127\n",
      "  model = cd_fast.enet_coordinate_descent_gram(\n",
      "C:\\Users\\beyra\\anaconda3\\Lib\\site-packages\\sklearn\\linear_model\\_coordinate_descent.py:683: ConvergenceWarning: Objective did not converge. You might want to increase the number of iterations. Duality gap: 7165327.89007644, tolerance: 3343.765513901127\n",
      "  model = cd_fast.enet_coordinate_descent_gram(\n",
      "C:\\Users\\beyra\\anaconda3\\Lib\\site-packages\\sklearn\\linear_model\\_coordinate_descent.py:683: ConvergenceWarning: Objective did not converge. You might want to increase the number of iterations. Duality gap: 7168522.24976429, tolerance: 3343.765513901127\n",
      "  model = cd_fast.enet_coordinate_descent_gram(\n",
      "C:\\Users\\beyra\\anaconda3\\Lib\\site-packages\\sklearn\\linear_model\\_coordinate_descent.py:683: ConvergenceWarning: Objective did not converge. You might want to increase the number of iterations. Duality gap: 16776.725253839046, tolerance: 3701.0815904731803\n",
      "  model = cd_fast.enet_coordinate_descent_gram(\n",
      "C:\\Users\\beyra\\anaconda3\\Lib\\site-packages\\sklearn\\linear_model\\_coordinate_descent.py:683: ConvergenceWarning: Objective did not converge. You might want to increase the number of iterations. Duality gap: 313915.672230104, tolerance: 3701.0815904731803\n",
      "  model = cd_fast.enet_coordinate_descent_gram(\n",
      "C:\\Users\\beyra\\anaconda3\\Lib\\site-packages\\sklearn\\linear_model\\_coordinate_descent.py:683: ConvergenceWarning: Objective did not converge. You might want to increase the number of iterations. Duality gap: 438819.2486120593, tolerance: 3701.0815904731803\n",
      "  model = cd_fast.enet_coordinate_descent_gram(\n",
      "C:\\Users\\beyra\\anaconda3\\Lib\\site-packages\\sklearn\\linear_model\\_coordinate_descent.py:683: ConvergenceWarning: Objective did not converge. You might want to increase the number of iterations. Duality gap: 903233.6312577911, tolerance: 3701.0815904731803\n",
      "  model = cd_fast.enet_coordinate_descent_gram(\n",
      "C:\\Users\\beyra\\anaconda3\\Lib\\site-packages\\sklearn\\linear_model\\_coordinate_descent.py:683: ConvergenceWarning: Objective did not converge. You might want to increase the number of iterations. Duality gap: 1444700.7936322168, tolerance: 3701.0815904731803\n",
      "  model = cd_fast.enet_coordinate_descent_gram(\n",
      "C:\\Users\\beyra\\anaconda3\\Lib\\site-packages\\sklearn\\linear_model\\_coordinate_descent.py:683: ConvergenceWarning: Objective did not converge. You might want to increase the number of iterations. Duality gap: 1710822.523845246, tolerance: 3701.0815904731803\n",
      "  model = cd_fast.enet_coordinate_descent_gram(\n",
      "C:\\Users\\beyra\\anaconda3\\Lib\\site-packages\\sklearn\\linear_model\\_coordinate_descent.py:683: ConvergenceWarning: Objective did not converge. You might want to increase the number of iterations. Duality gap: 1578407.468341099, tolerance: 3701.0815904731803\n",
      "  model = cd_fast.enet_coordinate_descent_gram(\n",
      "C:\\Users\\beyra\\anaconda3\\Lib\\site-packages\\sklearn\\linear_model\\_coordinate_descent.py:683: ConvergenceWarning: Objective did not converge. You might want to increase the number of iterations. Duality gap: 787482.675242696, tolerance: 3701.0815904731803\n",
      "  model = cd_fast.enet_coordinate_descent_gram(\n",
      "C:\\Users\\beyra\\anaconda3\\Lib\\site-packages\\sklearn\\linear_model\\_coordinate_descent.py:683: ConvergenceWarning: Objective did not converge. You might want to increase the number of iterations. Duality gap: 288554.6014449559, tolerance: 3701.0815904731803\n",
      "  model = cd_fast.enet_coordinate_descent_gram(\n",
      "C:\\Users\\beyra\\anaconda3\\Lib\\site-packages\\sklearn\\linear_model\\_coordinate_descent.py:683: ConvergenceWarning: Objective did not converge. You might want to increase the number of iterations. Duality gap: 16065.330012125894, tolerance: 3701.0815904731803\n",
      "  model = cd_fast.enet_coordinate_descent_gram(\n",
      "C:\\Users\\beyra\\anaconda3\\Lib\\site-packages\\sklearn\\linear_model\\_coordinate_descent.py:683: ConvergenceWarning: Objective did not converge. You might want to increase the number of iterations. Duality gap: 3295353.00457914, tolerance: 3701.0815904731803\n",
      "  model = cd_fast.enet_coordinate_descent_gram(\n",
      "C:\\Users\\beyra\\anaconda3\\Lib\\site-packages\\sklearn\\linear_model\\_coordinate_descent.py:683: ConvergenceWarning: Objective did not converge. You might want to increase the number of iterations. Duality gap: 5441477.643223294, tolerance: 3701.0815904731803\n",
      "  model = cd_fast.enet_coordinate_descent_gram(\n",
      "C:\\Users\\beyra\\anaconda3\\Lib\\site-packages\\sklearn\\linear_model\\_coordinate_descent.py:683: ConvergenceWarning: Objective did not converge. You might want to increase the number of iterations. Duality gap: 6368596.004347535, tolerance: 3701.0815904731803\n",
      "  model = cd_fast.enet_coordinate_descent_gram(\n",
      "C:\\Users\\beyra\\anaconda3\\Lib\\site-packages\\sklearn\\linear_model\\_coordinate_descent.py:683: ConvergenceWarning: Objective did not converge. You might want to increase the number of iterations. Duality gap: 6830870.436733022, tolerance: 3701.0815904731803\n",
      "  model = cd_fast.enet_coordinate_descent_gram(\n",
      "C:\\Users\\beyra\\anaconda3\\Lib\\site-packages\\sklearn\\linear_model\\_coordinate_descent.py:683: ConvergenceWarning: Objective did not converge. You might want to increase the number of iterations. Duality gap: 7082059.059667836, tolerance: 3701.0815904731803\n",
      "  model = cd_fast.enet_coordinate_descent_gram(\n",
      "C:\\Users\\beyra\\anaconda3\\Lib\\site-packages\\sklearn\\linear_model\\_coordinate_descent.py:683: ConvergenceWarning: Objective did not converge. You might want to increase the number of iterations. Duality gap: 7225920.736980108, tolerance: 3701.0815904731803\n",
      "  model = cd_fast.enet_coordinate_descent_gram(\n",
      "C:\\Users\\beyra\\anaconda3\\Lib\\site-packages\\sklearn\\linear_model\\_coordinate_descent.py:683: ConvergenceWarning: Objective did not converge. You might want to increase the number of iterations. Duality gap: 7311264.697035937, tolerance: 3701.0815904731803\n",
      "  model = cd_fast.enet_coordinate_descent_gram(\n",
      "C:\\Users\\beyra\\anaconda3\\Lib\\site-packages\\sklearn\\linear_model\\_coordinate_descent.py:683: ConvergenceWarning: Objective did not converge. You might want to increase the number of iterations. Duality gap: 7363290.948171462, tolerance: 3701.0815904731803\n",
      "  model = cd_fast.enet_coordinate_descent_gram(\n",
      "C:\\Users\\beyra\\anaconda3\\Lib\\site-packages\\sklearn\\linear_model\\_coordinate_descent.py:683: ConvergenceWarning: Objective did not converge. You might want to increase the number of iterations. Duality gap: 7395832.277020653, tolerance: 3701.0815904731803\n",
      "  model = cd_fast.enet_coordinate_descent_gram(\n",
      "C:\\Users\\beyra\\anaconda3\\Lib\\site-packages\\sklearn\\linear_model\\_coordinate_descent.py:683: ConvergenceWarning: Objective did not converge. You might want to increase the number of iterations. Duality gap: 7416780.639871296, tolerance: 3701.0815904731803\n",
      "  model = cd_fast.enet_coordinate_descent_gram(\n",
      "C:\\Users\\beyra\\anaconda3\\Lib\\site-packages\\sklearn\\linear_model\\_coordinate_descent.py:683: ConvergenceWarning: Objective did not converge. You might want to increase the number of iterations. Duality gap: 7430735.873540221, tolerance: 3701.0815904731803\n",
      "  model = cd_fast.enet_coordinate_descent_gram(\n",
      "C:\\Users\\beyra\\anaconda3\\Lib\\site-packages\\sklearn\\linear_model\\_coordinate_descent.py:683: ConvergenceWarning: Objective did not converge. You might want to increase the number of iterations. Duality gap: 7440400.532179858, tolerance: 3701.0815904731803\n",
      "  model = cd_fast.enet_coordinate_descent_gram(\n",
      "C:\\Users\\beyra\\anaconda3\\Lib\\site-packages\\sklearn\\linear_model\\_coordinate_descent.py:683: ConvergenceWarning: Objective did not converge. You might want to increase the number of iterations. Duality gap: 7447361.139122986, tolerance: 3701.0815904731803\n",
      "  model = cd_fast.enet_coordinate_descent_gram(\n",
      "C:\\Users\\beyra\\anaconda3\\Lib\\site-packages\\sklearn\\linear_model\\_coordinate_descent.py:683: ConvergenceWarning: Objective did not converge. You might want to increase the number of iterations. Duality gap: 7452547.105487168, tolerance: 3701.0815904731803\n",
      "  model = cd_fast.enet_coordinate_descent_gram(\n",
      "C:\\Users\\beyra\\anaconda3\\Lib\\site-packages\\sklearn\\linear_model\\_coordinate_descent.py:683: ConvergenceWarning: Objective did not converge. You might want to increase the number of iterations. Duality gap: 7453614.1173014315, tolerance: 3701.0815904731803\n",
      "  model = cd_fast.enet_coordinate_descent_gram(\n",
      "C:\\Users\\beyra\\anaconda3\\Lib\\site-packages\\sklearn\\linear_model\\_coordinate_descent.py:683: ConvergenceWarning: Objective did not converge. You might want to increase the number of iterations. Duality gap: 7459988.3832646245, tolerance: 3701.0815904731803\n",
      "  model = cd_fast.enet_coordinate_descent_gram(\n",
      "C:\\Users\\beyra\\anaconda3\\Lib\\site-packages\\sklearn\\linear_model\\_coordinate_descent.py:683: ConvergenceWarning: Objective did not converge. You might want to increase the number of iterations. Duality gap: 7462722.527503363, tolerance: 3701.0815904731803\n",
      "  model = cd_fast.enet_coordinate_descent_gram(\n",
      "C:\\Users\\beyra\\anaconda3\\Lib\\site-packages\\sklearn\\linear_model\\_coordinate_descent.py:683: ConvergenceWarning: Objective did not converge. You might want to increase the number of iterations. Duality gap: 7464625.655523484, tolerance: 3701.0815904731803\n",
      "  model = cd_fast.enet_coordinate_descent_gram(\n",
      "C:\\Users\\beyra\\anaconda3\\Lib\\site-packages\\sklearn\\linear_model\\_coordinate_descent.py:683: ConvergenceWarning: Objective did not converge. You might want to increase the number of iterations. Duality gap: 7466082.051420428, tolerance: 3701.0815904731803\n",
      "  model = cd_fast.enet_coordinate_descent_gram(\n",
      "C:\\Users\\beyra\\anaconda3\\Lib\\site-packages\\sklearn\\linear_model\\_coordinate_descent.py:683: ConvergenceWarning: Objective did not converge. You might want to increase the number of iterations. Duality gap: 7467208.533985039, tolerance: 3701.0815904731803\n",
      "  model = cd_fast.enet_coordinate_descent_gram(\n",
      "C:\\Users\\beyra\\anaconda3\\Lib\\site-packages\\sklearn\\linear_model\\_coordinate_descent.py:683: ConvergenceWarning: Objective did not converge. You might want to increase the number of iterations. Duality gap: 68689.9180195108, tolerance: 3693.906712970403\n",
      "  model = cd_fast.enet_coordinate_descent_gram(\n",
      "C:\\Users\\beyra\\anaconda3\\Lib\\site-packages\\sklearn\\linear_model\\_coordinate_descent.py:683: ConvergenceWarning: Objective did not converge. You might want to increase the number of iterations. Duality gap: 202989.70443871804, tolerance: 3693.906712970403\n",
      "  model = cd_fast.enet_coordinate_descent_gram(\n",
      "C:\\Users\\beyra\\anaconda3\\Lib\\site-packages\\sklearn\\linear_model\\_coordinate_descent.py:683: ConvergenceWarning: Objective did not converge. You might want to increase the number of iterations. Duality gap: 332828.8633746691, tolerance: 3693.906712970403\n",
      "  model = cd_fast.enet_coordinate_descent_gram(\n",
      "C:\\Users\\beyra\\anaconda3\\Lib\\site-packages\\sklearn\\linear_model\\_coordinate_descent.py:683: ConvergenceWarning: Objective did not converge. You might want to increase the number of iterations. Duality gap: 880949.4117733613, tolerance: 3693.906712970403\n",
      "  model = cd_fast.enet_coordinate_descent_gram(\n",
      "C:\\Users\\beyra\\anaconda3\\Lib\\site-packages\\sklearn\\linear_model\\_coordinate_descent.py:683: ConvergenceWarning: Objective did not converge. You might want to increase the number of iterations. Duality gap: 2098415.5445609633, tolerance: 3693.906712970403\n",
      "  model = cd_fast.enet_coordinate_descent_gram(\n",
      "C:\\Users\\beyra\\anaconda3\\Lib\\site-packages\\sklearn\\linear_model\\_coordinate_descent.py:683: ConvergenceWarning: Objective did not converge. You might want to increase the number of iterations. Duality gap: 3098659.2649220973, tolerance: 3693.906712970403\n",
      "  model = cd_fast.enet_coordinate_descent_gram(\n",
      "C:\\Users\\beyra\\anaconda3\\Lib\\site-packages\\sklearn\\linear_model\\_coordinate_descent.py:683: ConvergenceWarning: Objective did not converge. You might want to increase the number of iterations. Duality gap: 3817727.7539664702, tolerance: 3693.906712970403\n",
      "  model = cd_fast.enet_coordinate_descent_gram(\n",
      "C:\\Users\\beyra\\anaconda3\\Lib\\site-packages\\sklearn\\linear_model\\_coordinate_descent.py:683: ConvergenceWarning: Objective did not converge. You might want to increase the number of iterations. Duality gap: 4305199.304588195, tolerance: 3693.906712970403\n",
      "  model = cd_fast.enet_coordinate_descent_gram(\n",
      "C:\\Users\\beyra\\anaconda3\\Lib\\site-packages\\sklearn\\linear_model\\_coordinate_descent.py:683: ConvergenceWarning: Objective did not converge. You might want to increase the number of iterations. Duality gap: 4592808.143852996, tolerance: 3693.906712970403\n",
      "  model = cd_fast.enet_coordinate_descent_gram(\n",
      "C:\\Users\\beyra\\anaconda3\\Lib\\site-packages\\sklearn\\linear_model\\_coordinate_descent.py:683: ConvergenceWarning: Objective did not converge. You might want to increase the number of iterations. Duality gap: 4677254.1753109675, tolerance: 3693.906712970403\n",
      "  model = cd_fast.enet_coordinate_descent_gram(\n",
      "C:\\Users\\beyra\\anaconda3\\Lib\\site-packages\\sklearn\\linear_model\\_coordinate_descent.py:683: ConvergenceWarning: Objective did not converge. You might want to increase the number of iterations. Duality gap: 4487185.56376148, tolerance: 3693.906712970403\n",
      "  model = cd_fast.enet_coordinate_descent_gram(\n",
      "C:\\Users\\beyra\\anaconda3\\Lib\\site-packages\\sklearn\\linear_model\\_coordinate_descent.py:683: ConvergenceWarning: Objective did not converge. You might want to increase the number of iterations. Duality gap: 3736616.4224200696, tolerance: 3693.906712970403\n",
      "  model = cd_fast.enet_coordinate_descent_gram(\n",
      "C:\\Users\\beyra\\anaconda3\\Lib\\site-packages\\sklearn\\linear_model\\_coordinate_descent.py:683: ConvergenceWarning: Objective did not converge. You might want to increase the number of iterations. Duality gap: 1028870.751745278, tolerance: 3693.906712970403\n",
      "  model = cd_fast.enet_coordinate_descent_gram(\n",
      "C:\\Users\\beyra\\anaconda3\\Lib\\site-packages\\sklearn\\linear_model\\_coordinate_descent.py:683: ConvergenceWarning: Objective did not converge. You might want to increase the number of iterations. Duality gap: 56857.19376385212, tolerance: 3693.906712970403\n",
      "  model = cd_fast.enet_coordinate_descent_gram(\n",
      "C:\\Users\\beyra\\anaconda3\\Lib\\site-packages\\sklearn\\linear_model\\_coordinate_descent.py:683: ConvergenceWarning: Objective did not converge. You might want to increase the number of iterations. Duality gap: 5137785.242606707, tolerance: 3693.906712970403\n",
      "  model = cd_fast.enet_coordinate_descent_gram(\n",
      "C:\\Users\\beyra\\anaconda3\\Lib\\site-packages\\sklearn\\linear_model\\_coordinate_descent.py:683: ConvergenceWarning: Objective did not converge. You might want to increase the number of iterations. Duality gap: 6520863.618571589, tolerance: 3693.906712970403\n",
      "  model = cd_fast.enet_coordinate_descent_gram(\n",
      "C:\\Users\\beyra\\anaconda3\\Lib\\site-packages\\sklearn\\linear_model\\_coordinate_descent.py:683: ConvergenceWarning: Objective did not converge. You might want to increase the number of iterations. Duality gap: 7062855.429069478, tolerance: 3693.906712970403\n",
      "  model = cd_fast.enet_coordinate_descent_gram(\n",
      "C:\\Users\\beyra\\anaconda3\\Lib\\site-packages\\sklearn\\linear_model\\_coordinate_descent.py:683: ConvergenceWarning: Objective did not converge. You might want to increase the number of iterations. Duality gap: 7301030.614677952, tolerance: 3693.906712970403\n",
      "  model = cd_fast.enet_coordinate_descent_gram(\n",
      "C:\\Users\\beyra\\anaconda3\\Lib\\site-packages\\sklearn\\linear_model\\_coordinate_descent.py:683: ConvergenceWarning: Objective did not converge. You might want to increase the number of iterations. Duality gap: 7462897.773779529, tolerance: 3693.906712970403\n",
      "  model = cd_fast.enet_coordinate_descent_gram(\n",
      "C:\\Users\\beyra\\anaconda3\\Lib\\site-packages\\sklearn\\linear_model\\_coordinate_descent.py:683: ConvergenceWarning: Objective did not converge. You might want to increase the number of iterations. Duality gap: 7549964.39219373, tolerance: 3693.906712970403\n",
      "  model = cd_fast.enet_coordinate_descent_gram(\n",
      "C:\\Users\\beyra\\anaconda3\\Lib\\site-packages\\sklearn\\linear_model\\_coordinate_descent.py:683: ConvergenceWarning: Objective did not converge. You might want to increase the number of iterations. Duality gap: 7598803.374463493, tolerance: 3693.906712970403\n",
      "  model = cd_fast.enet_coordinate_descent_gram(\n",
      "C:\\Users\\beyra\\anaconda3\\Lib\\site-packages\\sklearn\\linear_model\\_coordinate_descent.py:683: ConvergenceWarning: Objective did not converge. You might want to increase the number of iterations. Duality gap: 7628772.888080965, tolerance: 3693.906712970403\n",
      "  model = cd_fast.enet_coordinate_descent_gram(\n",
      "C:\\Users\\beyra\\anaconda3\\Lib\\site-packages\\sklearn\\linear_model\\_coordinate_descent.py:683: ConvergenceWarning: Objective did not converge. You might want to increase the number of iterations. Duality gap: 7647769.367509173, tolerance: 3693.906712970403\n",
      "  model = cd_fast.enet_coordinate_descent_gram(\n",
      "C:\\Users\\beyra\\anaconda3\\Lib\\site-packages\\sklearn\\linear_model\\_coordinate_descent.py:683: ConvergenceWarning: Objective did not converge. You might want to increase the number of iterations. Duality gap: 7660037.809665365, tolerance: 3693.906712970403\n",
      "  model = cd_fast.enet_coordinate_descent_gram(\n",
      "C:\\Users\\beyra\\anaconda3\\Lib\\site-packages\\sklearn\\linear_model\\_coordinate_descent.py:683: ConvergenceWarning: Objective did not converge. You might want to increase the number of iterations. Duality gap: 7668031.832768395, tolerance: 3693.906712970403\n",
      "  model = cd_fast.enet_coordinate_descent_gram(\n",
      "C:\\Users\\beyra\\anaconda3\\Lib\\site-packages\\sklearn\\linear_model\\_coordinate_descent.py:683: ConvergenceWarning: Objective did not converge. You might want to increase the number of iterations. Duality gap: 7673234.957191989, tolerance: 3693.906712970403\n",
      "  model = cd_fast.enet_coordinate_descent_gram(\n",
      "C:\\Users\\beyra\\anaconda3\\Lib\\site-packages\\sklearn\\linear_model\\_coordinate_descent.py:683: ConvergenceWarning: Objective did not converge. You might want to increase the number of iterations. Duality gap: 7676587.922964374, tolerance: 3693.906712970403\n",
      "  model = cd_fast.enet_coordinate_descent_gram(\n",
      "C:\\Users\\beyra\\anaconda3\\Lib\\site-packages\\sklearn\\linear_model\\_coordinate_descent.py:683: ConvergenceWarning: Objective did not converge. You might want to increase the number of iterations. Duality gap: 7678713.422300695, tolerance: 3693.906712970403\n",
      "  model = cd_fast.enet_coordinate_descent_gram(\n",
      "C:\\Users\\beyra\\anaconda3\\Lib\\site-packages\\sklearn\\linear_model\\_coordinate_descent.py:683: ConvergenceWarning: Objective did not converge. You might want to increase the number of iterations. Duality gap: 7680033.84006947, tolerance: 3693.906712970403\n",
      "  model = cd_fast.enet_coordinate_descent_gram(\n",
      "C:\\Users\\beyra\\anaconda3\\Lib\\site-packages\\sklearn\\linear_model\\_coordinate_descent.py:683: ConvergenceWarning: Objective did not converge. You might want to increase the number of iterations. Duality gap: 7680836.232906896, tolerance: 3693.906712970403\n",
      "  model = cd_fast.enet_coordinate_descent_gram(\n",
      "C:\\Users\\beyra\\anaconda3\\Lib\\site-packages\\sklearn\\linear_model\\_coordinate_descent.py:683: ConvergenceWarning: Objective did not converge. You might want to increase the number of iterations. Duality gap: 7681312.766686389, tolerance: 3693.906712970403\n",
      "  model = cd_fast.enet_coordinate_descent_gram(\n",
      "C:\\Users\\beyra\\anaconda3\\Lib\\site-packages\\sklearn\\linear_model\\_coordinate_descent.py:683: ConvergenceWarning: Objective did not converge. You might want to increase the number of iterations. Duality gap: 7681589.052700175, tolerance: 3693.906712970403\n",
      "  model = cd_fast.enet_coordinate_descent_gram(\n",
      "C:\\Users\\beyra\\anaconda3\\Lib\\site-packages\\sklearn\\linear_model\\_coordinate_descent.py:683: ConvergenceWarning: Objective did not converge. You might want to increase the number of iterations. Duality gap: 7681745.057929939, tolerance: 3693.906712970403\n",
      "  model = cd_fast.enet_coordinate_descent_gram(\n",
      "C:\\Users\\beyra\\anaconda3\\Lib\\site-packages\\sklearn\\linear_model\\_coordinate_descent.py:683: ConvergenceWarning: Objective did not converge. You might want to increase the number of iterations. Duality gap: 41948.836880484596, tolerance: 3682.6494863364223\n",
      "  model = cd_fast.enet_coordinate_descent_gram(\n",
      "C:\\Users\\beyra\\anaconda3\\Lib\\site-packages\\sklearn\\linear_model\\_coordinate_descent.py:683: ConvergenceWarning: Objective did not converge. You might want to increase the number of iterations. Duality gap: 896764.1417589616, tolerance: 3682.6494863364223\n",
      "  model = cd_fast.enet_coordinate_descent_gram(\n",
      "C:\\Users\\beyra\\anaconda3\\Lib\\site-packages\\sklearn\\linear_model\\_coordinate_descent.py:683: ConvergenceWarning: Objective did not converge. You might want to increase the number of iterations. Duality gap: 2063539.3967211181, tolerance: 3682.6494863364223\n",
      "  model = cd_fast.enet_coordinate_descent_gram(\n",
      "C:\\Users\\beyra\\anaconda3\\Lib\\site-packages\\sklearn\\linear_model\\_coordinate_descent.py:683: ConvergenceWarning: Objective did not converge. You might want to increase the number of iterations. Duality gap: 3320899.4523036573, tolerance: 3682.6494863364223\n",
      "  model = cd_fast.enet_coordinate_descent_gram(\n",
      "C:\\Users\\beyra\\anaconda3\\Lib\\site-packages\\sklearn\\linear_model\\_coordinate_descent.py:683: ConvergenceWarning: Objective did not converge. You might want to increase the number of iterations. Duality gap: 4463993.915857503, tolerance: 3682.6494863364223\n",
      "  model = cd_fast.enet_coordinate_descent_gram(\n",
      "C:\\Users\\beyra\\anaconda3\\Lib\\site-packages\\sklearn\\linear_model\\_coordinate_descent.py:683: ConvergenceWarning: Objective did not converge. You might want to increase the number of iterations. Duality gap: 5375668.5897065215, tolerance: 3682.6494863364223\n",
      "  model = cd_fast.enet_coordinate_descent_gram(\n",
      "C:\\Users\\beyra\\anaconda3\\Lib\\site-packages\\sklearn\\linear_model\\_coordinate_descent.py:683: ConvergenceWarning: Objective did not converge. You might want to increase the number of iterations. Duality gap: 6228631.1254418725, tolerance: 3682.6494863364223\n",
      "  model = cd_fast.enet_coordinate_descent_gram(\n",
      "C:\\Users\\beyra\\anaconda3\\Lib\\site-packages\\sklearn\\linear_model\\_coordinate_descent.py:683: ConvergenceWarning: Objective did not converge. You might want to increase the number of iterations. Duality gap: 6520080.940849154, tolerance: 3682.6494863364223\n",
      "  model = cd_fast.enet_coordinate_descent_gram(\n",
      "C:\\Users\\beyra\\anaconda3\\Lib\\site-packages\\sklearn\\linear_model\\_coordinate_descent.py:683: ConvergenceWarning: Objective did not converge. You might want to increase the number of iterations. Duality gap: 6894283.3204174135, tolerance: 3682.6494863364223\n",
      "  model = cd_fast.enet_coordinate_descent_gram(\n",
      "C:\\Users\\beyra\\anaconda3\\Lib\\site-packages\\sklearn\\linear_model\\_coordinate_descent.py:683: ConvergenceWarning: Objective did not converge. You might want to increase the number of iterations. Duality gap: 7061780.991363612, tolerance: 3682.6494863364223\n",
      "  model = cd_fast.enet_coordinate_descent_gram(\n",
      "C:\\Users\\beyra\\anaconda3\\Lib\\site-packages\\sklearn\\linear_model\\_coordinate_descent.py:683: ConvergenceWarning: Objective did not converge. You might want to increase the number of iterations. Duality gap: 7159825.697039077, tolerance: 3682.6494863364223\n",
      "  model = cd_fast.enet_coordinate_descent_gram(\n",
      "C:\\Users\\beyra\\anaconda3\\Lib\\site-packages\\sklearn\\linear_model\\_coordinate_descent.py:683: ConvergenceWarning: Objective did not converge. You might want to increase the number of iterations. Duality gap: 7220550.20782385, tolerance: 3682.6494863364223\n",
      "  model = cd_fast.enet_coordinate_descent_gram(\n",
      "C:\\Users\\beyra\\anaconda3\\Lib\\site-packages\\sklearn\\linear_model\\_coordinate_descent.py:683: ConvergenceWarning: Objective did not converge. You might want to increase the number of iterations. Duality gap: 7258207.007664047, tolerance: 3682.6494863364223\n",
      "  model = cd_fast.enet_coordinate_descent_gram(\n",
      "C:\\Users\\beyra\\anaconda3\\Lib\\site-packages\\sklearn\\linear_model\\_coordinate_descent.py:683: ConvergenceWarning: Objective did not converge. You might want to increase the number of iterations. Duality gap: 7281265.425152925, tolerance: 3682.6494863364223\n",
      "  model = cd_fast.enet_coordinate_descent_gram(\n",
      "C:\\Users\\beyra\\anaconda3\\Lib\\site-packages\\sklearn\\linear_model\\_coordinate_descent.py:683: ConvergenceWarning: Objective did not converge. You might want to increase the number of iterations. Duality gap: 7294955.722813079, tolerance: 3682.6494863364223\n",
      "  model = cd_fast.enet_coordinate_descent_gram(\n",
      "C:\\Users\\beyra\\anaconda3\\Lib\\site-packages\\sklearn\\linear_model\\_coordinate_descent.py:683: ConvergenceWarning: Objective did not converge. You might want to increase the number of iterations. Duality gap: 7302573.404913258, tolerance: 3682.6494863364223\n",
      "  model = cd_fast.enet_coordinate_descent_gram(\n",
      "C:\\Users\\beyra\\anaconda3\\Lib\\site-packages\\sklearn\\linear_model\\_coordinate_descent.py:683: ConvergenceWarning: Objective did not converge. You might want to increase the number of iterations. Duality gap: 7306264.59871786, tolerance: 3682.6494863364223\n",
      "  model = cd_fast.enet_coordinate_descent_gram(\n",
      "C:\\Users\\beyra\\anaconda3\\Lib\\site-packages\\sklearn\\linear_model\\_coordinate_descent.py:683: ConvergenceWarning: Objective did not converge. You might want to increase the number of iterations. Duality gap: 7307479.599635567, tolerance: 3682.6494863364223\n",
      "  model = cd_fast.enet_coordinate_descent_gram(\n",
      "C:\\Users\\beyra\\anaconda3\\Lib\\site-packages\\sklearn\\linear_model\\_coordinate_descent.py:683: ConvergenceWarning: Objective did not converge. You might want to increase the number of iterations. Duality gap: 7307219.086584426, tolerance: 3682.6494863364223\n",
      "  model = cd_fast.enet_coordinate_descent_gram(\n",
      "C:\\Users\\beyra\\anaconda3\\Lib\\site-packages\\sklearn\\linear_model\\_coordinate_descent.py:683: ConvergenceWarning: Objective did not converge. You might want to increase the number of iterations. Duality gap: 7306167.637515623, tolerance: 3682.6494863364223\n",
      "  model = cd_fast.enet_coordinate_descent_gram(\n",
      "C:\\Users\\beyra\\anaconda3\\Lib\\site-packages\\sklearn\\linear_model\\_coordinate_descent.py:683: ConvergenceWarning: Objective did not converge. You might want to increase the number of iterations. Duality gap: 7304775.828049864, tolerance: 3682.6494863364223\n",
      "  model = cd_fast.enet_coordinate_descent_gram(\n",
      "C:\\Users\\beyra\\anaconda3\\Lib\\site-packages\\sklearn\\linear_model\\_coordinate_descent.py:683: ConvergenceWarning: Objective did not converge. You might want to increase the number of iterations. Duality gap: 7303321.303332781, tolerance: 3682.6494863364223\n",
      "  model = cd_fast.enet_coordinate_descent_gram(\n",
      "C:\\Users\\beyra\\anaconda3\\Lib\\site-packages\\sklearn\\linear_model\\_coordinate_descent.py:683: ConvergenceWarning: Objective did not converge. You might want to increase the number of iterations. Duality gap: 7301959.051363332, tolerance: 3682.6494863364223\n",
      "  model = cd_fast.enet_coordinate_descent_gram(\n",
      "C:\\Users\\beyra\\anaconda3\\Lib\\site-packages\\sklearn\\linear_model\\_coordinate_descent.py:683: ConvergenceWarning: Objective did not converge. You might want to increase the number of iterations. Duality gap: 7300762.32797255, tolerance: 3682.6494863364223\n",
      "  model = cd_fast.enet_coordinate_descent_gram(\n",
      "C:\\Users\\beyra\\anaconda3\\Lib\\site-packages\\sklearn\\linear_model\\_coordinate_descent.py:683: ConvergenceWarning: Objective did not converge. You might want to increase the number of iterations. Duality gap: 7299753.91772714, tolerance: 3682.6494863364223\n",
      "  model = cd_fast.enet_coordinate_descent_gram(\n"
     ]
    }
   ],
   "source": [
    "enet_cv_model= ElasticNetCV(alphas=alphas,cv=10).fit(X_train,y_train)"
   ]
  },
  {
   "cell_type": "code",
   "execution_count": 229,
   "id": "effdd24b-ffcc-49f5-835f-24b9d020d6fc",
   "metadata": {},
   "outputs": [
    {
     "data": {
      "text/plain": [
       "5748.784976988678"
      ]
     },
     "execution_count": 229,
     "metadata": {},
     "output_type": "execute_result"
    }
   ],
   "source": [
    "enet_cv_model.alpha_"
   ]
  },
  {
   "cell_type": "code",
   "execution_count": 232,
   "id": "d5ac32d5-89a3-481a-909d-c2ab1c72940d",
   "metadata": {},
   "outputs": [
    {
     "data": {
      "text/plain": [
       "array([ 0.61111381,  0.        ,  0.        ,  0.        ,  0.        ,\n",
       "        0.        , -0.        ,  0.        ,  0.11212622,  0.        ,\n",
       "        0.25252702,  0.18656722,  0.00444355,  0.30988823,  0.        ,\n",
       "       -0.        ,  0.        , -0.        ,  0.        ])"
      ]
     },
     "execution_count": 232,
     "metadata": {},
     "output_type": "execute_result"
    }
   ],
   "source": [
    "enet_cv_model.coef_\n"
   ]
  },
  {
   "cell_type": "code",
   "execution_count": 233,
   "id": "ae522b2f-d481-405a-935a-0b1758f68375",
   "metadata": {},
   "outputs": [
    {
     "data": {
      "text/plain": [
       "-31.463121225640975"
      ]
     },
     "execution_count": 233,
     "metadata": {},
     "output_type": "execute_result"
    }
   ],
   "source": [
    "enet_cv_model.intercept_\n"
   ]
  },
  {
   "cell_type": "code",
   "execution_count": 236,
   "id": "12c689aa-7ac0-4676-baf3-61ea8e43f526",
   "metadata": {},
   "outputs": [],
   "source": [
    "# final modeli\n",
    "\n",
    "enet_tuned=ElasticNet(alpha=enet_cv_model.alpha_).fit(X_train,y_train)"
   ]
  },
  {
   "cell_type": "code",
   "execution_count": 238,
   "id": "1e8c4edd-780b-4575-afd3-0b1b62d12fb2",
   "metadata": {},
   "outputs": [],
   "source": [
    "y_pred=enet_tuned.predict(X_test)"
   ]
  },
  {
   "cell_type": "code",
   "execution_count": 239,
   "id": "a69ea414-344d-4017-8a64-df46c71b0412",
   "metadata": {},
   "outputs": [
    {
     "data": {
      "text/plain": [
       "393.9753065850553"
      ]
     },
     "execution_count": 239,
     "metadata": {},
     "output_type": "execute_result"
    }
   ],
   "source": [
    "np.sqrt(mean_squared_error(y_test,y_pred))"
   ]
  },
  {
   "cell_type": "code",
   "execution_count": null,
   "id": "36ee2946-c8b0-410a-9780-80a1b1b38ecc",
   "metadata": {
    "collapsed": true,
    "jupyter": {
     "outputs_hidden": true
    }
   },
   "outputs": [],
   "source": []
  },
  {
   "cell_type": "code",
   "execution_count": null,
   "id": "3c652471-bc41-424a-8a46-47be9a7f043d",
   "metadata": {},
   "outputs": [],
   "source": []
  },
  {
   "cell_type": "code",
   "execution_count": null,
   "id": "2616ddaa-148e-4dd7-86ee-39cfdddd78f3",
   "metadata": {},
   "outputs": [],
   "source": []
  }
 ],
 "metadata": {
  "kernelspec": {
   "display_name": "Python 3 (ipykernel)",
   "language": "python",
   "name": "python3"
  },
  "language_info": {
   "codemirror_mode": {
    "name": "ipython",
    "version": 3
   },
   "file_extension": ".py",
   "mimetype": "text/x-python",
   "name": "python",
   "nbconvert_exporter": "python",
   "pygments_lexer": "ipython3",
   "version": "3.12.7"
  },
  "panel-cell-order": [
   "bb118372-92a6-47dc-be13-d2177738e7d9",
   "57cf60e6-66bc-473e-8f0d-c0e46194901c",
   "a89bbe4a-ff62-4816-a64a-71d3e98d89d9",
   "641835dc-c6a6-4bbc-b105-afe6d94e5492",
   "a8468eaa-3c0a-4d9d-9e55-aec3779686f4",
   "12db09fc-2c5f-4454-be3c-4596d17b58ad",
   "4ee41be8-1609-4916-8565-0db5dae4e845",
   "8c41fe7a-c773-4c5d-bcaf-01c5de6aca23",
   "69c5e285-ab26-4649-be6f-2facc04f0e49",
   "56f7308b-99a8-4b4d-ae8b-d6be6486f348",
   "e3ba639f-4b6c-435e-9dd2-361f78643b09"
  ]
 },
 "nbformat": 4,
 "nbformat_minor": 5
}
